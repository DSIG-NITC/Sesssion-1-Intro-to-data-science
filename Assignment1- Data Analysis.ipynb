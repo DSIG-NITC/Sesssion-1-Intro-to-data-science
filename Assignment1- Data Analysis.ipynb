{
 "cells": [
  {
   "cell_type": "markdown",
   "metadata": {},
   "source": [
    "# Let's Football!"
   ]
  },
  {
   "cell_type": "markdown",
   "metadata": {},
   "source": [
    "**FIFA world cup** is the most widely viewed sporting event in the world having its latest 2018 Russian version attracted *3.5 billion* viewers. The matches were held between 14 June - 15 July. 32 teams competed in a total of 64 matches in 12 different stadiums. Deschamps' French team won the tournament thrashing Croatia **4-2** in the finals and *Modric* still bagging the *Golden Ball*\n",
    "\n",
    "**Fun fact**: *Global human population is estimated around 7.7 billion*"
   ]
  },
  {
   "cell_type": "markdown",
   "metadata": {},
   "source": [
    "### From text to Python"
   ]
  },
  {
   "cell_type": "markdown",
   "metadata": {},
   "source": [
    "We'll try to add the above **data** to _Python_"
   ]
  },
  {
   "cell_type": "code",
   "execution_count": 251,
   "metadata": {},
   "outputs": [
    {
     "name": "stdout",
     "output_type": "stream",
     "text": [
      "World Cup\n"
     ]
    }
   ],
   "source": [
    "event_name = 'World Cup'\n",
    "\n",
    "print(event_name)"
   ]
  },
  {
   "cell_type": "code",
   "execution_count": null,
   "metadata": {},
   "outputs": [],
   "source": [
    "# 1. String data - they go wrapped in quotes '' or \"\"\n",
    "host_organisation = 'FIFA'\n",
    "host_nation = 'Russia'\n",
    "winning_nation = 'France'\n",
    "\n",
    "# 2. Integer data \n",
    "version = 2018\n",
    "total_matches = 64\n",
    "total_venues = 12\n",
    "\n",
    "# 3. Float data - store decimal values\n",
    "total_viewers_billion = 3.5\n",
    "human_population_billion = 7.7"
   ]
  },
  {
   "cell_type": "markdown",
   "metadata": {},
   "source": [
    "<p style=\"font-size:16px;font-family:helvetica\">\n",
    "Manual collection of data like this gets tedious and boring easily. We'll look at how to automate the process to extract the required data\n",
    "</p>"
   ]
  },
  {
   "cell_type": "markdown",
   "metadata": {},
   "source": [
    "<hr>"
   ]
  },
  {
   "cell_type": "markdown",
   "metadata": {},
   "source": [
    "### Collecting Data"
   ]
  },
  {
   "cell_type": "code",
   "execution_count": 297,
   "metadata": {},
   "outputs": [],
   "source": [
    "###########################\n",
    "# IMPORT NECESSARY PACKAGES\n",
    "###########################\n",
    "\n",
    "# highly optimised calculations on large arrays\n",
    "import numpy as np\n",
    "\n",
    "# collection of functions to manipulate data\n",
    "import pandas as pd\n",
    "\n",
    "# base library in Python for plotting graphs\n",
    "# import matplotlib.pyplot as plt\n",
    "\n",
    "# for better visualizations\n",
    "# import seaborn as sns\n",
    "\n",
    "# for plotting on maps\n",
    "# from mpl_toolkits.basemap import Basemap\n",
    "\n",
    "# sending and receiving HTTP requests\n",
    "import requests\n",
    "\n",
    "# parsing html data \n",
    "import bs4\n",
    "from bs4 import BeautifulSoup as bsoup\n",
    "\n",
    "# for easy searching and replacing using regular expression\n",
    "import re\n",
    "\n",
    "# better dictionary\n",
    "from collections import defaultdict \n",
    "\n",
    "# pretty print values\n",
    "from pprint import pprint"
   ]
  },
  {
   "cell_type": "markdown",
   "metadata": {},
   "source": [
    "### Part 1: Get sample data"
   ]
  },
  {
   "cell_type": "markdown",
   "metadata": {},
   "source": [
    "We'll use Wikipedia article on [2018 FIFA World Cup](https://en.wikipedia.org/wiki/2018_FIFA_World_Cup) to get more data on the event\n",
    "\n",
    "> The *Art* of retrieving data from the web is **Web Scraping**\n"
   ]
  },
  {
   "cell_type": "code",
   "execution_count": 258,
   "metadata": {},
   "outputs": [
    {
     "name": "stdout",
     "output_type": "stream",
     "text": [
      "requests returned a <class 'requests.models.Response'> object\n",
      "text is a <class 'str'> object\n"
     ]
    }
   ],
   "source": [
    "## Get the wikipedia page's html content using Python\n",
    "## Pointers - https://realpython.com/python-requests/  \n",
    "\n",
    "import requests\n",
    "from bs4 import BeautifulSoup as bsoup\n",
    "\n",
    "# send an HTTP get request to the wikipiedia server for the required page\n",
    "html = requests.get('https://en.wikipedia.org/wiki/2018_FIFA_World_Cup')\n",
    "print(f\"requests returned a {type(html)} object\")\n",
    "\n",
    "# get string version of Response object returned by requests\n",
    "text = html.text\n",
    "print(f\"text is a {type(text)} object\")\n",
    "      \n",
    "# convert to a BeautifulSoup object for easy parsing\n",
    "soup = bsoup(text, 'html.parser')"
   ]
  },
  {
   "cell_type": "code",
   "execution_count": 444,
   "metadata": {
    "scrolled": true
   },
   "outputs": [],
   "source": [
    "# pretty print contents of the webpage\n",
    "print(soup.prettify())"
   ]
  },
  {
   "cell_type": "markdown",
   "metadata": {},
   "source": [
    "The window on far right has a quick overview - let's get that **DATA**\n",
    "\n",
    "<p align=\"center\" style=\"text-align:center\">\n",
    "  <img src=\"https://drive.google.com/uc?export=view&id=1XDoUcWBuiTwnBn_-cLvvuVXNI-N9SOTs\" alt=\"Wiki Home - 2018 Fifa WC\" width=\"720p\">\n",
    "</p>\n",
    "<p align=\"center\" style=\"text-align:center\"> Source: Wikipedia</p> \n",
    "\n",
    "Ok, we have the website and know where to *scrape* data from - How to do it?\n",
    "\n",
    "We'll analyze the website html. While you are at the wikipedia page, right-click on the window we need to collect data from  and select **Inspect**. The pop-up displays the HTML for the wikipedia page. \n",
    "\n",
    "\n",
    "<p align=\"center\" style=\"text-align:center\"> <b>Opening Developer Tools</b></p> \n",
    "<p align=\"center\" style=\"text-align:center\">\n",
    "  <img src=\"https://drive.google.com/uc?export=view&id=105CHEVsaUtU2iRPYSXCcb8rCQuGrTNaV\" alt=\"Wiki Home - 2018 Fifa WC\" >\n",
    "</p>\n",
    "\n",
    "<p align=\"center\" style=\"text-align:center\"><b>Data Highlighted</b></p> \n",
    "<p align=\"center\" style=\"text-align:center\">\n",
    "  <img src=\"https://drive.google.com/uc?export=view&id=1Iak8Bf5yB1Ni6KKZAqcZ-z90A60FBpDB\" alt=\"Wiki Home - 2018 Fifa WC\" >\n",
    "</p>\n",
    "\n",
    "<p align=\"center\" style=\"text-align:center\"> Source: Wikipedia</p> "
   ]
  },
  {
   "cell_type": "markdown",
   "metadata": {},
   "source": [
    "We need to identify the box somehow, we'll make use of the tags for this. When you hover over different tags in the developer window, the corresponding section of the webpage will light up. "
   ]
  },
  {
   "cell_type": "code",
   "execution_count": 445,
   "metadata": {},
   "outputs": [],
   "source": [
    "# TODO 1: Fill the 'attrs' parameter of 'soup.find method with the class of the <table> tag \n",
    "# that completely wraps the information box\n",
    "infobox = soup.find('table', attrs={'class': 'infobox vcalendar'})\n",
    "\n",
    "# infobox = soup.find('table', attrs={'class': ''})\n",
    "\n",
    "# prints the content of the information box\n",
    "print(infobox.prettify())"
   ]
  },
  {
   "cell_type": "markdown",
   "metadata": {},
   "source": [
    "<!-- <p align=\"center\" style=\"text-align:center\">\n",
    "  <img src=\"https://drive.google.com/uc?export=view&id=1XDoUcWBuiTwnBn_-cLvvuVXNI-N9SOTs\" alt=\"Wiki-home\" width=\"720p\">\n",
    "</p>\n",
    "<p align=\"center\"> Source: Wikipedia</p> -->\n",
    "\n",
    "\n"
   ]
  },
  {
   "cell_type": "code",
   "execution_count": 274,
   "metadata": {},
   "outputs": [
    {
     "name": "stdout",
     "output_type": "stream",
     "text": [
      "There are 22 <tr> tags in the html of the infobox \n",
      "\n",
      "{'Attendance': '3,031,768 (47,371 per match)',\n",
      " 'Best goalkeeper': ' Thibaut Courtois',\n",
      " 'Best player(s)': ' Luka Modrić',\n",
      " 'Best young player': ' Kylian Mbappé',\n",
      " 'Champions': ' France (2nd title)',\n",
      " 'Dates': '14 June – 15 July',\n",
      " 'Fair play award': ' Spain',\n",
      " 'Fourth place': ' England',\n",
      " 'Goals scored': '169 (2.64 per match)',\n",
      " 'Host country': 'Russia',\n",
      " 'Matches played': '64',\n",
      " 'Runners-up': ' Croatia',\n",
      " 'Teams': '32 (from 5 confederations)',\n",
      " 'Third place': ' Belgium',\n",
      " 'Top scorer(s)': ' Harry Kane (6 goals)',\n",
      " 'Venue(s)': '12 (in 11 host cities)'}\n"
     ]
    }
   ],
   "source": [
    "# there are multiple <tr> tags in html of the infobox, \n",
    "# the attribute-value pairs have <th>&<td> in their <tr>s\n",
    "# Host country : Russia , Host country is the attribute & Russia its value\n",
    "\n",
    "# TODO 2: complete the call to the find_all method for returning all the <tr> tags\n",
    "infobox_rows = infobox.find_all('tr')\n",
    "# infobox_rows = infobox.find_all('')\n",
    "\n",
    "\n",
    "print(f\"There are {len(infobox_rows)} <tr> tags in the html of the infobox \\n\")\n",
    "\n",
    "# create a dictionary to store attribute-value pairs, or key-value if you prefer\n",
    "infobox_data = {}\n",
    "\n",
    "''' \n",
    " Sample <tr> tag:\n",
    " \n",
    " <tr>\n",
    "    <th scope=\"row\">\n",
    "        Host country\n",
    "    </th>\n",
    "    <td>\n",
    "        Russia\n",
    "    </td>\n",
    " </tr>\n",
    "  \n",
    "  \n",
    " checking the content of 'infobox' you can see that \n",
    " <tr> tags with data in it has both <th> and <td> tags as its children\n",
    " attribute name is in <th> and attribute value in <td>\n",
    "'''\n",
    "\n",
    "# TODO3: Loop through 'infobox_rows'\n",
    "# for row in ... :\n",
    "for row in infobox_rows:\n",
    "    # check if both <th> and <td> tags are present\n",
    "    if row.th is not None and row.td is not None:\n",
    "        # get text content from the tags\n",
    "        attribute = row.th.text\n",
    "        value = row.td.text\n",
    "        \n",
    "        # some encoding stuff\n",
    "        # https://stackoverflow.com/a/11566398/9734484\n",
    "        attribute = attribute.replace('\\xa0', ' ')\n",
    "        value = value.replace('\\xa0', ' ')\n",
    "        \n",
    "        # TODO4: add to 'infobox_data' the data\n",
    "        # use attribute as key and value as value to the dictionary\n",
    "#         infobox_data[...] = ...\n",
    "        infobox_data[attribute] = value\n",
    "    \n",
    "    \n",
    "pprint(infobox_data)"
   ]
  },
  {
   "cell_type": "code",
   "execution_count": 8,
   "metadata": {},
   "outputs": [
    {
     "data": {
      "text/plain": [
       "'32 (from 5 confederations)'"
      ]
     },
     "execution_count": 8,
     "metadata": {},
     "output_type": "execute_result"
    }
   ],
   "source": [
    "# TODO 5: Print the value of the attribute 'Teams' from infobox_data\n",
    "# print(...)\n",
    "print(infobox_data['Teams'])"
   ]
  },
  {
   "cell_type": "code",
   "execution_count": 275,
   "metadata": {},
   "outputs": [
    {
     "name": "stdout",
     "output_type": "stream",
     "text": [
      "{\n",
      "  \"Host country\": \"Russia\",\n",
      "  \"Dates\": \"14 June \\u2013 15 July\",\n",
      "  \"Teams\": \"32 (from 5 confederations)\",\n",
      "  \"Venue(s)\": \"12 (in 11 host cities)\",\n",
      "  \"Champions\": \" France (2nd title)\",\n",
      "  \"Runners-up\": \" Croatia\",\n",
      "  \"Third place\": \" Belgium\",\n",
      "  \"Fourth place\": \" England\",\n",
      "  \"Matches played\": \"64\",\n",
      "  \"Goals scored\": \"169 (2.64 per match)\",\n",
      "  \"Attendance\": \"3,031,768 (47,371 per match)\",\n",
      "  \"Top scorer(s)\": \" Harry Kane (6 goals)\",\n",
      "  \"Best player(s)\": \" Luka Modri\\u0107\",\n",
      "  \"Best young player\": \" Kylian Mbapp\\u00e9\",\n",
      "  \"Best goalkeeper\": \" Thibaut Courtois\",\n",
      "  \"Fair play award\": \" Spain\"\n",
      "}\n"
     ]
    }
   ],
   "source": [
    "# json is a file format with a data representation similar to Python dicts\n",
    "# We'll save our infobox data into a json file on disk\n",
    "# https://realpython.com/python-json/\n",
    "import json\n",
    "\n",
    "# json.dumps - return Python string from JSON encoded data \n",
    "\n",
    "with open('data/infobox-data.json', 'w') as fp:\n",
    "    '''\n",
    "    json.dump(data, file_pointer) - save JSON encoded data into disk\n",
    "    \n",
    "    Input:\n",
    "        data - data to be stored\n",
    "        file_pointer - location to be stored\n",
    "        indent - indentation level to use\n",
    "    '''\n",
    "    json.dump(infobox_data, fp, indent=2)\n",
    "    \n",
    "del infobox_data\n",
    "\n",
    "\n",
    "# TODO 6: Fill arguments for the json.load() function call to load json data into infobox variable\n",
    "with open('data/infobox-data.json', 'r') as fp:\n",
    "    '''\n",
    "    # json.load(file_pointer) - load saved JSON encoded data from disk\n",
    "    \n",
    "    Input:\n",
    "        file_pointer - location to be read from\n",
    "    '''\n",
    "#     infobox_data  = json.load(...)\n",
    "    infobox_data  = json.load(fp)\n",
    "    \n",
    "    \n",
    "# TODO 7: save json data as a string with indentation 2\n",
    "# Fill arguments to json.dumps()\n",
    "# infobox_data_string = json.dumps(..., ...)\n",
    "infobox_data_string = json.dumps(infobox_data, indent=2)\n",
    "\n",
    "# print the contents\n",
    "print(infobox_data_string)"
   ]
  },
  {
   "cell_type": "markdown",
   "metadata": {},
   "source": [
    "### Part 2: Teams by confederation"
   ]
  },
  {
   "cell_type": "markdown",
   "metadata": {},
   "source": [
    "<p style=\"font-size:16px;font-family:helvetica\"> Let's get details of all teams that played the 2018 Fifa World Cup\n",
    "and the Confederation they represent</p>"
   ]
  },
  {
   "cell_type": "markdown",
   "metadata": {},
   "source": [
    "<p align=\"center\" style=\"text-align:center\">\n",
    "  <img src=\"https://drive.google.com/uc?export=view&id=1Uo2AnHRCDxPKDQivs_052lvBVHwaEPUx\" alt=\"Teams by confederation\" >\n",
    "</p>\n",
    "<p align=\"center\" style=\"text-align:center\"> Source: Wikipiedia </p>"
   ]
  },
  {
   "cell_type": "code",
   "execution_count": 279,
   "metadata": {},
   "outputs": [
    {
     "name": "stdout",
     "output_type": "stream",
     "text": [
      "3\n"
     ]
    }
   ],
   "source": [
    "# TODO 8: Find the class of the table that wraps the required data\n",
    "# multicol_tables = soup.find_all('table', attrs={'class':'...'})\n",
    "multicol_tables = soup.find_all('table', attrs={'class':'multicol'})\n",
    "\n",
    "# let's check if we got ourselves more than one table\n",
    "print(len(multicol_tables))"
   ]
  },
  {
   "cell_type": "code",
   "execution_count": 446,
   "metadata": {},
   "outputs": [],
   "source": [
    "# TODO 9: Print out each of the three tables we found\n",
    "# Find the index of the tabel for our data\n",
    "# idx = ...\n",
    "idx = 0\n",
    "print(multicol_tables[idx].prettify())"
   ]
  },
  {
   "cell_type": "code",
   "execution_count": null,
   "metadata": {},
   "outputs": [],
   "source": [
    "# save the table\n",
    "teams_by_confederation_table = multicol_tables[idx]"
   ]
  },
  {
   "cell_type": "markdown",
   "metadata": {},
   "source": [
    "#### Find confederation tags"
   ]
  },
  {
   "cell_type": "code",
   "execution_count": 285,
   "metadata": {},
   "outputs": [
    {
     "name": "stdout",
     "output_type": "stream",
     "text": [
      "<dl>\n",
      " <dt>\n",
      "  <a href=\"/wiki/2018_FIFA_World_Cup_qualification_(AFC)\" title=\"2018 FIFA World Cup qualification (AFC)\">\n",
      "   AFC\n",
      "  </a>\n",
      "  (5)\n",
      " </dt>\n",
      "</dl>\n",
      "\n"
     ]
    }
   ],
   "source": [
    "'''\n",
    "You can find all the confederation names are inside dl tags\n",
    "\n",
    "<dl>\n",
    "     <dt>\n",
    "          <a href=\"/wiki/2018_FIFA_World_Cup_qualification_(AFC)\" title=\"2018 FIFA World Cup qualification (AFC)\">\n",
    "           AFC\n",
    "          </a>\n",
    "          (5)\n",
    "     </dt>\n",
    "</dl\n",
    "''' \n",
    "\n",
    "# TODO 10: Use appropriate function to 'find all' <dl> tags in teams_by_confideration_table\n",
    "# confederation_tags = ...\n",
    "confederation_tags = teams_by_confederation_table.find_all('dl')\n",
    "\n",
    "print(confederation_tags[0].prettify())"
   ]
  },
  {
   "cell_type": "code",
   "execution_count": 294,
   "metadata": {},
   "outputs": [
    {
     "name": "stdout",
     "output_type": "stream",
     "text": [
      "AFC (5)\n"
     ]
    }
   ],
   "source": [
    "# print only the text inside the html \n",
    "print(confederation_tags[0].text)"
   ]
  },
  {
   "cell_type": "code",
   "execution_count": 304,
   "metadata": {},
   "outputs": [
    {
     "name": "stdout",
     "output_type": "stream",
     "text": [
      "AFC (5)\n",
      "CAF (5)\n",
      "CONCACAF (3)\n",
      "CONMEBOL (5)\n",
      "OFC (0)\n",
      "UEFA (14)\n"
     ]
    }
   ],
   "source": [
    "'''\n",
    "TODO 11: \n",
    "1. Loop through the confederation_tags list\n",
    "2. print text in each confederation tag\n",
    "\n",
    "Example output - \n",
    "\n",
    "AFC (5)\n",
    "CAF (5)\n",
    "CONCACAF (3)\n",
    "CONMEBOL (5)\n",
    "OFC (0)\n",
    "UEFA (14)\n",
    "\n",
    "'''\n",
    "\n",
    "# for tag in ...:\n",
    "#     print(...)\n",
    "    \n",
    "for tag in confederation_tags:\n",
    "    print(tag.text)\n",
    "    \n",
    "# TODO(Optional): Print the text in the tags using list comprehension\n",
    "# print([tag.text for tag in confederation_tags])"
   ]
  },
  {
   "cell_type": "markdown",
   "metadata": {},
   "source": [
    "#### Clean confederation names"
   ]
  },
  {
   "cell_type": "code",
   "execution_count": 306,
   "metadata": {},
   "outputs": [
    {
     "name": "stdout",
     "output_type": "stream",
     "text": [
      "AFC\n"
     ]
    }
   ],
   "source": [
    "from collections import defaultdict \n",
    "\n",
    "'''\n",
    "Remove from 'confederation_tags' extra details in the text data part from the Country name\n",
    "\n",
    "Input: AFC (5)\n",
    "Output: AFC\n",
    "'''\n",
    "\n",
    "confederation_text = \"AFC (5)\"\n",
    "\n",
    "\n",
    "def clean_confederation_text(text):\n",
    "    # TODO 12: Use appropriate string operation to SPLIT the name and the other info to list of two strings\n",
    "    # Input: \"AFC (5)\"\"\n",
    "    # Output: [\"AFC\", \"(5)\"]\n",
    "\n",
    "    # confederation_split = ...\n",
    "    confederation_split = text.split(\" \")\n",
    "\n",
    "\n",
    "    # TODO 13: Get the text string from the list\n",
    "    # confederation_cleaned = ...\n",
    "    confederation_cleaned = confederation_split[0]\n",
    "\n",
    "    return confederation_cleaned\n",
    "\n",
    "\n",
    "confederation_cleaned = clean_confederation_text(confederation_text)\n",
    "\n",
    "print(confederation_cleaned)"
   ]
  },
  {
   "cell_type": "code",
   "execution_count": 307,
   "metadata": {},
   "outputs": [
    {
     "name": "stdout",
     "output_type": "stream",
     "text": [
      "['AFC', 'CAF', 'CONCACAF', 'CONMEBOL', 'OFC', 'UEFA']\n"
     ]
    }
   ],
   "source": [
    "# TODO 14: Loop through all the confederation tags and save only the name part\n",
    "# You have to give as argument to the clean_confederation_text function the TEXT in tags\n",
    "\n",
    "# confederations = [clean_confederation_text(...) for tag in confederation_tags]\n",
    "confederations = [clean_confederation_text(tag.text) for tag in confederation_tags]\n",
    "\n",
    "print(confederations)"
   ]
  },
  {
   "cell_type": "markdown",
   "metadata": {},
   "source": [
    "#### Find list of teams in each confederation"
   ]
  },
  {
   "cell_type": "code",
   "execution_count": 320,
   "metadata": {},
   "outputs": [
    {
     "name": "stdout",
     "output_type": "stream",
     "text": [
      " Australia (36)\n",
      " Iran (37)\n",
      " Japan (61)\n",
      " Saudi Arabia (67)\n",
      " South Korea (57)\n"
     ]
    }
   ],
   "source": [
    "'''\n",
    "Info on teams in each confederation is in <ul> tag directly following\n",
    "the <dl> tag of the corresponding confederation\n",
    "\n",
    "TODO 15: Use appropriate function to 'find all' <ul> tags in teams_by_confideration_table\n",
    "'''\n",
    "\n",
    "# teams_list_tags = ...\n",
    "teams_list_tags = teams_by_confederation_table.find_all('ul')\n",
    "\n",
    "# print text in one of the teams list tag\n",
    "print(teams_list_tags[0].text)"
   ]
  },
  {
   "cell_type": "code",
   "execution_count": 447,
   "metadata": {},
   "outputs": [
    {
     "name": "stdout",
     "output_type": "stream",
     "text": [
      "[<a href=\"/wiki/Australia_national_soccer_team\" title=\"Australia national soccer team\">Australia</a>,\n",
      " <a href=\"/wiki/Iran_national_football_team\" title=\"Iran national football team\">Iran</a>,\n",
      " <a href=\"/wiki/Japan_national_football_team\" title=\"Japan national football team\">Japan</a>,\n",
      " <a href=\"/wiki/Saudi_Arabia_national_football_team\" title=\"Saudi Arabia national football team\">Saudi Arabia</a>,\n",
      " <a href=\"/wiki/South_Korea_national_football_team\" title=\"South Korea national football team\">South Korea</a>]\n"
     ]
    }
   ],
   "source": [
    "# Now we have a list with all teams in a confederation as a single entity\n",
    "# Let's split that too\n",
    "\n",
    "afc_teams_tag = teams_list_tags[0]\n",
    "\n",
    "# On inspection you can see that all the <a> tag of each team name has as text the corresponding team name\n",
    "# eg: <a href=\"/wiki/Australia_national_soccer_team\" title=\"Australia national soccer team\">Australia</a>\n",
    "\n",
    "#TODO 16: Find all <a> tags within a <ul> tag - afc_teams\n",
    "afc_teams_a_tags = afc_teams_tag.find_all('a')\n",
    "\n",
    "\n",
    "'''\n",
    "Output:\n",
    "\n",
    "[<a href=\"/wiki/Australia_national_soccer_team\" title=\"Australia national soccer team\">Australia</a>,\n",
    "<a href=\"/wiki/Iran_national_football_team\" title=\"Iran national football team\">Iran</a>,\n",
    "<a href=\"/wiki/Japan_national_football_team\" title=\"Japan national football team\">Japan</a>, \n",
    "<a href=\"/wiki/Saudi_Arabia_national_football_team\" title=\"Saudi Arabia national football team\">Saudi Arabia</a>, \n",
    "<a href=\"/wiki/South_Korea_national_football_team\" title=\"South Korea national football team\">South Korea</a>]\n",
    "'''\n",
    "\n",
    "pprint(afc_teams_a_tags)"
   ]
  },
  {
   "cell_type": "code",
   "execution_count": 332,
   "metadata": {},
   "outputs": [
    {
     "name": "stdout",
     "output_type": "stream",
     "text": [
      "['Australia', 'Iran', 'Japan', 'Saudi Arabia', 'South Korea']\n"
     ]
    }
   ],
   "source": [
    "print([team_a_tag.text for team_a_tag in afc_teams_a_tags])"
   ]
  },
  {
   "cell_type": "code",
   "execution_count": 338,
   "metadata": {},
   "outputs": [
    {
     "name": "stdout",
     "output_type": "stream",
     "text": [
      "Confederation list has 6 items\n",
      "Teams list has 6 items, each having all the teams in a confederation\n"
     ]
    }
   ],
   "source": [
    "# def get_list_of_team_names_from_conf_tags(tags):\n",
    "#     teams_a_tag = tags.find_all('a')\n",
    "    \n",
    "#     team_names = [team_a_tag.text for team_a_tag in teams_a_tag]\n",
    "    \n",
    "#     return team_names\n",
    "\n",
    "\n",
    "# afc_teams = get_list_of_team_names_from_conf_tags(afc_teams_tag)\n",
    "# print(afc_teams)\n",
    "print(f'Confederation list has {len(confederations)} items')\n",
    "print(f'Teams list has {len(teams_list_tags)} items, each having all the teams in a confederation')"
   ]
  },
  {
   "cell_type": "markdown",
   "metadata": {},
   "source": [
    "> So, first confederation in `confederations` will correspond to the first team names tag in `teams_list_tags`"
   ]
  },
  {
   "cell_type": "markdown",
   "metadata": {},
   "source": [
    "#### Store teams by confederation"
   ]
  },
  {
   "cell_type": "code",
   "execution_count": 342,
   "metadata": {},
   "outputs": [
    {
     "name": "stdout",
     "output_type": "stream",
     "text": [
      "['Belgium', 'Croatia', 'Denmark', 'England', 'France', 'Germany', 'Iceland', 'Poland', 'Portugal', 'Russia', 'Serbia', 'Spain', 'Sweden', 'Switzerland']\n"
     ]
    }
   ],
   "source": [
    "# Now we will add all the teams to their corresponding confs and use a dict to save it\n",
    "\n",
    "from collections import defaultdict\n",
    "\n",
    "# TODO 17: Create a dictionary with values pre-initialized as list\n",
    "# Pointer - https://docs.python.org/3.3/library/collections.html#collections.defaultdict\n",
    "# teams_by_confederation = defaultdict(...)\n",
    "teams_by_confederation = defaultdict(list)\n",
    "\n",
    "\n",
    "\n",
    "for i, confederation in enumerate(confederations):\n",
    "    # find the teams tag corresponding to the confederation\n",
    "    confederation_teams_tag = teams_list_tags[i]\n",
    "    \n",
    "    # TODO 18: ind all <a> tags in 'confederation_teams_tag'\n",
    "    # for anchor in ...:\n",
    "    for anchor in confederation_teams_tag.find_all('a'):\n",
    "        \n",
    "        # TODO 19: extract only text from the anchor tag\n",
    "        # Example\n",
    "        # Input: <a href=\"/wiki/Australia_national_soccer_team\" title=\"Australia national soccer team\">Australia</a>\n",
    "        # Output: Australia\n",
    "        # team = ...\n",
    "        team_name = anchor.text\n",
    "        \n",
    "        # TODO 20: Append the team name to the corresponding confederation key in 'teams_by_confederation'\n",
    "        # teams_by_confederation[...].append(team_name)\n",
    "        teams_by_confederation[confederation].append(team_name)\n",
    "\n",
    "\n",
    "'''\n",
    "Output: ['Belgium', 'Croatia', 'Denmark', 'England', 'France', 'Germany', 'Iceland', 'Poland', 'Portugal', \n",
    "        'Russia', 'Serbia', 'Spain', 'Sweden', 'Switzerland']\n",
    "'''\n",
    "print(teams_by_confederation['UEFA'])"
   ]
  },
  {
   "cell_type": "code",
   "execution_count": 345,
   "metadata": {},
   "outputs": [],
   "source": [
    "# TODO 21: Save the teams_by_confederation dictionary as a NEW JSON file called 'teams-by-confederation.json'\n",
    "\n",
    "# with open(... , ...) as fp:\n",
    "#     json.dump(..., ..., indent=2)\n",
    "    \n",
    "with open('data/teams-by-confederation.json', 'w') as fp:\n",
    "    json.dump(teams_by_confederation, fp, indent=2)\n",
    "    \n",
    "    \n",
    "# Open the 'teams-by-confederation.json' file to see its content, play with the indent parameter"
   ]
  },
  {
   "cell_type": "markdown",
   "metadata": {},
   "source": [
    "### Part 3: Stadiums and capacity(Optional)"
   ]
  },
  {
   "cell_type": "markdown",
   "metadata": {},
   "source": [
    "<p align=\"center\" style=\"text-align:center\">\n",
    "  <img src=\"https://drive.google.com/uc?export=view&id=1UM3qMIQhalJ3Z0RsMOIO5mpVLWeKkRe_\" alt=\"Stadiums and Capacity\">\n",
    "</p>\n",
    "<p align=\"center\" style=\"text-align:center\"> Source: Wikipedia </p>\n"
   ]
  },
  {
   "cell_type": "code",
   "execution_count": 448,
   "metadata": {},
   "outputs": [],
   "source": [
    "# TODO: \n",
    "# 1. Find all the tables having same class as the required table\n",
    "# 2. Inspect each of the returned tables to find the index of the required table\n",
    "# wikitables = soup.find_all(..., attrs=...)\n",
    "\n",
    "wikitables = soup.find_all('table', attrs={'class': 'wikitable'})\n",
    "\n",
    "# i = 0\n",
    "i = 3\n",
    "stadiums_table = wikitables[i]\n",
    "stadiums_table"
   ]
  },
  {
   "cell_type": "code",
   "execution_count": 350,
   "metadata": {
    "scrolled": true
   },
   "outputs": [
    {
     "name": "stdout",
     "output_type": "stream",
     "text": [
      "Stadiums list contains \n",
      " ['Luzhniki Stadium', 'Otkritie Arena', 'Krestovsky Stadium', 'Fisht Olympic Stadium', 'Volgograd Arena', 'Rostov Arena', 'Nizhny Novgorod Stadium', 'Kazan Arena', 'Samara Arena', 'Mordovia Arena', 'Kaliningrad Stadium', 'Central Stadium'] \n",
      "\n",
      "Capacities list contains \n",
      " ['78,011', '44,190', '64,468', '44,287', '43,713', '43,472', '43,319', '42,873', '41,970', '41,685', '33,973', '33,061'] \n",
      "\n"
     ]
    }
   ],
   "source": [
    "# stadium names are inside anchor tag within td tags compared to regions which are in th tags\n",
    "stadium_and_capacity_tags = stadiums_table.find_all('td')\n",
    "\n",
    "# stadium tags are td with <a> having title\n",
    "# capacity tags are td with <b> and td.text having 'Capacity'\n",
    "# there are images also in td tags but their <a> has class \"image\"\n",
    "stadiums = []\n",
    "capacities = []\n",
    "\n",
    "for tag in stadium_and_capacity_tags:\n",
    "    # TODO: check for the string 'Capacity' in the tag's text\n",
    "    # if ... in ...:\n",
    "    if 'Capacity' in tag.text:\n",
    "        capacities.append(tag.b.text)\n",
    "        \n",
    "        \n",
    "    # TODO: check if class attribute of <a> tag is image\n",
    "    # if not, it will be stadium name, add the stadium NAME to the 'stadiums' list\n",
    "    # elif not tag.a.get(...) == ['image']:\n",
    "    elif not tag.a.get('class') == ['image']:\n",
    "        # stadiums.append(...)\n",
    "        stadiums.append(tag.a.text)\n",
    "        \n",
    "assert len(stadiums) == len(capacities)\n",
    "\n",
    "\n",
    "print(f\"Stadiums list contains \\n {stadiums} \\n\")\n",
    "print(f\"Capacities list contains \\n {capacities} \\n\")"
   ]
  },
  {
   "cell_type": "code",
   "execution_count": 352,
   "metadata": {},
   "outputs": [
    {
     "name": "stdout",
     "output_type": "stream",
     "text": [
      "{'Central Stadium': '33,061',\n",
      " 'Fisht Olympic Stadium': '44,287',\n",
      " 'Kaliningrad Stadium': '33,973',\n",
      " 'Kazan Arena': '42,873',\n",
      " 'Krestovsky Stadium': '64,468',\n",
      " 'Luzhniki Stadium': '78,011',\n",
      " 'Mordovia Arena': '41,685',\n",
      " 'Nizhny Novgorod Stadium': '43,319',\n",
      " 'Otkritie Arena': '44,190',\n",
      " 'Rostov Arena': '43,472',\n",
      " 'Samara Arena': '41,970',\n",
      " 'Volgograd Arena': '43,713'}\n"
     ]
    }
   ],
   "source": [
    "# TODO: store in a dictionary stadiums as key and their capacity as values\n",
    "\n",
    "stadiums_and_capacities = {stadium: capacity for stadium, capacity in zip(stadiums, capacities)}\n",
    "\n",
    "'''\n",
    "Output:\n",
    "\n",
    "{'Luzhniki Stadium': '78,011',\n",
    " 'Otkritie Arena': '44,190',\n",
    " 'Krestovsky Stadium': '64,468',\n",
    " 'Fisht Olympic Stadium': '44,287',\n",
    " 'Volgograd Arena': '43,713',\n",
    " 'Rostov Arena': '43,472',\n",
    " 'Nizhny Novgorod Stadium': '43,319',\n",
    " 'Kazan Arena': '42,873',\n",
    " 'Samara Arena': '41,970',\n",
    " 'Mordovia Arena': '41,685',\n",
    " 'Kaliningrad Stadium': '33,973',\n",
    " 'Central Stadium': '33,061'}\n",
    " \n",
    "'''\n",
    "pprint(stadiums_and_capacities)"
   ]
  },
  {
   "cell_type": "markdown",
   "metadata": {},
   "source": [
    "<hr>"
   ]
  },
  {
   "cell_type": "markdown",
   "metadata": {},
   "source": [
    "### Part 4: Group stage results"
   ]
  },
  {
   "cell_type": "markdown",
   "metadata": {},
   "source": [
    "<p align=\"center\" style=\"text-align:center\">\n",
    "  <img src=\"https://drive.google.com/uc?export=view&id=1p1Lwd9zR1uh7-vAyZj-37qeuYaqS4nwh\" alt=\"Group Stage Table\" >\n",
    "</p>\n",
    "<p align=\"center\" style=\"text-align:center\"> Source: Wikipedia </p>\n"
   ]
  },
  {
   "cell_type": "code",
   "execution_count": 353,
   "metadata": {},
   "outputs": [
    {
     "name": "stdout",
     "output_type": "stream",
     "text": [
      "19\n"
     ]
    }
   ],
   "source": [
    "# Let's get all tables with a class of 'wikitable' and find which all we need\n",
    "\n",
    "wikitables = soup.find_all('table', attrs={'class': 'wikitable'})\n",
    "\n",
    "print(len(wikitables))"
   ]
  },
  {
   "cell_type": "markdown",
   "metadata": {},
   "source": [
    "<p style=\"font-size:16px;font-family:helvetica\">\n",
    "We got 19 tables to filter 8 corresponding to each Group\n",
    "\n",
    "> Quick question: **How many ways can you select 8 tables from 19?**\n",
    "\n",
    "\n",
    "And by the way, the above question is *COMPLETELY UNRELATED* to our purpose. Sorry, if you went on to calculate factorials :)\n",
    "</p>"
   ]
  },
  {
   "cell_type": "code",
   "execution_count": 354,
   "metadata": {},
   "outputs": [
    {
     "data": {
      "text/plain": [
       "[4, 5, 6, 7, 8, 9, 10, 11, 17]"
      ]
     },
     "execution_count": 354,
     "metadata": {},
     "output_type": "execute_result"
    }
   ],
   "source": [
    "# All of our tables has a 'Pos' column\n",
    "# Let's filter the tables by this information\n",
    "\n",
    "[i for i, wikitable in enumerate(wikitables) if 'Pos' in wikitable.text]"
   ]
  },
  {
   "cell_type": "markdown",
   "metadata": {},
   "source": [
    "<p style=\"font-size:16px;font-family:helvetica\">\n",
    "So, we have a total of 9 tables and tables 4-11 are 8 consecutive one. It's most likely those are what we need. \n",
    "\n",
    "Nb: \n",
    "<b> Skeptics are welcome to print the contents of Table 17 to ascertain above hypothesis</b>\n",
    "</p>"
   ]
  },
  {
   "cell_type": "code",
   "execution_count": 358,
   "metadata": {},
   "outputs": [],
   "source": [
    "# Do you remember what was the last TODO number?\n",
    "# Yeah, that's what I thought. Let's scroll up!\n",
    "\n",
    "\n",
    "\n",
    "# TODO 22: select EIGHT tables 4 to 11\n",
    "# all_group_table_tags = ...\n",
    "all_group_table_tags = wikitables[4:12]\n",
    "\n",
    "assert len(all_group_table_tags) == 8"
   ]
  },
  {
   "cell_type": "code",
   "execution_count": 449,
   "metadata": {},
   "outputs": [],
   "source": [
    "# let's inspect contents of Group A table to get a hang of its structure\n",
    "groupA = all_group_table_tags[0]\n",
    "\n",
    "print(groupA.prettify())"
   ]
  },
  {
   "cell_type": "code",
   "execution_count": 360,
   "metadata": {},
   "outputs": [],
   "source": [
    "# If you check the contents of groupA, each of the table row is a <tr> tag\n",
    "\n",
    "# TODO 23: find all <tr> tags in groupA\n",
    "groupA_table_rows = groupA.find_all('tr')"
   ]
  },
  {
   "cell_type": "code",
   "execution_count": 450,
   "metadata": {
    "scrolled": true
   },
   "outputs": [],
   "source": [
    "# first row is the attribute titles - we dont need 'Qualification'\n",
    "# all the cols except Team has the attribute names in th > abbr.title\n",
    "first_row = groupA_table_rows[0]\n",
    "\n",
    "print(first_row.prettify())"
   ]
  },
  {
   "cell_type": "code",
   "execution_count": 368,
   "metadata": {},
   "outputs": [
    {
     "name": "stdout",
     "output_type": "stream",
     "text": [
      "['\\n',\n",
      " <th scope=\"col\" width=\"28\"><abbr title=\"Position\">Pos</abbr>\n",
      "</th>,\n",
      " '\\n',\n",
      " <th scope=\"col\" width=\"180\">Team<div class=\"plainlinks hlist navbar mini\" style=\"float:right\"><span style=\"margin-right:-0.125em\">[ </span><ul><li class=\"nv-view\"><a href=\"/wiki/Template:2018_FIFA_World_Cup_Group_A_table\" title=\"Template:2018 FIFA World Cup Group A table\"><abbr title=\"View this template\">v</abbr></a></li><li class=\"nv-talk\"><a href=\"/wiki/Template_talk:2018_FIFA_World_Cup_Group_A_table\" title=\"Template talk:2018 FIFA World Cup Group A table\"><abbr title=\"Discuss this template\">t</abbr></a></li><li class=\"nv-edit\"><a class=\"external text\" href=\"https://en.wikipedia.org/w/index.php?title=Template:2018_FIFA_World_Cup_Group_A_table&amp;action=edit\"><abbr title=\"Edit this template\">e</abbr></a></li></ul><span style=\"margin-left:-0.125em\"> ]</span></div>\n",
      "</th>,\n",
      " '\\n',\n",
      " <th scope=\"col\" width=\"28\"><abbr title=\"Played\">Pld</abbr>\n",
      "</th>,\n",
      " '\\n',\n",
      " <th scope=\"col\" width=\"28\"><abbr title=\"Won\">W</abbr>\n",
      "</th>,\n",
      " '\\n',\n",
      " <th scope=\"col\" width=\"28\"><abbr title=\"Drawn\">D</abbr>\n",
      "</th>,\n",
      " '\\n',\n",
      " <th scope=\"col\" width=\"28\"><abbr title=\"Lost\">L</abbr>\n",
      "</th>,\n",
      " '\\n',\n",
      " <th scope=\"col\" width=\"28\"><abbr title=\"Goals for\">GF</abbr>\n",
      "</th>,\n",
      " '\\n',\n",
      " <th scope=\"col\" width=\"28\"><abbr title=\"Goals against\">GA</abbr>\n",
      "</th>,\n",
      " '\\n',\n",
      " <th scope=\"col\" width=\"28\"><abbr title=\"Goal difference\">GD</abbr>\n",
      "</th>,\n",
      " '\\n',\n",
      " <th scope=\"col\" width=\"28\"><abbr title=\"Points\">Pts</abbr>\n",
      "</th>,\n",
      " '\\n',\n",
      " <th scope=\"col\">Qualification\n",
      "</th>]\n"
     ]
    }
   ],
   "source": [
    "pprint(first_row.contents)"
   ]
  },
  {
   "cell_type": "code",
   "execution_count": 363,
   "metadata": {
    "scrolled": true
   },
   "outputs": [
    {
     "ename": "AttributeError",
     "evalue": "'NavigableString' object has no attribute 'text'",
     "output_type": "error",
     "traceback": [
      "\u001b[1;31m---------------------------------------------------------------------------\u001b[0m",
      "\u001b[1;31mAttributeError\u001b[0m                            Traceback (most recent call last)",
      "\u001b[1;32m<ipython-input-363-819e40fa919d>\u001b[0m in \u001b[0;36m<module>\u001b[1;34m\u001b[0m\n\u001b[0;32m      1\u001b[0m \u001b[1;31m# let's print the text of each first_row\u001b[0m\u001b[1;33m\u001b[0m\u001b[1;33m\u001b[0m\u001b[1;33m\u001b[0m\u001b[0m\n\u001b[0;32m      2\u001b[0m \u001b[1;32mfor\u001b[0m \u001b[0mcol\u001b[0m \u001b[1;32min\u001b[0m \u001b[0mfirst_row\u001b[0m\u001b[1;33m.\u001b[0m\u001b[0mcontents\u001b[0m\u001b[1;33m:\u001b[0m\u001b[1;33m\u001b[0m\u001b[1;33m\u001b[0m\u001b[0m\n\u001b[1;32m----> 3\u001b[1;33m     \u001b[0mprint\u001b[0m\u001b[1;33m(\u001b[0m\u001b[0mcol\u001b[0m\u001b[1;33m.\u001b[0m\u001b[0mtext\u001b[0m\u001b[1;33m)\u001b[0m\u001b[1;33m\u001b[0m\u001b[1;33m\u001b[0m\u001b[0m\n\u001b[0m\u001b[0;32m      4\u001b[0m \u001b[1;33m\u001b[0m\u001b[0m\n",
      "\u001b[1;32m~\\Anaconda3\\lib\\site-packages\\bs4\\element.py\u001b[0m in \u001b[0;36m__getattr__\u001b[1;34m(self, attr)\u001b[0m\n\u001b[0;32m    649\u001b[0m         \"\"\"Find all parents of this PageElement that match the given criteria.\n\u001b[0;32m    650\u001b[0m \u001b[1;33m\u001b[0m\u001b[0m\n\u001b[1;32m--> 651\u001b[1;33m         \u001b[0mAll\u001b[0m \u001b[0mfind_\u001b[0m\u001b[1;33m*\u001b[0m \u001b[0mmethods\u001b[0m \u001b[0mtake\u001b[0m \u001b[0ma\u001b[0m \u001b[0mcommon\u001b[0m \u001b[0mset\u001b[0m \u001b[0mof\u001b[0m \u001b[0marguments\u001b[0m\u001b[1;33m.\u001b[0m \u001b[0mSee\u001b[0m \u001b[0mthe\u001b[0m \u001b[0monline\u001b[0m\u001b[1;33m\u001b[0m\u001b[1;33m\u001b[0m\u001b[0m\n\u001b[0m\u001b[0;32m    652\u001b[0m         \u001b[0mdocumentation\u001b[0m \u001b[1;32mfor\u001b[0m \u001b[0mdetailed\u001b[0m \u001b[0mexplanations\u001b[0m\u001b[1;33m.\u001b[0m\u001b[1;33m\u001b[0m\u001b[1;33m\u001b[0m\u001b[0m\n\u001b[0;32m    653\u001b[0m \u001b[1;33m\u001b[0m\u001b[0m\n",
      "\u001b[1;31mAttributeError\u001b[0m: 'NavigableString' object has no attribute 'text'"
     ]
    }
   ],
   "source": [
    "# let's print the text of each first_row tags\n",
    "for col in first_row.contents:\n",
    "    print(col.text)\n",
    "    "
   ]
  },
  {
   "cell_type": "code",
   "execution_count": 376,
   "metadata": {},
   "outputs": [
    {
     "name": "stdout",
     "output_type": "stream",
     "text": [
      "\n",
      " <class 'bs4.element.NavigableString'> \n",
      "\n",
      "\n",
      " <class 'bs4.element.NavigableString'>\n",
      "<th scope=\"col\" width=\"28\"><abbr title=\"Position\">Pos</abbr>\n",
      "</th> <class 'bs4.element.Tag'>\n"
     ]
    },
    {
     "data": {
      "text/plain": [
       "'\\n'"
      ]
     },
     "execution_count": 376,
     "metadata": {},
     "output_type": "execute_result"
    }
   ],
   "source": [
    "# print the type of the last 'col' which errored\n",
    "print(col, type(col), '\\n')\n",
    "\n",
    "print(first_row.contents[0], type(first_row.contents[0]))\n",
    "\n",
    "print(first_row.contents[1], type(first_row.contents[1]))\n",
    "\n",
    "first_row.contents[0]"
   ]
  },
  {
   "cell_type": "markdown",
   "metadata": {},
   "source": [
    "The **\\n** string is a `bs4.element.NavigableString` object and is causing errors. We don't need that anyway, throw it out!"
   ]
  },
  {
   "cell_type": "code",
   "execution_count": 384,
   "metadata": {},
   "outputs": [
    {
     "name": "stdout",
     "output_type": "stream",
     "text": [
      "Pos\n",
      "Team\n",
      "Pld\n",
      "W\n",
      "D\n",
      "L\n",
      "GF\n",
      "GA\n",
      "GD\n",
      "Pts\n",
      "Qualification\n",
      "\n"
     ]
    }
   ],
   "source": [
    "# TODO 24: store rows that are not '\\n's\n",
    "# first_row_cleaned = [content for content in first_row if content != ...]\n",
    "first_row_cleaned = [content for content in first_row if content != '\\n']\n",
    "\n",
    "        \n",
    "for col in first_row_cleaned:\n",
    "    print(col.find(text=True))"
   ]
  },
  {
   "cell_type": "code",
   "execution_count": 393,
   "metadata": {},
   "outputs": [
    {
     "name": "stdout",
     "output_type": "stream",
     "text": [
      "<th scope=\"col\" width=\"28\"><abbr title=\"Position\">Pos</abbr>\n",
      "</th>\n",
      "Position\n"
     ]
    }
   ],
   "source": [
    "# The titles except 'Team' and 'Qualification' are all 'title' attribute of <abbr> tag \n",
    "print(first_row_cleaned[0])\n",
    "print(first_row_cleaned[0].find('abbr').get('title'))"
   ]
  },
  {
   "cell_type": "code",
   "execution_count": 398,
   "metadata": {},
   "outputs": [],
   "source": [
    "titles = []\n",
    "\n",
    "# TODO 25: Loop through tags in first_row_cleaned\n",
    "# for row in ...:\n",
    "for row in first_row_cleaned:\n",
    "\n",
    "    # TODO 26: check for <abbr> tag\n",
    "    # recursive=False - return tag only if its the direct children\n",
    "    # if row.find(..., recursive=False):\n",
    "    if row.find('abbr', recursive=False):\n",
    "        titles.append(row.abbr.get('title'))\n",
    "    else:\n",
    "        # for 'Team' and 'Qualification' columns\n",
    "        titles.append(row.find(text=True).strip())"
   ]
  },
  {
   "cell_type": "code",
   "execution_count": 399,
   "metadata": {},
   "outputs": [
    {
     "name": "stdout",
     "output_type": "stream",
     "text": [
      "['Position', 'Team', 'Played', 'Won', 'Drawn', 'Lost', 'Goals for', 'Goals against', 'Goal difference', 'Points', 'Qualification']\n"
     ]
    }
   ],
   "source": [
    "print(titles)"
   ]
  },
  {
   "cell_type": "code",
   "execution_count": 400,
   "metadata": {},
   "outputs": [
    {
     "name": "stdout",
     "output_type": "stream",
     "text": [
      "10 ['Position', 'Team', 'Played', 'Won', 'Drawn', 'Lost', 'Goals for', 'Goals against', 'Goal difference', 'Points']\n"
     ]
    }
   ],
   "source": [
    "titles = titles[:-1]\n",
    "\n",
    "print(len(titles), titles)"
   ]
  },
  {
   "cell_type": "code",
   "execution_count": 401,
   "metadata": {},
   "outputs": [
    {
     "data": {
      "text/plain": [
       "4"
      ]
     },
     "execution_count": 401,
     "metadata": {},
     "output_type": "execute_result"
    }
   ],
   "source": [
    "# first row is the table headers and the rest has team info\n",
    "\n",
    "team_rows = groupA_table_rows[1:]\n",
    "len(team_rows)"
   ]
  },
  {
   "cell_type": "code",
   "execution_count": 403,
   "metadata": {
    "scrolled": false
   },
   "outputs": [
    {
     "name": "stdout",
     "output_type": "stream",
     "text": [
      "[<th scope=\"row\" style=\"text-align: center;font-weight: normal;background-color:#BBF3BB;\">1\n",
      "</th>,\n",
      " <td style=\"text-align: left; white-space:nowrap;font-weight: normal;background-color:#BBF3BB;\"><span style=\"white-space:nowrap\"><span class=\"flagicon\"><img alt=\"\" class=\"thumbborder\" data-file-height=\"630\" data-file-width=\"945\" decoding=\"async\" height=\"15\" src=\"//upload.wikimedia.org/wikipedia/commons/thumb/f/fe/Flag_of_Uruguay.svg/23px-Flag_of_Uruguay.svg.png\" srcset=\"//upload.wikimedia.org/wikipedia/commons/thumb/f/fe/Flag_of_Uruguay.svg/35px-Flag_of_Uruguay.svg.png 1.5x, //upload.wikimedia.org/wikipedia/commons/thumb/f/fe/Flag_of_Uruguay.svg/45px-Flag_of_Uruguay.svg.png 2x\" width=\"23\"/> </span><a href=\"/wiki/Uruguay_national_football_team\" title=\"Uruguay national football team\">Uruguay</a></span>\n",
      "</td>,\n",
      " <td style=\"font-weight: normal;background-color:#BBF3BB;\">3\n",
      "</td>,\n",
      " <td style=\"font-weight: normal;background-color:#BBF3BB;\">3\n",
      "</td>,\n",
      " <td style=\"font-weight: normal;background-color:#BBF3BB;\">0\n",
      "</td>,\n",
      " <td style=\"font-weight: normal;background-color:#BBF3BB;\">0\n",
      "</td>,\n",
      " <td style=\"font-weight: normal;background-color:#BBF3BB;\">5\n",
      "</td>,\n",
      " <td style=\"font-weight: normal;background-color:#BBF3BB;\">0\n",
      "</td>,\n",
      " <td style=\"font-weight: normal;background-color:#BBF3BB;\">+5\n",
      "</td>,\n",
      " <td style=\"font-weight: bold;background-color:#BBF3BB;\">9\n",
      "</td>,\n",
      " <td rowspan=\"2\" style=\"font-weight: normal;background-color:#BBF3BB;\">Advance to <a href=\"/wiki/2018_FIFA_World_Cup#Knockout_stage\" title=\"2018 FIFA World Cup\">knockout stage</a>\n",
      "</td>]\n"
     ]
    }
   ],
   "source": [
    "# get first team\n",
    "team_row = team_rows[0]\n",
    "\n",
    "# remove NavigableStrings - '\\n'\n",
    "team_row_cleaned = [content for content in team_row if content!='\\n']\n",
    "\n",
    "pprint(team_row_cleaned)"
   ]
  },
  {
   "cell_type": "code",
   "execution_count": 404,
   "metadata": {},
   "outputs": [
    {
     "name": "stdout",
     "output_type": "stream",
     "text": [
      "['1', 'Uruguay', '3', '3', '0', '0', '5', '0', '+5', '9']\n"
     ]
    }
   ],
   "source": [
    "teams_data = []\n",
    "\n",
    "# get the row data \n",
    "team_data = [col.get_text(strip=True) for col in team_row_cleaned][:-1]\n",
    "\n",
    "print(team_data)"
   ]
  },
  {
   "cell_type": "markdown",
   "metadata": {},
   "source": [
    "#### Let's make some functions"
   ]
  },
  {
   "cell_type": "code",
   "execution_count": 432,
   "metadata": {},
   "outputs": [],
   "source": [
    "def get_group_table_headers(header_row):\n",
    "    '''\n",
    "    Returns list of table headers\n",
    "    \n",
    "    Input: Tag corresponding to first row of a group data table\n",
    "    Output: List of table headers\n",
    "        ['Position', 'Team', 'Played', 'Won', 'Drawn', 'Lost', 'Goals for', 'Goals against', \n",
    "        'Goal difference', 'Points']\n",
    "    '''\n",
    "    header_row_cleaned = [col for col in header_row.contents if col!='\\n']\n",
    "    \n",
    "    titles = []\n",
    "    # TODO(optional): Find out difference b/w .text vs get_text() vs find(text=True)\n",
    "    for row in header_row_cleaned:\n",
    "        if row.find('abbr', recursive=False):\n",
    "            titles.append(row.abbr.get('title'))\n",
    "        else:\n",
    "            titles.append(row.find(text=True))\n",
    "\n",
    "    # remove qualification header\n",
    "    titles = titles[:-1]\n",
    "    \n",
    "    return titles\n",
    "\n",
    "\n",
    "def get_group_team_data(team_row, num_headers):\n",
    "    '''\n",
    "    Returns list of column values given data row tag in group data table\n",
    "    \n",
    "    Input: \n",
    "        team_row - Tag corresponding to a team in group data table\n",
    "        num_headers - Number of headers present\n",
    "    \n",
    "    Output: List of data related to that team in the group\n",
    "        ['1', 'Uruguay', '3', '3', '0', '0', '5', '0', '+5', '9']\n",
    "    '''\n",
    "    \n",
    "    team_data = [col.get_text(strip=True) for col in team_row.contents if col!='\\n']\n",
    "    \n",
    "    # remove value of Qualification column if present\n",
    "    if len(team_data) == (num_headers + 1):\n",
    "        team_data = team_data[:-1]\n",
    "    \n",
    "    return team_data\n",
    "\n",
    "\n",
    "\n",
    "def get_group_teams_data(group_table, num_headers):\n",
    "    '''\n",
    "    Returns data of all teams in a group table\n",
    "    \n",
    "    Input: \n",
    "        group_table - tags corresponding to each row in the group table except first - header\n",
    "        num_headers - Number of headers present\n",
    "    \n",
    "    Output: List of data related to all teams in the group\n",
    "    '''\n",
    "    \n",
    "    teams_data = []\n",
    "    for team_row in group_table:\n",
    "        # get data of a single team\n",
    "        team_data = get_group_team_data(team_row, num_headers)\n",
    "        \n",
    "        # check no of cols\n",
    "        assert len(team_data) == num_headers\n",
    "        \n",
    "        # add team data to the teams data list\n",
    "        teams_data.append(team_data)\n",
    "    \n",
    "    \n",
    "    return teams_data\n",
    "\n",
    "    \n",
    "\n",
    "\n",
    "def get_group_table_data(table_tag):\n",
    "    '''\n",
    "    Returns table data with headers\n",
    "    \n",
    "    Input: \n",
    "        table_tags - tag correspnding to a group table\n",
    "    \n",
    "    Output: full table data formatted\n",
    "    '''\n",
    "    \n",
    "    \n",
    "    table_rows = table_tag.find_all('tr')\n",
    "    \n",
    "    header_row = table_rows[0]\n",
    "    team_rows = table_rows[1:]\n",
    "    \n",
    "    header_data = get_group_table_headers(header_row)\n",
    "    \n",
    "    num_headers = len(header_data)\n",
    "    \n",
    "    teams_data = get_group_teams_data(team_rows, num_headers)\n",
    "    \n",
    "    # TODO(optional): add header and team data to single list\n",
    "#     print(team_rows)\n",
    "    table_data = [header_data] + teams_data\n",
    "    assert len(table_data) == 5\n",
    "    assert table_data[0] == header_data\n",
    "    assert table_data[1:] == teams_data\n",
    "    \n",
    "    return table_data\n",
    "\n",
    "\n",
    "def get_group_tables_data(all_table_tags):\n",
    "    '''\n",
    "    Returns all of the tables' data\n",
    "    \n",
    "    Input: \n",
    "        all_table_tags - list of tags corresponding to each group table\n",
    "    \n",
    "    Output: List of data related to all teams in the group\n",
    "    '''\n",
    "    \n",
    "    group_tables = [get_group_table_data(table_tags) for table_tags in all_table_tags]\n",
    "    \n",
    "    return group_tables"
   ]
  },
  {
   "cell_type": "code",
   "execution_count": 434,
   "metadata": {},
   "outputs": [
    {
     "data": {
      "text/plain": [
       "['1', 'Uruguay', '3', '3', '0', '0', '5', '0', '+5', '9']"
      ]
     },
     "execution_count": 434,
     "metadata": {},
     "output_type": "execute_result"
    }
   ],
   "source": [
    "# get the first row returned by get_group_table_data on the first table\n",
    "(get_group_table_data(all_group_table_tags[0])[1])"
   ]
  },
  {
   "cell_type": "code",
   "execution_count": 435,
   "metadata": {},
   "outputs": [
    {
     "data": {
      "text/plain": [
       "(8, 5, 10)"
      ]
     },
     "execution_count": 435,
     "metadata": {},
     "output_type": "execute_result"
    }
   ],
   "source": [
    "import numpy as np\n",
    "\n",
    "# create a numpy array for storing all the group tables\n",
    "all_group_tables = np.array(get_group_tables_data(all_group_table_tags))\n",
    "all_group_tables.shape"
   ]
  },
  {
   "cell_type": "markdown",
   "metadata": {},
   "source": [
    "<p style=\"font-size:16px;font-family:helvetica\">\n",
    "    <ul>\n",
    "        <li>The <code>all_group_tables</code> numpy array contains each of the <b><i>8</i></b> groups data.</li>\n",
    "        <li>Each of the group has <b><i>5</i></b> rows in its table - One header row and 4 team rows.</li>\n",
    "        <li>Each row in the table has <b><i>10</i></b> attributes like Position, Team, Played etc</li>\n",
    "     </ul>\n",
    "</p>"
   ]
  },
  {
   "cell_type": "code",
   "execution_count": 436,
   "metadata": {},
   "outputs": [
    {
     "name": "stdout",
     "output_type": "stream",
     "text": [
      "['A', 'B', 'C', 'D', 'E', 'F', 'G', 'H']\n"
     ]
    }
   ],
   "source": [
    "group_names = ['A', 'B', 'C', 'D', 'E', 'F', 'G', 'H']\n",
    "\n",
    "print(group_names)"
   ]
  },
  {
   "cell_type": "code",
   "execution_count": 438,
   "metadata": {},
   "outputs": [
    {
     "name": "stdout",
     "output_type": "stream",
     "text": [
      "['A' 'A' 'A' 'A' 'B' 'B' 'B' 'B' 'C' 'C' 'C' 'C' 'D' 'D' 'D' 'D' 'E' 'E'\n",
      " 'E' 'E' 'F' 'F' 'F' 'F' 'G' 'G' 'G' 'G' 'H' 'H' 'H' 'H']\n"
     ]
    }
   ],
   "source": [
    "# TODO(optional): find difference b/w repeat and tile\n",
    "# https://docs.scipy.org/doc/numpy/reference/generated/numpy.repeat.html\n",
    "# https://docs.scipy.org/doc/numpy/reference/generated/numpy.tile.html\n",
    "\n",
    "repeat_group_names = np.repeat(group_names, 4)\n",
    "print(repeat_group_names)"
   ]
  },
  {
   "cell_type": "code",
   "execution_count": 439,
   "metadata": {},
   "outputs": [],
   "source": [
    "def combine_group_tables(all_group_tables, group_names, num_teams_in_group=4):\n",
    "        '''\n",
    "        Combines all the group tables to a single elongated list\n",
    "        \n",
    "        '''\n",
    "        \n",
    "        assert type(all_group_tables) == np.ndarray\n",
    "        assert len(all_group_tables) == len(group_names)\n",
    "        \n",
    "        # save headers\n",
    "        headers = all_group_tables[0][0]\n",
    "\n",
    "        '''\n",
    "        all_group_tables[:, :, :] - returns all the data in all_group_tables\n",
    "        \n",
    "        all_group_tables[0, :, :] - returns all data of the first group \n",
    "        all_group_tables[0, :, :].shape == (5, 10)\n",
    "        \n",
    "        all_group_tables[:, 0, :] - returns first row data(header) from each table\n",
    "        all_group_tables[:, 0, :].shape == (8, 1, 10)\n",
    "        \n",
    "        all_group_tables[:, 1:, :] - returns all row data except the first row(header) in each table\n",
    "        all_group_tables[:, 1:, :].shape == (8, 4, 10)\n",
    "        '''\n",
    "        # remove header from all groups\n",
    "        all_group_tables_no_header = all_group_tables[:, 1:, :]\n",
    "        \n",
    "        # all_group_tables_no_header == (8, 4, 10)\n",
    "        assert all_group_tables_no_header.shape[1] == num_teams_in_group        \n",
    "        \n",
    "        # TODO(optional): reshape all_group_tables_no_header to (32, 10)\n",
    "        # create a single table of all groups\n",
    "        all_group_single_table = all_group_tables_no_header.reshape(-1, len(headers))\n",
    "        \n",
    "        # TODO(optional): repeat group names\n",
    "        # add group name to all tables\n",
    "        \n",
    "        \n",
    "        group_names_repeated = np.repeat(group_names, num_teams_in_group)\n",
    "        \n",
    "        ### Add group_name as last col of each row\n",
    "        \n",
    "        # current last row index - all_group_tables_no_heder.shape[2] - 1\n",
    "        # because indexing starts at 0\n",
    "        col_index_to_insert = all_group_tables_no_header.shape[2]\n",
    "        \n",
    "        # Insert group names at the set index across columns(axis=1)\n",
    "        # https://docs.scipy.org/doc/numpy/reference/generated/numpy.insert.html\n",
    "        table_with_group_names = np.insert(all_group_single_table, col_index_to_insert\n",
    "                                                      , group_names_repeated, axis=1)\n",
    "        \n",
    "        # add Group to header list\n",
    "        # reshape headers to (1, 11) instead of (11,) to avoid future problems\n",
    "        headers = np.append(headers, 'Group').reshape(1, -1)\n",
    "        \n",
    "        # Concatenate headers and table data across rows(axis=0)\n",
    "        group_table_with_header = np.append(headers, table_with_group_names, axis=0)\n",
    "        \n",
    "        return group_table_with_header"
   ]
  },
  {
   "cell_type": "code",
   "execution_count": 442,
   "metadata": {},
   "outputs": [
    {
     "data": {
      "text/plain": [
       "(33, 11)"
      ]
     },
     "execution_count": 442,
     "metadata": {},
     "output_type": "execute_result"
    }
   ],
   "source": [
    "# get a single cumulated table with a header row and data of 32 teams in the group stage\n",
    "group_stage_results = combine_group_tables(all_group_tables, group_names)\n",
    "group_stage_results.shape"
   ]
  },
  {
   "cell_type": "code",
   "execution_count": 443,
   "metadata": {},
   "outputs": [],
   "source": [
    "# save data as a csv file\n",
    "with open('data/group_stage_results.csv', 'w', encoding=\"utf-8\") as fp:\n",
    "    for row in group_stage_results:\n",
    "        join_row_to_string = ','.join(row) + '\\n'\n",
    "        fp.write(join_row_to_string)"
   ]
  },
  {
   "cell_type": "markdown",
   "metadata": {},
   "source": [
    "<hr>"
   ]
  },
  {
   "cell_type": "markdown",
   "metadata": {},
   "source": [
    "## Analysis"
   ]
  },
  {
   "cell_type": "code",
   "execution_count": 72,
   "metadata": {
    "scrolled": true
   },
   "outputs": [
    {
     "data": {
      "text/html": [
       "<div>\n",
       "<style scoped>\n",
       "    .dataframe tbody tr th:only-of-type {\n",
       "        vertical-align: middle;\n",
       "    }\n",
       "\n",
       "    .dataframe tbody tr th {\n",
       "        vertical-align: top;\n",
       "    }\n",
       "\n",
       "    .dataframe thead th {\n",
       "        text-align: right;\n",
       "    }\n",
       "</style>\n",
       "<table border=\"1\" class=\"dataframe\">\n",
       "  <thead>\n",
       "    <tr style=\"text-align: right;\">\n",
       "      <th></th>\n",
       "      <th>Position</th>\n",
       "      <th>Team</th>\n",
       "      <th>Played</th>\n",
       "      <th>Won</th>\n",
       "      <th>Drawn</th>\n",
       "      <th>Lost</th>\n",
       "      <th>Goals for</th>\n",
       "      <th>Goals against</th>\n",
       "      <th>Goal difference</th>\n",
       "      <th>Points</th>\n",
       "      <th>Group</th>\n",
       "    </tr>\n",
       "  </thead>\n",
       "  <tbody>\n",
       "    <tr>\n",
       "      <th>0</th>\n",
       "      <td>1</td>\n",
       "      <td>Uruguay</td>\n",
       "      <td>3</td>\n",
       "      <td>3</td>\n",
       "      <td>0</td>\n",
       "      <td>0</td>\n",
       "      <td>5</td>\n",
       "      <td>0</td>\n",
       "      <td>+5</td>\n",
       "      <td>9</td>\n",
       "      <td>A</td>\n",
       "    </tr>\n",
       "    <tr>\n",
       "      <th>1</th>\n",
       "      <td>2</td>\n",
       "      <td>Russia(H)</td>\n",
       "      <td>3</td>\n",
       "      <td>2</td>\n",
       "      <td>0</td>\n",
       "      <td>1</td>\n",
       "      <td>8</td>\n",
       "      <td>4</td>\n",
       "      <td>+4</td>\n",
       "      <td>6</td>\n",
       "      <td>A</td>\n",
       "    </tr>\n",
       "    <tr>\n",
       "      <th>2</th>\n",
       "      <td>3</td>\n",
       "      <td>Saudi Arabia</td>\n",
       "      <td>3</td>\n",
       "      <td>1</td>\n",
       "      <td>0</td>\n",
       "      <td>2</td>\n",
       "      <td>2</td>\n",
       "      <td>7</td>\n",
       "      <td>−5</td>\n",
       "      <td>3</td>\n",
       "      <td>A</td>\n",
       "    </tr>\n",
       "    <tr>\n",
       "      <th>3</th>\n",
       "      <td>4</td>\n",
       "      <td>Egypt</td>\n",
       "      <td>3</td>\n",
       "      <td>0</td>\n",
       "      <td>0</td>\n",
       "      <td>3</td>\n",
       "      <td>2</td>\n",
       "      <td>6</td>\n",
       "      <td>−4</td>\n",
       "      <td>0</td>\n",
       "      <td>A</td>\n",
       "    </tr>\n",
       "    <tr>\n",
       "      <th>4</th>\n",
       "      <td>1</td>\n",
       "      <td>Spain</td>\n",
       "      <td>3</td>\n",
       "      <td>1</td>\n",
       "      <td>2</td>\n",
       "      <td>0</td>\n",
       "      <td>6</td>\n",
       "      <td>5</td>\n",
       "      <td>+1</td>\n",
       "      <td>5</td>\n",
       "      <td>B</td>\n",
       "    </tr>\n",
       "  </tbody>\n",
       "</table>\n",
       "</div>"
      ],
      "text/plain": [
       "   Position          Team  Played  Won  Drawn  Lost  Goals for  Goals against  \\\n",
       "0         1       Uruguay       3    3      0     0          5              0   \n",
       "1         2     Russia(H)       3    2      0     1          8              4   \n",
       "2         3  Saudi Arabia       3    1      0     2          2              7   \n",
       "3         4         Egypt       3    0      0     3          2              6   \n",
       "4         1         Spain       3    1      2     0          6              5   \n",
       "\n",
       "  Goal difference Points Group  \n",
       "0              +5      9     A  \n",
       "1              +4      6     A  \n",
       "2              −5      3     A  \n",
       "3              −4      0     A  \n",
       "4              +1      5     B  "
      ]
     },
     "execution_count": 72,
     "metadata": {},
     "output_type": "execute_result"
    }
   ],
   "source": [
    "## Dataset 1: Group table\n",
    "\n",
    "import pandas as pd\n",
    "\n",
    "df_group_stage = pd.read_csv(\"group_stage_results.csv\")\n",
    "df_group_stage.head()"
   ]
  },
  {
   "cell_type": "code",
   "execution_count": 73,
   "metadata": {},
   "outputs": [
    {
     "data": {
      "text/html": [
       "<div>\n",
       "<style scoped>\n",
       "    .dataframe tbody tr th:only-of-type {\n",
       "        vertical-align: middle;\n",
       "    }\n",
       "\n",
       "    .dataframe tbody tr th {\n",
       "        vertical-align: top;\n",
       "    }\n",
       "\n",
       "    .dataframe thead th {\n",
       "        text-align: right;\n",
       "    }\n",
       "</style>\n",
       "<table border=\"1\" class=\"dataframe\">\n",
       "  <thead>\n",
       "    <tr style=\"text-align: right;\">\n",
       "      <th></th>\n",
       "      <th>Position</th>\n",
       "      <th>Team</th>\n",
       "      <th>Played</th>\n",
       "      <th>Won</th>\n",
       "      <th>Drawn</th>\n",
       "      <th>Lost</th>\n",
       "      <th>Goals for</th>\n",
       "      <th>Goals against</th>\n",
       "      <th>Goal difference</th>\n",
       "      <th>Points</th>\n",
       "      <th>Group</th>\n",
       "    </tr>\n",
       "  </thead>\n",
       "  <tbody>\n",
       "    <tr>\n",
       "      <th>0</th>\n",
       "      <td>1</td>\n",
       "      <td>Uruguay</td>\n",
       "      <td>3</td>\n",
       "      <td>3</td>\n",
       "      <td>0</td>\n",
       "      <td>0</td>\n",
       "      <td>5</td>\n",
       "      <td>0</td>\n",
       "      <td>+5</td>\n",
       "      <td>9</td>\n",
       "      <td>A</td>\n",
       "    </tr>\n",
       "    <tr>\n",
       "      <th>1</th>\n",
       "      <td>2</td>\n",
       "      <td>Russia(H)</td>\n",
       "      <td>3</td>\n",
       "      <td>2</td>\n",
       "      <td>0</td>\n",
       "      <td>1</td>\n",
       "      <td>8</td>\n",
       "      <td>4</td>\n",
       "      <td>+4</td>\n",
       "      <td>6</td>\n",
       "      <td>A</td>\n",
       "    </tr>\n",
       "    <tr>\n",
       "      <th>2</th>\n",
       "      <td>3</td>\n",
       "      <td>Saudi Arabia</td>\n",
       "      <td>3</td>\n",
       "      <td>1</td>\n",
       "      <td>0</td>\n",
       "      <td>2</td>\n",
       "      <td>2</td>\n",
       "      <td>7</td>\n",
       "      <td>−5</td>\n",
       "      <td>3</td>\n",
       "      <td>A</td>\n",
       "    </tr>\n",
       "    <tr>\n",
       "      <th>3</th>\n",
       "      <td>4</td>\n",
       "      <td>Egypt</td>\n",
       "      <td>3</td>\n",
       "      <td>0</td>\n",
       "      <td>0</td>\n",
       "      <td>3</td>\n",
       "      <td>2</td>\n",
       "      <td>6</td>\n",
       "      <td>−4</td>\n",
       "      <td>0</td>\n",
       "      <td>A</td>\n",
       "    </tr>\n",
       "    <tr>\n",
       "      <th>4</th>\n",
       "      <td>1</td>\n",
       "      <td>Spain</td>\n",
       "      <td>3</td>\n",
       "      <td>1</td>\n",
       "      <td>2</td>\n",
       "      <td>0</td>\n",
       "      <td>6</td>\n",
       "      <td>5</td>\n",
       "      <td>+1</td>\n",
       "      <td>5</td>\n",
       "      <td>B</td>\n",
       "    </tr>\n",
       "  </tbody>\n",
       "</table>\n",
       "</div>"
      ],
      "text/plain": [
       "   Position          Team  Played  Won  Drawn  Lost  Goals for  Goals against  \\\n",
       "0         1       Uruguay       3    3      0     0          5              0   \n",
       "1         2     Russia(H)       3    2      0     1          8              4   \n",
       "2         3  Saudi Arabia       3    1      0     2          2              7   \n",
       "3         4         Egypt       3    0      0     3          2              6   \n",
       "4         1         Spain       3    1      2     0          6              5   \n",
       "\n",
       "  Goal difference Points Group  \n",
       "0              +5      9     A  \n",
       "1              +4      6     A  \n",
       "2              −5      3     A  \n",
       "3              −4      0     A  \n",
       "4              +1      5     B  "
      ]
     },
     "execution_count": 73,
     "metadata": {},
     "output_type": "execute_result"
    }
   ],
   "source": [
    "df_group_stage.head()"
   ]
  },
  {
   "cell_type": "code",
   "execution_count": 74,
   "metadata": {
    "scrolled": true
   },
   "outputs": [
    {
     "data": {
      "text/plain": [
       "[('AFC', 'Australia'),\n",
       " ('AFC', 'Iran'),\n",
       " ('AFC', 'Japan'),\n",
       " ('AFC', 'Saudi Arabia'),\n",
       " ('AFC', 'South Korea'),\n",
       " ('CAF', 'Egypt'),\n",
       " ('CAF', 'Morocco'),\n",
       " ('CAF', 'Nigeria'),\n",
       " ('CAF', 'Senegal'),\n",
       " ('CAF', 'Tunisia'),\n",
       " ('CONCACAF', 'Costa Rica'),\n",
       " ('CONCACAF', 'Mexico'),\n",
       " ('CONCACAF', 'Panama'),\n",
       " ('CONMEBOL', 'Argentina'),\n",
       " ('CONMEBOL', 'Brazil'),\n",
       " ('CONMEBOL', 'Colombia'),\n",
       " ('CONMEBOL', 'Peru'),\n",
       " ('CONMEBOL', 'Uruguay'),\n",
       " ('UEFA', 'Belgium'),\n",
       " ('UEFA', 'Croatia'),\n",
       " ('UEFA', 'Denmark'),\n",
       " ('UEFA', 'England'),\n",
       " ('UEFA', 'France'),\n",
       " ('UEFA', 'Germany'),\n",
       " ('UEFA', 'Iceland'),\n",
       " ('UEFA', 'Poland'),\n",
       " ('UEFA', 'Portugal'),\n",
       " ('UEFA', 'Russia'),\n",
       " ('UEFA', 'Serbia'),\n",
       " ('UEFA', 'Spain'),\n",
       " ('UEFA', 'Sweden'),\n",
       " ('UEFA', 'Switzerland')]"
      ]
     },
     "execution_count": 74,
     "metadata": {},
     "output_type": "execute_result"
    }
   ],
   "source": [
    "## Dataset 2: Teams by confederation\n",
    "\n",
    "import pandas as pd\n",
    "\n",
    "with open('teams-by-confederation.json', 'r') as fp:\n",
    "    teams_by_conf = json.load(fp)\n",
    "    \n",
    "# create a list of tuples (confederation, country)\n",
    "# conf_and_country = [(conf, country) for conf in teams_by_conf.keys() for country in teams_by_conf[conf]]\n",
    "conf_and_country = [(conf, country) for conf, countries in teams_by_conf.items() for country in countries]\n",
    "\n",
    "conf_and_country"
   ]
  },
  {
   "cell_type": "code",
   "execution_count": 75,
   "metadata": {
    "scrolled": true
   },
   "outputs": [
    {
     "data": {
      "text/html": [
       "<div>\n",
       "<style scoped>\n",
       "    .dataframe tbody tr th:only-of-type {\n",
       "        vertical-align: middle;\n",
       "    }\n",
       "\n",
       "    .dataframe tbody tr th {\n",
       "        vertical-align: top;\n",
       "    }\n",
       "\n",
       "    .dataframe thead th {\n",
       "        text-align: right;\n",
       "    }\n",
       "</style>\n",
       "<table border=\"1\" class=\"dataframe\">\n",
       "  <thead>\n",
       "    <tr style=\"text-align: right;\">\n",
       "      <th></th>\n",
       "      <th>Confederation</th>\n",
       "      <th>Country</th>\n",
       "    </tr>\n",
       "  </thead>\n",
       "  <tbody>\n",
       "    <tr>\n",
       "      <th>0</th>\n",
       "      <td>AFC</td>\n",
       "      <td>Australia</td>\n",
       "    </tr>\n",
       "    <tr>\n",
       "      <th>1</th>\n",
       "      <td>AFC</td>\n",
       "      <td>Iran</td>\n",
       "    </tr>\n",
       "    <tr>\n",
       "      <th>2</th>\n",
       "      <td>AFC</td>\n",
       "      <td>Japan</td>\n",
       "    </tr>\n",
       "    <tr>\n",
       "      <th>3</th>\n",
       "      <td>AFC</td>\n",
       "      <td>Saudi Arabia</td>\n",
       "    </tr>\n",
       "    <tr>\n",
       "      <th>4</th>\n",
       "      <td>AFC</td>\n",
       "      <td>South Korea</td>\n",
       "    </tr>\n",
       "    <tr>\n",
       "      <th>5</th>\n",
       "      <td>CAF</td>\n",
       "      <td>Egypt</td>\n",
       "    </tr>\n",
       "    <tr>\n",
       "      <th>6</th>\n",
       "      <td>CAF</td>\n",
       "      <td>Morocco</td>\n",
       "    </tr>\n",
       "    <tr>\n",
       "      <th>7</th>\n",
       "      <td>CAF</td>\n",
       "      <td>Nigeria</td>\n",
       "    </tr>\n",
       "    <tr>\n",
       "      <th>8</th>\n",
       "      <td>CAF</td>\n",
       "      <td>Senegal</td>\n",
       "    </tr>\n",
       "    <tr>\n",
       "      <th>9</th>\n",
       "      <td>CAF</td>\n",
       "      <td>Tunisia</td>\n",
       "    </tr>\n",
       "    <tr>\n",
       "      <th>10</th>\n",
       "      <td>CONCACAF</td>\n",
       "      <td>Costa Rica</td>\n",
       "    </tr>\n",
       "    <tr>\n",
       "      <th>11</th>\n",
       "      <td>CONCACAF</td>\n",
       "      <td>Mexico</td>\n",
       "    </tr>\n",
       "    <tr>\n",
       "      <th>12</th>\n",
       "      <td>CONCACAF</td>\n",
       "      <td>Panama</td>\n",
       "    </tr>\n",
       "    <tr>\n",
       "      <th>13</th>\n",
       "      <td>CONMEBOL</td>\n",
       "      <td>Argentina</td>\n",
       "    </tr>\n",
       "    <tr>\n",
       "      <th>14</th>\n",
       "      <td>CONMEBOL</td>\n",
       "      <td>Brazil</td>\n",
       "    </tr>\n",
       "    <tr>\n",
       "      <th>15</th>\n",
       "      <td>CONMEBOL</td>\n",
       "      <td>Colombia</td>\n",
       "    </tr>\n",
       "    <tr>\n",
       "      <th>16</th>\n",
       "      <td>CONMEBOL</td>\n",
       "      <td>Peru</td>\n",
       "    </tr>\n",
       "    <tr>\n",
       "      <th>17</th>\n",
       "      <td>CONMEBOL</td>\n",
       "      <td>Uruguay</td>\n",
       "    </tr>\n",
       "    <tr>\n",
       "      <th>18</th>\n",
       "      <td>UEFA</td>\n",
       "      <td>Belgium</td>\n",
       "    </tr>\n",
       "    <tr>\n",
       "      <th>19</th>\n",
       "      <td>UEFA</td>\n",
       "      <td>Croatia</td>\n",
       "    </tr>\n",
       "    <tr>\n",
       "      <th>20</th>\n",
       "      <td>UEFA</td>\n",
       "      <td>Denmark</td>\n",
       "    </tr>\n",
       "    <tr>\n",
       "      <th>21</th>\n",
       "      <td>UEFA</td>\n",
       "      <td>England</td>\n",
       "    </tr>\n",
       "    <tr>\n",
       "      <th>22</th>\n",
       "      <td>UEFA</td>\n",
       "      <td>France</td>\n",
       "    </tr>\n",
       "    <tr>\n",
       "      <th>23</th>\n",
       "      <td>UEFA</td>\n",
       "      <td>Germany</td>\n",
       "    </tr>\n",
       "    <tr>\n",
       "      <th>24</th>\n",
       "      <td>UEFA</td>\n",
       "      <td>Iceland</td>\n",
       "    </tr>\n",
       "    <tr>\n",
       "      <th>25</th>\n",
       "      <td>UEFA</td>\n",
       "      <td>Poland</td>\n",
       "    </tr>\n",
       "    <tr>\n",
       "      <th>26</th>\n",
       "      <td>UEFA</td>\n",
       "      <td>Portugal</td>\n",
       "    </tr>\n",
       "    <tr>\n",
       "      <th>27</th>\n",
       "      <td>UEFA</td>\n",
       "      <td>Russia</td>\n",
       "    </tr>\n",
       "    <tr>\n",
       "      <th>28</th>\n",
       "      <td>UEFA</td>\n",
       "      <td>Serbia</td>\n",
       "    </tr>\n",
       "    <tr>\n",
       "      <th>29</th>\n",
       "      <td>UEFA</td>\n",
       "      <td>Spain</td>\n",
       "    </tr>\n",
       "    <tr>\n",
       "      <th>30</th>\n",
       "      <td>UEFA</td>\n",
       "      <td>Sweden</td>\n",
       "    </tr>\n",
       "    <tr>\n",
       "      <th>31</th>\n",
       "      <td>UEFA</td>\n",
       "      <td>Switzerland</td>\n",
       "    </tr>\n",
       "  </tbody>\n",
       "</table>\n",
       "</div>"
      ],
      "text/plain": [
       "   Confederation       Country\n",
       "0            AFC     Australia\n",
       "1            AFC          Iran\n",
       "2            AFC         Japan\n",
       "3            AFC  Saudi Arabia\n",
       "4            AFC   South Korea\n",
       "5            CAF         Egypt\n",
       "6            CAF       Morocco\n",
       "7            CAF       Nigeria\n",
       "8            CAF       Senegal\n",
       "9            CAF       Tunisia\n",
       "10      CONCACAF    Costa Rica\n",
       "11      CONCACAF        Mexico\n",
       "12      CONCACAF        Panama\n",
       "13      CONMEBOL     Argentina\n",
       "14      CONMEBOL        Brazil\n",
       "15      CONMEBOL      Colombia\n",
       "16      CONMEBOL          Peru\n",
       "17      CONMEBOL       Uruguay\n",
       "18          UEFA       Belgium\n",
       "19          UEFA       Croatia\n",
       "20          UEFA       Denmark\n",
       "21          UEFA       England\n",
       "22          UEFA        France\n",
       "23          UEFA       Germany\n",
       "24          UEFA       Iceland\n",
       "25          UEFA        Poland\n",
       "26          UEFA      Portugal\n",
       "27          UEFA        Russia\n",
       "28          UEFA        Serbia\n",
       "29          UEFA         Spain\n",
       "30          UEFA        Sweden\n",
       "31          UEFA   Switzerland"
      ]
     },
     "execution_count": 75,
     "metadata": {},
     "output_type": "execute_result"
    }
   ],
   "source": [
    "df_conf_and_country = pd.DataFrame(conf_and_country, columns=['Confederation', 'Country'])\n",
    "df_conf_and_country"
   ]
  },
  {
   "cell_type": "code",
   "execution_count": 168,
   "metadata": {},
   "outputs": [
    {
     "data": {
      "text/html": [
       "<div>\n",
       "<style scoped>\n",
       "    .dataframe tbody tr th:only-of-type {\n",
       "        vertical-align: middle;\n",
       "    }\n",
       "\n",
       "    .dataframe tbody tr th {\n",
       "        vertical-align: top;\n",
       "    }\n",
       "\n",
       "    .dataframe thead th {\n",
       "        text-align: right;\n",
       "    }\n",
       "</style>\n",
       "<table border=\"1\" class=\"dataframe\">\n",
       "  <thead>\n",
       "    <tr style=\"text-align: right;\">\n",
       "      <th></th>\n",
       "      <th>Position</th>\n",
       "      <th>Team</th>\n",
       "      <th>Played</th>\n",
       "      <th>Won</th>\n",
       "      <th>Drawn</th>\n",
       "      <th>Lost</th>\n",
       "      <th>Goals for</th>\n",
       "      <th>Goals against</th>\n",
       "      <th>Goal difference</th>\n",
       "      <th>Points</th>\n",
       "      <th>Group</th>\n",
       "      <th>Confederation</th>\n",
       "      <th>Country</th>\n",
       "    </tr>\n",
       "  </thead>\n",
       "  <tbody>\n",
       "    <tr>\n",
       "      <th>0</th>\n",
       "      <td>1</td>\n",
       "      <td>Uruguay</td>\n",
       "      <td>3</td>\n",
       "      <td>3</td>\n",
       "      <td>0</td>\n",
       "      <td>0</td>\n",
       "      <td>5</td>\n",
       "      <td>0</td>\n",
       "      <td>+5</td>\n",
       "      <td>9</td>\n",
       "      <td>A</td>\n",
       "      <td>CONMEBOL</td>\n",
       "      <td>Uruguay</td>\n",
       "    </tr>\n",
       "    <tr>\n",
       "      <th>1</th>\n",
       "      <td>2</td>\n",
       "      <td>Russia</td>\n",
       "      <td>3</td>\n",
       "      <td>2</td>\n",
       "      <td>0</td>\n",
       "      <td>1</td>\n",
       "      <td>8</td>\n",
       "      <td>4</td>\n",
       "      <td>+4</td>\n",
       "      <td>6</td>\n",
       "      <td>A</td>\n",
       "      <td>UEFA</td>\n",
       "      <td>Russia</td>\n",
       "    </tr>\n",
       "    <tr>\n",
       "      <th>2</th>\n",
       "      <td>3</td>\n",
       "      <td>Saudi Arabia</td>\n",
       "      <td>3</td>\n",
       "      <td>1</td>\n",
       "      <td>0</td>\n",
       "      <td>2</td>\n",
       "      <td>2</td>\n",
       "      <td>7</td>\n",
       "      <td>−5</td>\n",
       "      <td>3</td>\n",
       "      <td>A</td>\n",
       "      <td>AFC</td>\n",
       "      <td>Saudi Arabia</td>\n",
       "    </tr>\n",
       "    <tr>\n",
       "      <th>3</th>\n",
       "      <td>4</td>\n",
       "      <td>Egypt</td>\n",
       "      <td>3</td>\n",
       "      <td>0</td>\n",
       "      <td>0</td>\n",
       "      <td>3</td>\n",
       "      <td>2</td>\n",
       "      <td>6</td>\n",
       "      <td>−4</td>\n",
       "      <td>0</td>\n",
       "      <td>A</td>\n",
       "      <td>CAF</td>\n",
       "      <td>Egypt</td>\n",
       "    </tr>\n",
       "    <tr>\n",
       "      <th>4</th>\n",
       "      <td>1</td>\n",
       "      <td>Spain</td>\n",
       "      <td>3</td>\n",
       "      <td>1</td>\n",
       "      <td>2</td>\n",
       "      <td>0</td>\n",
       "      <td>6</td>\n",
       "      <td>5</td>\n",
       "      <td>+1</td>\n",
       "      <td>5</td>\n",
       "      <td>B</td>\n",
       "      <td>UEFA</td>\n",
       "      <td>Spain</td>\n",
       "    </tr>\n",
       "  </tbody>\n",
       "</table>\n",
       "</div>"
      ],
      "text/plain": [
       "   Position          Team  Played  Won  Drawn  Lost  Goals for  Goals against  \\\n",
       "0         1       Uruguay       3    3      0     0          5              0   \n",
       "1         2        Russia       3    2      0     1          8              4   \n",
       "2         3  Saudi Arabia       3    1      0     2          2              7   \n",
       "3         4         Egypt       3    0      0     3          2              6   \n",
       "4         1         Spain       3    1      2     0          6              5   \n",
       "\n",
       "  Goal difference Points Group Confederation       Country  \n",
       "0              +5      9     A      CONMEBOL       Uruguay  \n",
       "1              +4      6     A          UEFA        Russia  \n",
       "2              −5      3     A           AFC  Saudi Arabia  \n",
       "3              −4      0     A           CAF         Egypt  \n",
       "4              +1      5     B          UEFA         Spain  "
      ]
     },
     "execution_count": 168,
     "metadata": {},
     "output_type": "execute_result"
    }
   ],
   "source": [
    "# combine both dataframes by country\n",
    "\n",
    "df_fifa18 = pd.merge(left=df_group_stage, right=df_conf_and_country, left_on='Team', right_on='Country', how='left')\n",
    "df_fifa18.head()"
   ]
  },
  {
   "cell_type": "code",
   "execution_count": 237,
   "metadata": {},
   "outputs": [
    {
     "data": {
      "text/plain": [
       "25    G\n",
       "Name: Group, dtype: object"
      ]
     },
     "execution_count": 237,
     "metadata": {},
     "output_type": "execute_result"
    }
   ],
   "source": [
    "#TODO: Find out which group your favorite team is in\n",
    "my_fav_group = df_fifa18[df_fifa18['Team'] == 'England']['Group']\n",
    "my_fav_group"
   ]
  },
  {
   "cell_type": "markdown",
   "metadata": {},
   "source": [
    "> **Note for Italian and Dutch fans:** *You might get an IndexError or an empty Series as a result. Nothing to worry, save it for the 2022 version of this assignment(maybe)*\n",
    "\n",
    "<p align=\"center\" style=\"text-align:center\">\n",
    "  <img src=\"https://drive.google.com/uc?export=view&id=1HLs-N-l2t1GvAsw15IRC7EufbKZmp5pX\" alt=\"Netherlands-fifa-2018\" width=\"720p\">\n",
    "</p>\n",
    "<p align=\"center\" style=\"text-align:center\"> Source: me.me </p>\n"
   ]
  },
  {
   "cell_type": "code",
   "execution_count": 169,
   "metadata": {},
   "outputs": [
    {
     "name": "stdout",
     "output_type": "stream",
     "text": [
      "<class 'pandas.core.frame.DataFrame'>\n",
      "Int64Index: 32 entries, 0 to 31\n",
      "Data columns (total 13 columns):\n",
      "Position           32 non-null int64\n",
      "Team               32 non-null object\n",
      "Played             32 non-null int64\n",
      "Won                32 non-null int64\n",
      "Drawn              32 non-null int64\n",
      "Lost               32 non-null int64\n",
      "Goals for          32 non-null int64\n",
      "Goals against      32 non-null int64\n",
      "Goal difference    32 non-null object\n",
      "Points             32 non-null object\n",
      "Group              32 non-null object\n",
      "Confederation      32 non-null object\n",
      "Country            32 non-null object\n",
      "dtypes: int64(7), object(6)\n",
      "memory usage: 3.5+ KB\n"
     ]
    }
   ],
   "source": [
    "df_fifa18.info()"
   ]
  },
  {
   "cell_type": "code",
   "execution_count": 170,
   "metadata": {},
   "outputs": [],
   "source": [
    "# clean Russia :)\n",
    "\n",
    "# df_group_stage.iloc[1, 1] = 'Russia'\n",
    "df_group_stage.loc[1, 'Team'] = 'Russia'\n",
    "# df_group_stage[df_group_stage['Team'] == 'Russia(H)']['Team'] = 'Russia'"
   ]
  },
  {
   "cell_type": "code",
   "execution_count": 171,
   "metadata": {},
   "outputs": [
    {
     "data": {
      "text/html": [
       "<div>\n",
       "<style scoped>\n",
       "    .dataframe tbody tr th:only-of-type {\n",
       "        vertical-align: middle;\n",
       "    }\n",
       "\n",
       "    .dataframe tbody tr th {\n",
       "        vertical-align: top;\n",
       "    }\n",
       "\n",
       "    .dataframe thead th {\n",
       "        text-align: right;\n",
       "    }\n",
       "</style>\n",
       "<table border=\"1\" class=\"dataframe\">\n",
       "  <thead>\n",
       "    <tr style=\"text-align: right;\">\n",
       "      <th></th>\n",
       "      <th>Position</th>\n",
       "      <th>Team</th>\n",
       "      <th>Played</th>\n",
       "      <th>Won</th>\n",
       "      <th>Drawn</th>\n",
       "      <th>Lost</th>\n",
       "      <th>Goals for</th>\n",
       "      <th>Goals against</th>\n",
       "      <th>Goal difference</th>\n",
       "      <th>Points</th>\n",
       "      <th>Group</th>\n",
       "      <th>Confederation</th>\n",
       "      <th>Country</th>\n",
       "    </tr>\n",
       "  </thead>\n",
       "  <tbody>\n",
       "    <tr>\n",
       "      <th>0</th>\n",
       "      <td>1</td>\n",
       "      <td>Uruguay</td>\n",
       "      <td>3</td>\n",
       "      <td>3</td>\n",
       "      <td>0</td>\n",
       "      <td>0</td>\n",
       "      <td>5</td>\n",
       "      <td>0</td>\n",
       "      <td>+5</td>\n",
       "      <td>9</td>\n",
       "      <td>A</td>\n",
       "      <td>CONMEBOL</td>\n",
       "      <td>Uruguay</td>\n",
       "    </tr>\n",
       "    <tr>\n",
       "      <th>1</th>\n",
       "      <td>2</td>\n",
       "      <td>Russia</td>\n",
       "      <td>3</td>\n",
       "      <td>2</td>\n",
       "      <td>0</td>\n",
       "      <td>1</td>\n",
       "      <td>8</td>\n",
       "      <td>4</td>\n",
       "      <td>+4</td>\n",
       "      <td>6</td>\n",
       "      <td>A</td>\n",
       "      <td>UEFA</td>\n",
       "      <td>Russia</td>\n",
       "    </tr>\n",
       "    <tr>\n",
       "      <th>2</th>\n",
       "      <td>3</td>\n",
       "      <td>Saudi Arabia</td>\n",
       "      <td>3</td>\n",
       "      <td>1</td>\n",
       "      <td>0</td>\n",
       "      <td>2</td>\n",
       "      <td>2</td>\n",
       "      <td>7</td>\n",
       "      <td>−5</td>\n",
       "      <td>3</td>\n",
       "      <td>A</td>\n",
       "      <td>AFC</td>\n",
       "      <td>Saudi Arabia</td>\n",
       "    </tr>\n",
       "    <tr>\n",
       "      <th>3</th>\n",
       "      <td>4</td>\n",
       "      <td>Egypt</td>\n",
       "      <td>3</td>\n",
       "      <td>0</td>\n",
       "      <td>0</td>\n",
       "      <td>3</td>\n",
       "      <td>2</td>\n",
       "      <td>6</td>\n",
       "      <td>−4</td>\n",
       "      <td>0</td>\n",
       "      <td>A</td>\n",
       "      <td>CAF</td>\n",
       "      <td>Egypt</td>\n",
       "    </tr>\n",
       "    <tr>\n",
       "      <th>4</th>\n",
       "      <td>1</td>\n",
       "      <td>Spain</td>\n",
       "      <td>3</td>\n",
       "      <td>1</td>\n",
       "      <td>2</td>\n",
       "      <td>0</td>\n",
       "      <td>6</td>\n",
       "      <td>5</td>\n",
       "      <td>+1</td>\n",
       "      <td>5</td>\n",
       "      <td>B</td>\n",
       "      <td>UEFA</td>\n",
       "      <td>Spain</td>\n",
       "    </tr>\n",
       "  </tbody>\n",
       "</table>\n",
       "</div>"
      ],
      "text/plain": [
       "   Position          Team  Played  Won  Drawn  Lost  Goals for  Goals against  \\\n",
       "0         1       Uruguay       3    3      0     0          5              0   \n",
       "1         2        Russia       3    2      0     1          8              4   \n",
       "2         3  Saudi Arabia       3    1      0     2          2              7   \n",
       "3         4         Egypt       3    0      0     3          2              6   \n",
       "4         1         Spain       3    1      2     0          6              5   \n",
       "\n",
       "  Goal difference Points Group Confederation       Country  \n",
       "0              +5      9     A      CONMEBOL       Uruguay  \n",
       "1              +4      6     A          UEFA        Russia  \n",
       "2              −5      3     A           AFC  Saudi Arabia  \n",
       "3              −4      0     A           CAF         Egypt  \n",
       "4              +1      5     B          UEFA         Spain  "
      ]
     },
     "execution_count": 171,
     "metadata": {},
     "output_type": "execute_result"
    }
   ],
   "source": [
    "df_fifa18 = pd.merge(left=df_group_stage, right=df_conf_and_country, left_on='Team', right_on='Country', how='left')\n",
    "df_fifa18.head()"
   ]
  },
  {
   "cell_type": "code",
   "execution_count": 172,
   "metadata": {},
   "outputs": [
    {
     "name": "stdout",
     "output_type": "stream",
     "text": [
      "<class 'pandas.core.frame.DataFrame'>\n",
      "Int64Index: 32 entries, 0 to 31\n",
      "Data columns (total 13 columns):\n",
      "Position           32 non-null int64\n",
      "Team               32 non-null object\n",
      "Played             32 non-null int64\n",
      "Won                32 non-null int64\n",
      "Drawn              32 non-null int64\n",
      "Lost               32 non-null int64\n",
      "Goals for          32 non-null int64\n",
      "Goals against      32 non-null int64\n",
      "Goal difference    32 non-null object\n",
      "Points             32 non-null object\n",
      "Group              32 non-null object\n",
      "Confederation      32 non-null object\n",
      "Country            32 non-null object\n",
      "dtypes: int64(7), object(6)\n",
      "memory usage: 3.5+ KB\n"
     ]
    }
   ],
   "source": [
    "df_fifa18.info()"
   ]
  },
  {
   "cell_type": "code",
   "execution_count": 173,
   "metadata": {
    "scrolled": true
   },
   "outputs": [
    {
     "ename": "ValueError",
     "evalue": "invalid literal for int() with base 10: '−5'",
     "output_type": "error",
     "traceback": [
      "\u001b[1;31m---------------------------------------------------------------------------\u001b[0m",
      "\u001b[1;31mValueError\u001b[0m                                Traceback (most recent call last)",
      "\u001b[1;32m<ipython-input-173-ffdde4bc3e0a>\u001b[0m in \u001b[0;36m<module>\u001b[1;34m\u001b[0m\n\u001b[0;32m      1\u001b[0m \u001b[1;31m# change goal difference and points cols as int\u001b[0m\u001b[1;33m\u001b[0m\u001b[1;33m\u001b[0m\u001b[1;33m\u001b[0m\u001b[0m\n\u001b[0;32m      2\u001b[0m \u001b[1;33m\u001b[0m\u001b[0m\n\u001b[1;32m----> 3\u001b[1;33m \u001b[0mdf_fifa18\u001b[0m\u001b[1;33m[\u001b[0m\u001b[1;34m'Goal difference'\u001b[0m\u001b[1;33m]\u001b[0m\u001b[1;33m.\u001b[0m\u001b[0mastype\u001b[0m\u001b[1;33m(\u001b[0m\u001b[1;34m'int'\u001b[0m\u001b[1;33m)\u001b[0m\u001b[1;33m\u001b[0m\u001b[1;33m\u001b[0m\u001b[0m\n\u001b[0m",
      "\u001b[1;32m~\\Anaconda3\\lib\\site-packages\\pandas\\core\\generic.py\u001b[0m in \u001b[0;36mastype\u001b[1;34m(self, dtype, copy, errors, **kwargs)\u001b[0m\n\u001b[0;32m   5880\u001b[0m             \u001b[1;31m# else, only a single dtype is given\u001b[0m\u001b[1;33m\u001b[0m\u001b[1;33m\u001b[0m\u001b[1;33m\u001b[0m\u001b[0m\n\u001b[0;32m   5881\u001b[0m             new_data = self._data.astype(\n\u001b[1;32m-> 5882\u001b[1;33m                 \u001b[0mdtype\u001b[0m\u001b[1;33m=\u001b[0m\u001b[0mdtype\u001b[0m\u001b[1;33m,\u001b[0m \u001b[0mcopy\u001b[0m\u001b[1;33m=\u001b[0m\u001b[0mcopy\u001b[0m\u001b[1;33m,\u001b[0m \u001b[0merrors\u001b[0m\u001b[1;33m=\u001b[0m\u001b[0merrors\u001b[0m\u001b[1;33m,\u001b[0m \u001b[1;33m**\u001b[0m\u001b[0mkwargs\u001b[0m\u001b[1;33m\u001b[0m\u001b[1;33m\u001b[0m\u001b[0m\n\u001b[0m\u001b[0;32m   5883\u001b[0m             )\n\u001b[0;32m   5884\u001b[0m             \u001b[1;32mreturn\u001b[0m \u001b[0mself\u001b[0m\u001b[1;33m.\u001b[0m\u001b[0m_constructor\u001b[0m\u001b[1;33m(\u001b[0m\u001b[0mnew_data\u001b[0m\u001b[1;33m)\u001b[0m\u001b[1;33m.\u001b[0m\u001b[0m__finalize__\u001b[0m\u001b[1;33m(\u001b[0m\u001b[0mself\u001b[0m\u001b[1;33m)\u001b[0m\u001b[1;33m\u001b[0m\u001b[1;33m\u001b[0m\u001b[0m\n",
      "\u001b[1;32m~\\Anaconda3\\lib\\site-packages\\pandas\\core\\internals\\managers.py\u001b[0m in \u001b[0;36mastype\u001b[1;34m(self, dtype, **kwargs)\u001b[0m\n\u001b[0;32m    579\u001b[0m \u001b[1;33m\u001b[0m\u001b[0m\n\u001b[0;32m    580\u001b[0m     \u001b[1;32mdef\u001b[0m \u001b[0mastype\u001b[0m\u001b[1;33m(\u001b[0m\u001b[0mself\u001b[0m\u001b[1;33m,\u001b[0m \u001b[0mdtype\u001b[0m\u001b[1;33m,\u001b[0m \u001b[1;33m**\u001b[0m\u001b[0mkwargs\u001b[0m\u001b[1;33m)\u001b[0m\u001b[1;33m:\u001b[0m\u001b[1;33m\u001b[0m\u001b[1;33m\u001b[0m\u001b[0m\n\u001b[1;32m--> 581\u001b[1;33m         \u001b[1;32mreturn\u001b[0m \u001b[0mself\u001b[0m\u001b[1;33m.\u001b[0m\u001b[0mapply\u001b[0m\u001b[1;33m(\u001b[0m\u001b[1;34m\"astype\"\u001b[0m\u001b[1;33m,\u001b[0m \u001b[0mdtype\u001b[0m\u001b[1;33m=\u001b[0m\u001b[0mdtype\u001b[0m\u001b[1;33m,\u001b[0m \u001b[1;33m**\u001b[0m\u001b[0mkwargs\u001b[0m\u001b[1;33m)\u001b[0m\u001b[1;33m\u001b[0m\u001b[1;33m\u001b[0m\u001b[0m\n\u001b[0m\u001b[0;32m    582\u001b[0m \u001b[1;33m\u001b[0m\u001b[0m\n\u001b[0;32m    583\u001b[0m     \u001b[1;32mdef\u001b[0m \u001b[0mconvert\u001b[0m\u001b[1;33m(\u001b[0m\u001b[0mself\u001b[0m\u001b[1;33m,\u001b[0m \u001b[1;33m**\u001b[0m\u001b[0mkwargs\u001b[0m\u001b[1;33m)\u001b[0m\u001b[1;33m:\u001b[0m\u001b[1;33m\u001b[0m\u001b[1;33m\u001b[0m\u001b[0m\n",
      "\u001b[1;32m~\\Anaconda3\\lib\\site-packages\\pandas\\core\\internals\\managers.py\u001b[0m in \u001b[0;36mapply\u001b[1;34m(self, f, axes, filter, do_integrity_check, consolidate, **kwargs)\u001b[0m\n\u001b[0;32m    436\u001b[0m                     \u001b[0mkwargs\u001b[0m\u001b[1;33m[\u001b[0m\u001b[0mk\u001b[0m\u001b[1;33m]\u001b[0m \u001b[1;33m=\u001b[0m \u001b[0mobj\u001b[0m\u001b[1;33m.\u001b[0m\u001b[0mreindex\u001b[0m\u001b[1;33m(\u001b[0m\u001b[0mb_items\u001b[0m\u001b[1;33m,\u001b[0m \u001b[0maxis\u001b[0m\u001b[1;33m=\u001b[0m\u001b[0maxis\u001b[0m\u001b[1;33m,\u001b[0m \u001b[0mcopy\u001b[0m\u001b[1;33m=\u001b[0m\u001b[0malign_copy\u001b[0m\u001b[1;33m)\u001b[0m\u001b[1;33m\u001b[0m\u001b[1;33m\u001b[0m\u001b[0m\n\u001b[0;32m    437\u001b[0m \u001b[1;33m\u001b[0m\u001b[0m\n\u001b[1;32m--> 438\u001b[1;33m             \u001b[0mapplied\u001b[0m \u001b[1;33m=\u001b[0m \u001b[0mgetattr\u001b[0m\u001b[1;33m(\u001b[0m\u001b[0mb\u001b[0m\u001b[1;33m,\u001b[0m \u001b[0mf\u001b[0m\u001b[1;33m)\u001b[0m\u001b[1;33m(\u001b[0m\u001b[1;33m**\u001b[0m\u001b[0mkwargs\u001b[0m\u001b[1;33m)\u001b[0m\u001b[1;33m\u001b[0m\u001b[1;33m\u001b[0m\u001b[0m\n\u001b[0m\u001b[0;32m    439\u001b[0m             \u001b[0mresult_blocks\u001b[0m \u001b[1;33m=\u001b[0m \u001b[0m_extend_blocks\u001b[0m\u001b[1;33m(\u001b[0m\u001b[0mapplied\u001b[0m\u001b[1;33m,\u001b[0m \u001b[0mresult_blocks\u001b[0m\u001b[1;33m)\u001b[0m\u001b[1;33m\u001b[0m\u001b[1;33m\u001b[0m\u001b[0m\n\u001b[0;32m    440\u001b[0m \u001b[1;33m\u001b[0m\u001b[0m\n",
      "\u001b[1;32m~\\Anaconda3\\lib\\site-packages\\pandas\\core\\internals\\blocks.py\u001b[0m in \u001b[0;36mastype\u001b[1;34m(self, dtype, copy, errors, values, **kwargs)\u001b[0m\n\u001b[0;32m    557\u001b[0m \u001b[1;33m\u001b[0m\u001b[0m\n\u001b[0;32m    558\u001b[0m     \u001b[1;32mdef\u001b[0m \u001b[0mastype\u001b[0m\u001b[1;33m(\u001b[0m\u001b[0mself\u001b[0m\u001b[1;33m,\u001b[0m \u001b[0mdtype\u001b[0m\u001b[1;33m,\u001b[0m \u001b[0mcopy\u001b[0m\u001b[1;33m=\u001b[0m\u001b[1;32mFalse\u001b[0m\u001b[1;33m,\u001b[0m \u001b[0merrors\u001b[0m\u001b[1;33m=\u001b[0m\u001b[1;34m\"raise\"\u001b[0m\u001b[1;33m,\u001b[0m \u001b[0mvalues\u001b[0m\u001b[1;33m=\u001b[0m\u001b[1;32mNone\u001b[0m\u001b[1;33m,\u001b[0m \u001b[1;33m**\u001b[0m\u001b[0mkwargs\u001b[0m\u001b[1;33m)\u001b[0m\u001b[1;33m:\u001b[0m\u001b[1;33m\u001b[0m\u001b[1;33m\u001b[0m\u001b[0m\n\u001b[1;32m--> 559\u001b[1;33m         \u001b[1;32mreturn\u001b[0m \u001b[0mself\u001b[0m\u001b[1;33m.\u001b[0m\u001b[0m_astype\u001b[0m\u001b[1;33m(\u001b[0m\u001b[0mdtype\u001b[0m\u001b[1;33m,\u001b[0m \u001b[0mcopy\u001b[0m\u001b[1;33m=\u001b[0m\u001b[0mcopy\u001b[0m\u001b[1;33m,\u001b[0m \u001b[0merrors\u001b[0m\u001b[1;33m=\u001b[0m\u001b[0merrors\u001b[0m\u001b[1;33m,\u001b[0m \u001b[0mvalues\u001b[0m\u001b[1;33m=\u001b[0m\u001b[0mvalues\u001b[0m\u001b[1;33m,\u001b[0m \u001b[1;33m**\u001b[0m\u001b[0mkwargs\u001b[0m\u001b[1;33m)\u001b[0m\u001b[1;33m\u001b[0m\u001b[1;33m\u001b[0m\u001b[0m\n\u001b[0m\u001b[0;32m    560\u001b[0m \u001b[1;33m\u001b[0m\u001b[0m\n\u001b[0;32m    561\u001b[0m     \u001b[1;32mdef\u001b[0m \u001b[0m_astype\u001b[0m\u001b[1;33m(\u001b[0m\u001b[0mself\u001b[0m\u001b[1;33m,\u001b[0m \u001b[0mdtype\u001b[0m\u001b[1;33m,\u001b[0m \u001b[0mcopy\u001b[0m\u001b[1;33m=\u001b[0m\u001b[1;32mFalse\u001b[0m\u001b[1;33m,\u001b[0m \u001b[0merrors\u001b[0m\u001b[1;33m=\u001b[0m\u001b[1;34m\"raise\"\u001b[0m\u001b[1;33m,\u001b[0m \u001b[0mvalues\u001b[0m\u001b[1;33m=\u001b[0m\u001b[1;32mNone\u001b[0m\u001b[1;33m,\u001b[0m \u001b[1;33m**\u001b[0m\u001b[0mkwargs\u001b[0m\u001b[1;33m)\u001b[0m\u001b[1;33m:\u001b[0m\u001b[1;33m\u001b[0m\u001b[1;33m\u001b[0m\u001b[0m\n",
      "\u001b[1;32m~\\Anaconda3\\lib\\site-packages\\pandas\\core\\internals\\blocks.py\u001b[0m in \u001b[0;36m_astype\u001b[1;34m(self, dtype, copy, errors, values, **kwargs)\u001b[0m\n\u001b[0;32m    641\u001b[0m                     \u001b[1;31m# _astype_nansafe works fine with 1-d only\u001b[0m\u001b[1;33m\u001b[0m\u001b[1;33m\u001b[0m\u001b[1;33m\u001b[0m\u001b[0m\n\u001b[0;32m    642\u001b[0m                     \u001b[0mvals1d\u001b[0m \u001b[1;33m=\u001b[0m \u001b[0mvalues\u001b[0m\u001b[1;33m.\u001b[0m\u001b[0mravel\u001b[0m\u001b[1;33m(\u001b[0m\u001b[1;33m)\u001b[0m\u001b[1;33m\u001b[0m\u001b[1;33m\u001b[0m\u001b[0m\n\u001b[1;32m--> 643\u001b[1;33m                     \u001b[0mvalues\u001b[0m \u001b[1;33m=\u001b[0m \u001b[0mastype_nansafe\u001b[0m\u001b[1;33m(\u001b[0m\u001b[0mvals1d\u001b[0m\u001b[1;33m,\u001b[0m \u001b[0mdtype\u001b[0m\u001b[1;33m,\u001b[0m \u001b[0mcopy\u001b[0m\u001b[1;33m=\u001b[0m\u001b[1;32mTrue\u001b[0m\u001b[1;33m,\u001b[0m \u001b[1;33m**\u001b[0m\u001b[0mkwargs\u001b[0m\u001b[1;33m)\u001b[0m\u001b[1;33m\u001b[0m\u001b[1;33m\u001b[0m\u001b[0m\n\u001b[0m\u001b[0;32m    644\u001b[0m \u001b[1;33m\u001b[0m\u001b[0m\n\u001b[0;32m    645\u001b[0m                 \u001b[1;31m# TODO(extension)\u001b[0m\u001b[1;33m\u001b[0m\u001b[1;33m\u001b[0m\u001b[1;33m\u001b[0m\u001b[0m\n",
      "\u001b[1;32m~\\Anaconda3\\lib\\site-packages\\pandas\\core\\dtypes\\cast.py\u001b[0m in \u001b[0;36mastype_nansafe\u001b[1;34m(arr, dtype, copy, skipna)\u001b[0m\n\u001b[0;32m    705\u001b[0m         \u001b[1;31m# work around NumPy brokenness, #1987\u001b[0m\u001b[1;33m\u001b[0m\u001b[1;33m\u001b[0m\u001b[1;33m\u001b[0m\u001b[0m\n\u001b[0;32m    706\u001b[0m         \u001b[1;32mif\u001b[0m \u001b[0mnp\u001b[0m\u001b[1;33m.\u001b[0m\u001b[0missubdtype\u001b[0m\u001b[1;33m(\u001b[0m\u001b[0mdtype\u001b[0m\u001b[1;33m.\u001b[0m\u001b[0mtype\u001b[0m\u001b[1;33m,\u001b[0m \u001b[0mnp\u001b[0m\u001b[1;33m.\u001b[0m\u001b[0minteger\u001b[0m\u001b[1;33m)\u001b[0m\u001b[1;33m:\u001b[0m\u001b[1;33m\u001b[0m\u001b[1;33m\u001b[0m\u001b[0m\n\u001b[1;32m--> 707\u001b[1;33m             \u001b[1;32mreturn\u001b[0m \u001b[0mlib\u001b[0m\u001b[1;33m.\u001b[0m\u001b[0mastype_intsafe\u001b[0m\u001b[1;33m(\u001b[0m\u001b[0marr\u001b[0m\u001b[1;33m.\u001b[0m\u001b[0mravel\u001b[0m\u001b[1;33m(\u001b[0m\u001b[1;33m)\u001b[0m\u001b[1;33m,\u001b[0m \u001b[0mdtype\u001b[0m\u001b[1;33m)\u001b[0m\u001b[1;33m.\u001b[0m\u001b[0mreshape\u001b[0m\u001b[1;33m(\u001b[0m\u001b[0marr\u001b[0m\u001b[1;33m.\u001b[0m\u001b[0mshape\u001b[0m\u001b[1;33m)\u001b[0m\u001b[1;33m\u001b[0m\u001b[1;33m\u001b[0m\u001b[0m\n\u001b[0m\u001b[0;32m    708\u001b[0m \u001b[1;33m\u001b[0m\u001b[0m\n\u001b[0;32m    709\u001b[0m         \u001b[1;31m# if we have a datetime/timedelta array of objects\u001b[0m\u001b[1;33m\u001b[0m\u001b[1;33m\u001b[0m\u001b[1;33m\u001b[0m\u001b[0m\n",
      "\u001b[1;32mpandas/_libs/lib.pyx\u001b[0m in \u001b[0;36mpandas._libs.lib.astype_intsafe\u001b[1;34m()\u001b[0m\n",
      "\u001b[1;31mValueError\u001b[0m: invalid literal for int() with base 10: '−5'"
     ]
    }
   ],
   "source": [
    "# change goal difference and points cols as int\n",
    "\n",
    "df_fifa18['Goal difference'].astype('int')"
   ]
  },
  {
   "cell_type": "markdown",
   "metadata": {},
   "source": [
    "> So the error is saying that it can't convert **-5** to an integer."
   ]
  },
  {
   "cell_type": "code",
   "execution_count": 174,
   "metadata": {},
   "outputs": [
    {
     "data": {
      "text/plain": [
       "-5"
      ]
     },
     "execution_count": 174,
     "metadata": {},
     "output_type": "execute_result"
    }
   ],
   "source": [
    "### But, shouldn't '-5' be converted to -5\n",
    "### Let's check\n",
    "int('-5')"
   ]
  },
  {
   "cell_type": "markdown",
   "metadata": {},
   "source": [
    "<img src=\"https://image.shutterstock.com/image-vector/vector-cartoon-business-man-goes-260nw-345424919.jpg\">"
   ]
  },
  {
   "cell_type": "code",
   "execution_count": 175,
   "metadata": {},
   "outputs": [
    {
     "name": "stdout",
     "output_type": "stream",
     "text": [
      "- in -5 when typed manually is encoded as 45\n",
      "− in -5 from df_fifa18 is encoded as 8722\n"
     ]
    }
   ],
   "source": [
    "## So what's happening?\n",
    "## Let's check the encoding of the hyphen\n",
    "\n",
    "hyphen_typed = '-'\n",
    "print(f\"{hyphen_typed} in -5 when typed manually is encoded as {ord(hyphen_typed)}\")\n",
    "\n",
    "hyphen_df = df_fifa18.loc[2, 'Goal difference'][0]\n",
    "print(f\"{hyphen_df} in -5 from df_fifa18 is encoded as {ord(hyphen_df)}\")"
   ]
  },
  {
   "cell_type": "markdown",
   "metadata": {},
   "source": [
    "More explanation about the above problem [here](https://stackoverflow.com/a/58614410/9734484)"
   ]
  },
  {
   "cell_type": "code",
   "execution_count": 176,
   "metadata": {},
   "outputs": [
    {
     "data": {
      "text/plain": [
       "'0x2212'"
      ]
     },
     "execution_count": 176,
     "metadata": {},
     "output_type": "execute_result"
    }
   ],
   "source": [
    "# the unicode value for hyphen_df\n",
    "hex(ord(hyphen_df))"
   ]
  },
  {
   "cell_type": "code",
   "execution_count": 177,
   "metadata": {},
   "outputs": [],
   "source": [
    "### Let's change all the 'minus'es to 'hyphen-minus'es\n",
    "\n",
    "import re\n",
    "\n",
    "def replace_hyphen(string):\n",
    "    modified_string = re.sub(u\"\\u2212\", \"-\", string)\n",
    "    return modified_string\n",
    "\n",
    "                                \n",
    "df_fifa18['Goal difference'] = df_fifa18['Goal difference'].apply(replace_hyphen)"
   ]
  },
  {
   "cell_type": "code",
   "execution_count": 178,
   "metadata": {},
   "outputs": [],
   "source": [
    "df_fifa18['Goal difference'] = df_fifa18['Goal difference'].astype('int')"
   ]
  },
  {
   "cell_type": "markdown",
   "metadata": {},
   "source": [
    "<img src=\"https://memeshappen.com/media/created/2019/06/YES-.jpg\">"
   ]
  },
  {
   "cell_type": "code",
   "execution_count": 179,
   "metadata": {
    "scrolled": true
   },
   "outputs": [
    {
     "ename": "ValueError",
     "evalue": "invalid literal for int() with base 10: '4[a]'",
     "output_type": "error",
     "traceback": [
      "\u001b[1;31m---------------------------------------------------------------------------\u001b[0m",
      "\u001b[1;31mValueError\u001b[0m                                Traceback (most recent call last)",
      "\u001b[1;32m<ipython-input-179-746167d1d5b2>\u001b[0m in \u001b[0;36m<module>\u001b[1;34m\u001b[0m\n\u001b[0;32m      1\u001b[0m \u001b[1;31m# now \"int\"ify the Points column\u001b[0m\u001b[1;33m\u001b[0m\u001b[1;33m\u001b[0m\u001b[1;33m\u001b[0m\u001b[0m\n\u001b[0;32m      2\u001b[0m \u001b[1;33m\u001b[0m\u001b[0m\n\u001b[1;32m----> 3\u001b[1;33m \u001b[0mdf_fifa18\u001b[0m \u001b[1;33m=\u001b[0m \u001b[0mdf_fifa18\u001b[0m\u001b[1;33m[\u001b[0m\u001b[1;34m'Points'\u001b[0m\u001b[1;33m]\u001b[0m\u001b[1;33m.\u001b[0m\u001b[0mastype\u001b[0m\u001b[1;33m(\u001b[0m\u001b[1;34m'int'\u001b[0m\u001b[1;33m)\u001b[0m\u001b[1;33m\u001b[0m\u001b[1;33m\u001b[0m\u001b[0m\n\u001b[0m",
      "\u001b[1;32m~\\Anaconda3\\lib\\site-packages\\pandas\\core\\generic.py\u001b[0m in \u001b[0;36mastype\u001b[1;34m(self, dtype, copy, errors, **kwargs)\u001b[0m\n\u001b[0;32m   5880\u001b[0m             \u001b[1;31m# else, only a single dtype is given\u001b[0m\u001b[1;33m\u001b[0m\u001b[1;33m\u001b[0m\u001b[1;33m\u001b[0m\u001b[0m\n\u001b[0;32m   5881\u001b[0m             new_data = self._data.astype(\n\u001b[1;32m-> 5882\u001b[1;33m                 \u001b[0mdtype\u001b[0m\u001b[1;33m=\u001b[0m\u001b[0mdtype\u001b[0m\u001b[1;33m,\u001b[0m \u001b[0mcopy\u001b[0m\u001b[1;33m=\u001b[0m\u001b[0mcopy\u001b[0m\u001b[1;33m,\u001b[0m \u001b[0merrors\u001b[0m\u001b[1;33m=\u001b[0m\u001b[0merrors\u001b[0m\u001b[1;33m,\u001b[0m \u001b[1;33m**\u001b[0m\u001b[0mkwargs\u001b[0m\u001b[1;33m\u001b[0m\u001b[1;33m\u001b[0m\u001b[0m\n\u001b[0m\u001b[0;32m   5883\u001b[0m             )\n\u001b[0;32m   5884\u001b[0m             \u001b[1;32mreturn\u001b[0m \u001b[0mself\u001b[0m\u001b[1;33m.\u001b[0m\u001b[0m_constructor\u001b[0m\u001b[1;33m(\u001b[0m\u001b[0mnew_data\u001b[0m\u001b[1;33m)\u001b[0m\u001b[1;33m.\u001b[0m\u001b[0m__finalize__\u001b[0m\u001b[1;33m(\u001b[0m\u001b[0mself\u001b[0m\u001b[1;33m)\u001b[0m\u001b[1;33m\u001b[0m\u001b[1;33m\u001b[0m\u001b[0m\n",
      "\u001b[1;32m~\\Anaconda3\\lib\\site-packages\\pandas\\core\\internals\\managers.py\u001b[0m in \u001b[0;36mastype\u001b[1;34m(self, dtype, **kwargs)\u001b[0m\n\u001b[0;32m    579\u001b[0m \u001b[1;33m\u001b[0m\u001b[0m\n\u001b[0;32m    580\u001b[0m     \u001b[1;32mdef\u001b[0m \u001b[0mastype\u001b[0m\u001b[1;33m(\u001b[0m\u001b[0mself\u001b[0m\u001b[1;33m,\u001b[0m \u001b[0mdtype\u001b[0m\u001b[1;33m,\u001b[0m \u001b[1;33m**\u001b[0m\u001b[0mkwargs\u001b[0m\u001b[1;33m)\u001b[0m\u001b[1;33m:\u001b[0m\u001b[1;33m\u001b[0m\u001b[1;33m\u001b[0m\u001b[0m\n\u001b[1;32m--> 581\u001b[1;33m         \u001b[1;32mreturn\u001b[0m \u001b[0mself\u001b[0m\u001b[1;33m.\u001b[0m\u001b[0mapply\u001b[0m\u001b[1;33m(\u001b[0m\u001b[1;34m\"astype\"\u001b[0m\u001b[1;33m,\u001b[0m \u001b[0mdtype\u001b[0m\u001b[1;33m=\u001b[0m\u001b[0mdtype\u001b[0m\u001b[1;33m,\u001b[0m \u001b[1;33m**\u001b[0m\u001b[0mkwargs\u001b[0m\u001b[1;33m)\u001b[0m\u001b[1;33m\u001b[0m\u001b[1;33m\u001b[0m\u001b[0m\n\u001b[0m\u001b[0;32m    582\u001b[0m \u001b[1;33m\u001b[0m\u001b[0m\n\u001b[0;32m    583\u001b[0m     \u001b[1;32mdef\u001b[0m \u001b[0mconvert\u001b[0m\u001b[1;33m(\u001b[0m\u001b[0mself\u001b[0m\u001b[1;33m,\u001b[0m \u001b[1;33m**\u001b[0m\u001b[0mkwargs\u001b[0m\u001b[1;33m)\u001b[0m\u001b[1;33m:\u001b[0m\u001b[1;33m\u001b[0m\u001b[1;33m\u001b[0m\u001b[0m\n",
      "\u001b[1;32m~\\Anaconda3\\lib\\site-packages\\pandas\\core\\internals\\managers.py\u001b[0m in \u001b[0;36mapply\u001b[1;34m(self, f, axes, filter, do_integrity_check, consolidate, **kwargs)\u001b[0m\n\u001b[0;32m    436\u001b[0m                     \u001b[0mkwargs\u001b[0m\u001b[1;33m[\u001b[0m\u001b[0mk\u001b[0m\u001b[1;33m]\u001b[0m \u001b[1;33m=\u001b[0m \u001b[0mobj\u001b[0m\u001b[1;33m.\u001b[0m\u001b[0mreindex\u001b[0m\u001b[1;33m(\u001b[0m\u001b[0mb_items\u001b[0m\u001b[1;33m,\u001b[0m \u001b[0maxis\u001b[0m\u001b[1;33m=\u001b[0m\u001b[0maxis\u001b[0m\u001b[1;33m,\u001b[0m \u001b[0mcopy\u001b[0m\u001b[1;33m=\u001b[0m\u001b[0malign_copy\u001b[0m\u001b[1;33m)\u001b[0m\u001b[1;33m\u001b[0m\u001b[1;33m\u001b[0m\u001b[0m\n\u001b[0;32m    437\u001b[0m \u001b[1;33m\u001b[0m\u001b[0m\n\u001b[1;32m--> 438\u001b[1;33m             \u001b[0mapplied\u001b[0m \u001b[1;33m=\u001b[0m \u001b[0mgetattr\u001b[0m\u001b[1;33m(\u001b[0m\u001b[0mb\u001b[0m\u001b[1;33m,\u001b[0m \u001b[0mf\u001b[0m\u001b[1;33m)\u001b[0m\u001b[1;33m(\u001b[0m\u001b[1;33m**\u001b[0m\u001b[0mkwargs\u001b[0m\u001b[1;33m)\u001b[0m\u001b[1;33m\u001b[0m\u001b[1;33m\u001b[0m\u001b[0m\n\u001b[0m\u001b[0;32m    439\u001b[0m             \u001b[0mresult_blocks\u001b[0m \u001b[1;33m=\u001b[0m \u001b[0m_extend_blocks\u001b[0m\u001b[1;33m(\u001b[0m\u001b[0mapplied\u001b[0m\u001b[1;33m,\u001b[0m \u001b[0mresult_blocks\u001b[0m\u001b[1;33m)\u001b[0m\u001b[1;33m\u001b[0m\u001b[1;33m\u001b[0m\u001b[0m\n\u001b[0;32m    440\u001b[0m \u001b[1;33m\u001b[0m\u001b[0m\n",
      "\u001b[1;32m~\\Anaconda3\\lib\\site-packages\\pandas\\core\\internals\\blocks.py\u001b[0m in \u001b[0;36mastype\u001b[1;34m(self, dtype, copy, errors, values, **kwargs)\u001b[0m\n\u001b[0;32m    557\u001b[0m \u001b[1;33m\u001b[0m\u001b[0m\n\u001b[0;32m    558\u001b[0m     \u001b[1;32mdef\u001b[0m \u001b[0mastype\u001b[0m\u001b[1;33m(\u001b[0m\u001b[0mself\u001b[0m\u001b[1;33m,\u001b[0m \u001b[0mdtype\u001b[0m\u001b[1;33m,\u001b[0m \u001b[0mcopy\u001b[0m\u001b[1;33m=\u001b[0m\u001b[1;32mFalse\u001b[0m\u001b[1;33m,\u001b[0m \u001b[0merrors\u001b[0m\u001b[1;33m=\u001b[0m\u001b[1;34m\"raise\"\u001b[0m\u001b[1;33m,\u001b[0m \u001b[0mvalues\u001b[0m\u001b[1;33m=\u001b[0m\u001b[1;32mNone\u001b[0m\u001b[1;33m,\u001b[0m \u001b[1;33m**\u001b[0m\u001b[0mkwargs\u001b[0m\u001b[1;33m)\u001b[0m\u001b[1;33m:\u001b[0m\u001b[1;33m\u001b[0m\u001b[1;33m\u001b[0m\u001b[0m\n\u001b[1;32m--> 559\u001b[1;33m         \u001b[1;32mreturn\u001b[0m \u001b[0mself\u001b[0m\u001b[1;33m.\u001b[0m\u001b[0m_astype\u001b[0m\u001b[1;33m(\u001b[0m\u001b[0mdtype\u001b[0m\u001b[1;33m,\u001b[0m \u001b[0mcopy\u001b[0m\u001b[1;33m=\u001b[0m\u001b[0mcopy\u001b[0m\u001b[1;33m,\u001b[0m \u001b[0merrors\u001b[0m\u001b[1;33m=\u001b[0m\u001b[0merrors\u001b[0m\u001b[1;33m,\u001b[0m \u001b[0mvalues\u001b[0m\u001b[1;33m=\u001b[0m\u001b[0mvalues\u001b[0m\u001b[1;33m,\u001b[0m \u001b[1;33m**\u001b[0m\u001b[0mkwargs\u001b[0m\u001b[1;33m)\u001b[0m\u001b[1;33m\u001b[0m\u001b[1;33m\u001b[0m\u001b[0m\n\u001b[0m\u001b[0;32m    560\u001b[0m \u001b[1;33m\u001b[0m\u001b[0m\n\u001b[0;32m    561\u001b[0m     \u001b[1;32mdef\u001b[0m \u001b[0m_astype\u001b[0m\u001b[1;33m(\u001b[0m\u001b[0mself\u001b[0m\u001b[1;33m,\u001b[0m \u001b[0mdtype\u001b[0m\u001b[1;33m,\u001b[0m \u001b[0mcopy\u001b[0m\u001b[1;33m=\u001b[0m\u001b[1;32mFalse\u001b[0m\u001b[1;33m,\u001b[0m \u001b[0merrors\u001b[0m\u001b[1;33m=\u001b[0m\u001b[1;34m\"raise\"\u001b[0m\u001b[1;33m,\u001b[0m \u001b[0mvalues\u001b[0m\u001b[1;33m=\u001b[0m\u001b[1;32mNone\u001b[0m\u001b[1;33m,\u001b[0m \u001b[1;33m**\u001b[0m\u001b[0mkwargs\u001b[0m\u001b[1;33m)\u001b[0m\u001b[1;33m:\u001b[0m\u001b[1;33m\u001b[0m\u001b[1;33m\u001b[0m\u001b[0m\n",
      "\u001b[1;32m~\\Anaconda3\\lib\\site-packages\\pandas\\core\\internals\\blocks.py\u001b[0m in \u001b[0;36m_astype\u001b[1;34m(self, dtype, copy, errors, values, **kwargs)\u001b[0m\n\u001b[0;32m    641\u001b[0m                     \u001b[1;31m# _astype_nansafe works fine with 1-d only\u001b[0m\u001b[1;33m\u001b[0m\u001b[1;33m\u001b[0m\u001b[1;33m\u001b[0m\u001b[0m\n\u001b[0;32m    642\u001b[0m                     \u001b[0mvals1d\u001b[0m \u001b[1;33m=\u001b[0m \u001b[0mvalues\u001b[0m\u001b[1;33m.\u001b[0m\u001b[0mravel\u001b[0m\u001b[1;33m(\u001b[0m\u001b[1;33m)\u001b[0m\u001b[1;33m\u001b[0m\u001b[1;33m\u001b[0m\u001b[0m\n\u001b[1;32m--> 643\u001b[1;33m                     \u001b[0mvalues\u001b[0m \u001b[1;33m=\u001b[0m \u001b[0mastype_nansafe\u001b[0m\u001b[1;33m(\u001b[0m\u001b[0mvals1d\u001b[0m\u001b[1;33m,\u001b[0m \u001b[0mdtype\u001b[0m\u001b[1;33m,\u001b[0m \u001b[0mcopy\u001b[0m\u001b[1;33m=\u001b[0m\u001b[1;32mTrue\u001b[0m\u001b[1;33m,\u001b[0m \u001b[1;33m**\u001b[0m\u001b[0mkwargs\u001b[0m\u001b[1;33m)\u001b[0m\u001b[1;33m\u001b[0m\u001b[1;33m\u001b[0m\u001b[0m\n\u001b[0m\u001b[0;32m    644\u001b[0m \u001b[1;33m\u001b[0m\u001b[0m\n\u001b[0;32m    645\u001b[0m                 \u001b[1;31m# TODO(extension)\u001b[0m\u001b[1;33m\u001b[0m\u001b[1;33m\u001b[0m\u001b[1;33m\u001b[0m\u001b[0m\n",
      "\u001b[1;32m~\\Anaconda3\\lib\\site-packages\\pandas\\core\\dtypes\\cast.py\u001b[0m in \u001b[0;36mastype_nansafe\u001b[1;34m(arr, dtype, copy, skipna)\u001b[0m\n\u001b[0;32m    705\u001b[0m         \u001b[1;31m# work around NumPy brokenness, #1987\u001b[0m\u001b[1;33m\u001b[0m\u001b[1;33m\u001b[0m\u001b[1;33m\u001b[0m\u001b[0m\n\u001b[0;32m    706\u001b[0m         \u001b[1;32mif\u001b[0m \u001b[0mnp\u001b[0m\u001b[1;33m.\u001b[0m\u001b[0missubdtype\u001b[0m\u001b[1;33m(\u001b[0m\u001b[0mdtype\u001b[0m\u001b[1;33m.\u001b[0m\u001b[0mtype\u001b[0m\u001b[1;33m,\u001b[0m \u001b[0mnp\u001b[0m\u001b[1;33m.\u001b[0m\u001b[0minteger\u001b[0m\u001b[1;33m)\u001b[0m\u001b[1;33m:\u001b[0m\u001b[1;33m\u001b[0m\u001b[1;33m\u001b[0m\u001b[0m\n\u001b[1;32m--> 707\u001b[1;33m             \u001b[1;32mreturn\u001b[0m \u001b[0mlib\u001b[0m\u001b[1;33m.\u001b[0m\u001b[0mastype_intsafe\u001b[0m\u001b[1;33m(\u001b[0m\u001b[0marr\u001b[0m\u001b[1;33m.\u001b[0m\u001b[0mravel\u001b[0m\u001b[1;33m(\u001b[0m\u001b[1;33m)\u001b[0m\u001b[1;33m,\u001b[0m \u001b[0mdtype\u001b[0m\u001b[1;33m)\u001b[0m\u001b[1;33m.\u001b[0m\u001b[0mreshape\u001b[0m\u001b[1;33m(\u001b[0m\u001b[0marr\u001b[0m\u001b[1;33m.\u001b[0m\u001b[0mshape\u001b[0m\u001b[1;33m)\u001b[0m\u001b[1;33m\u001b[0m\u001b[1;33m\u001b[0m\u001b[0m\n\u001b[0m\u001b[0;32m    708\u001b[0m \u001b[1;33m\u001b[0m\u001b[0m\n\u001b[0;32m    709\u001b[0m         \u001b[1;31m# if we have a datetime/timedelta array of objects\u001b[0m\u001b[1;33m\u001b[0m\u001b[1;33m\u001b[0m\u001b[1;33m\u001b[0m\u001b[0m\n",
      "\u001b[1;32mpandas/_libs/lib.pyx\u001b[0m in \u001b[0;36mpandas._libs.lib.astype_intsafe\u001b[1;34m()\u001b[0m\n",
      "\u001b[1;31mValueError\u001b[0m: invalid literal for int() with base 10: '4[a]'"
     ]
    }
   ],
   "source": [
    "# now \"int\"ify the Points column\n",
    "\n",
    "df_fifa18 = df_fifa18['Points'].astype('int')"
   ]
  },
  {
   "cell_type": "markdown",
   "metadata": {},
   "source": [
    "<img src=\"http://m.quickmeme.com/img/e0/e0a9a3d82274827346dad8eea5339e6517244be9b44299fd6a5d5da2372e2a96.jpg\">"
   ]
  },
  {
   "cell_type": "code",
   "execution_count": 180,
   "metadata": {
    "scrolled": true
   },
   "outputs": [
    {
     "data": {
      "text/plain": [
       "0        9\n",
       "1        6\n",
       "2        3\n",
       "3        0\n",
       "4        5\n",
       "5        5\n",
       "6        4\n",
       "7        1\n",
       "8        7\n",
       "9        5\n",
       "10       3\n",
       "11       1\n",
       "12       9\n",
       "13       4\n",
       "14       3\n",
       "15       1\n",
       "16       7\n",
       "17       5\n",
       "18       3\n",
       "19       1\n",
       "20       6\n",
       "21       6\n",
       "22       3\n",
       "23       3\n",
       "24       9\n",
       "25       6\n",
       "26       3\n",
       "27       0\n",
       "28       6\n",
       "29    4[a]\n",
       "30    4[a]\n",
       "31       3\n",
       "Name: Points, dtype: object"
      ]
     },
     "execution_count": 180,
     "metadata": {},
     "output_type": "execute_result"
    }
   ],
   "source": [
    "# try printing out the Points column to find what's happening\n",
    "df_fifa18['Points']"
   ]
  },
  {
   "cell_type": "markdown",
   "metadata": {},
   "source": [
    "> **[a]** denotes that the qualifying team was selected by fair play points due to a tie. \n",
    "\n",
    "Seems like fair play turned well for *Japan* but not for us :("
   ]
  },
  {
   "cell_type": "code",
   "execution_count": 181,
   "metadata": {},
   "outputs": [],
   "source": [
    "def remove_non_numeric(string):\n",
    "    modified_string = re.sub(\"[^0-9]\", \"\", string)\n",
    "    return modified_string\n",
    "\n",
    "df_fifa18['Points'] = df_fifa18['Points'].apply(remove_non_numeric)\n",
    "df_fifa18['Points'] = df_fifa18['Points'].astype('int')"
   ]
  },
  {
   "cell_type": "code",
   "execution_count": 182,
   "metadata": {},
   "outputs": [
    {
     "name": "stdout",
     "output_type": "stream",
     "text": [
      "<class 'pandas.core.frame.DataFrame'>\n",
      "RangeIndex: 32 entries, 0 to 31\n",
      "Data columns (total 11 columns):\n",
      "Position           32 non-null int64\n",
      "Team               32 non-null object\n",
      "Played             32 non-null int64\n",
      "Won                32 non-null int64\n",
      "Drawn              32 non-null int64\n",
      "Lost               32 non-null int64\n",
      "Goals for          32 non-null int64\n",
      "Goals against      32 non-null int64\n",
      "Goal difference    32 non-null object\n",
      "Points             32 non-null object\n",
      "Group              32 non-null object\n",
      "dtypes: int64(7), object(4)\n",
      "memory usage: 2.9+ KB\n"
     ]
    }
   ],
   "source": [
    "df.info()"
   ]
  },
  {
   "cell_type": "markdown",
   "metadata": {},
   "source": [
    "If you are wondering why we went through all of this trouble for making these columns of type **object** to their original types,\n",
    "\n",
    "<p align=\"center\" style=\"text-align:center\">\n",
    "  <img src=\"https://drive.google.com/uc?export=view&id=1HQ8HnvGCPJSQEMGgmFBaTEuhV5QuNNHY\" alt=\"CNN\" width=\"720p\">\n",
    "</p>\n",
    "<!-- <p align=\"center\" style=\"text-align:center\"> Source: The Imitation Game </p> -->\n",
    "\n",
    "Yes, \"Carrots are orange, peas are green, they mustn't touch\" \n",
    "\n",
    "*I'm kidding, making them integers makes our life easier when doing analysis on those columns*\n",
    "*like performing mathematical calculations on them*"
   ]
  },
  {
   "cell_type": "code",
   "execution_count": 84,
   "metadata": {},
   "outputs": [
    {
     "data": {
      "text/html": [
       "<div>\n",
       "<style scoped>\n",
       "    .dataframe tbody tr th:only-of-type {\n",
       "        vertical-align: middle;\n",
       "    }\n",
       "\n",
       "    .dataframe tbody tr th {\n",
       "        vertical-align: top;\n",
       "    }\n",
       "\n",
       "    .dataframe thead th {\n",
       "        text-align: right;\n",
       "    }\n",
       "</style>\n",
       "<table border=\"1\" class=\"dataframe\">\n",
       "  <thead>\n",
       "    <tr style=\"text-align: right;\">\n",
       "      <th></th>\n",
       "      <th>Position</th>\n",
       "      <th>Played</th>\n",
       "      <th>Won</th>\n",
       "      <th>Drawn</th>\n",
       "      <th>Lost</th>\n",
       "      <th>Goals for</th>\n",
       "      <th>Goals against</th>\n",
       "    </tr>\n",
       "  </thead>\n",
       "  <tbody>\n",
       "    <tr>\n",
       "      <th>count</th>\n",
       "      <td>32.000000</td>\n",
       "      <td>32.0</td>\n",
       "      <td>32.00000</td>\n",
       "      <td>32.000000</td>\n",
       "      <td>32.000000</td>\n",
       "      <td>32.000000</td>\n",
       "      <td>32.000000</td>\n",
       "    </tr>\n",
       "    <tr>\n",
       "      <th>mean</th>\n",
       "      <td>2.500000</td>\n",
       "      <td>3.0</td>\n",
       "      <td>1.21875</td>\n",
       "      <td>0.562500</td>\n",
       "      <td>1.218750</td>\n",
       "      <td>3.812500</td>\n",
       "      <td>3.812500</td>\n",
       "    </tr>\n",
       "    <tr>\n",
       "      <th>std</th>\n",
       "      <td>1.135924</td>\n",
       "      <td>0.0</td>\n",
       "      <td>0.87009</td>\n",
       "      <td>0.715609</td>\n",
       "      <td>0.941323</td>\n",
       "      <td>2.070336</td>\n",
       "      <td>2.249552</td>\n",
       "    </tr>\n",
       "    <tr>\n",
       "      <th>min</th>\n",
       "      <td>1.000000</td>\n",
       "      <td>3.0</td>\n",
       "      <td>0.00000</td>\n",
       "      <td>0.000000</td>\n",
       "      <td>0.000000</td>\n",
       "      <td>2.000000</td>\n",
       "      <td>0.000000</td>\n",
       "    </tr>\n",
       "    <tr>\n",
       "      <th>25%</th>\n",
       "      <td>1.750000</td>\n",
       "      <td>3.0</td>\n",
       "      <td>1.00000</td>\n",
       "      <td>0.000000</td>\n",
       "      <td>0.000000</td>\n",
       "      <td>2.000000</td>\n",
       "      <td>2.000000</td>\n",
       "    </tr>\n",
       "    <tr>\n",
       "      <th>50%</th>\n",
       "      <td>2.500000</td>\n",
       "      <td>3.0</td>\n",
       "      <td>1.00000</td>\n",
       "      <td>0.000000</td>\n",
       "      <td>1.000000</td>\n",
       "      <td>3.000000</td>\n",
       "      <td>4.000000</td>\n",
       "    </tr>\n",
       "    <tr>\n",
       "      <th>75%</th>\n",
       "      <td>3.250000</td>\n",
       "      <td>3.0</td>\n",
       "      <td>2.00000</td>\n",
       "      <td>1.000000</td>\n",
       "      <td>2.000000</td>\n",
       "      <td>5.000000</td>\n",
       "      <td>5.000000</td>\n",
       "    </tr>\n",
       "    <tr>\n",
       "      <th>max</th>\n",
       "      <td>4.000000</td>\n",
       "      <td>3.0</td>\n",
       "      <td>3.00000</td>\n",
       "      <td>2.000000</td>\n",
       "      <td>3.000000</td>\n",
       "      <td>9.000000</td>\n",
       "      <td>11.000000</td>\n",
       "    </tr>\n",
       "  </tbody>\n",
       "</table>\n",
       "</div>"
      ],
      "text/plain": [
       "        Position  Played       Won      Drawn       Lost  Goals for  \\\n",
       "count  32.000000    32.0  32.00000  32.000000  32.000000  32.000000   \n",
       "mean    2.500000     3.0   1.21875   0.562500   1.218750   3.812500   \n",
       "std     1.135924     0.0   0.87009   0.715609   0.941323   2.070336   \n",
       "min     1.000000     3.0   0.00000   0.000000   0.000000   2.000000   \n",
       "25%     1.750000     3.0   1.00000   0.000000   0.000000   2.000000   \n",
       "50%     2.500000     3.0   1.00000   0.000000   1.000000   3.000000   \n",
       "75%     3.250000     3.0   2.00000   1.000000   2.000000   5.000000   \n",
       "max     4.000000     3.0   3.00000   2.000000   3.000000   9.000000   \n",
       "\n",
       "       Goals against  \n",
       "count      32.000000  \n",
       "mean        3.812500  \n",
       "std         2.249552  \n",
       "min         0.000000  \n",
       "25%         2.000000  \n",
       "50%         4.000000  \n",
       "75%         5.000000  \n",
       "max        11.000000  "
      ]
     },
     "execution_count": 84,
     "metadata": {},
     "output_type": "execute_result"
    }
   ],
   "source": [
    "df_fifa18.describe()"
   ]
  },
  {
   "cell_type": "code",
   "execution_count": 166,
   "metadata": {},
   "outputs": [],
   "source": [
    "#TODO:\n",
    "# 1. Average goals scored\n",
    "# 2. Most games won"
   ]
  },
  {
   "cell_type": "code",
   "execution_count": 205,
   "metadata": {},
   "outputs": [
    {
     "data": {
      "text/html": [
       "<div>\n",
       "<style scoped>\n",
       "    .dataframe tbody tr th:only-of-type {\n",
       "        vertical-align: middle;\n",
       "    }\n",
       "\n",
       "    .dataframe tbody tr th {\n",
       "        vertical-align: top;\n",
       "    }\n",
       "\n",
       "    .dataframe thead th {\n",
       "        text-align: right;\n",
       "    }\n",
       "</style>\n",
       "<table border=\"1\" class=\"dataframe\">\n",
       "  <thead>\n",
       "    <tr style=\"text-align: right;\">\n",
       "      <th></th>\n",
       "      <th>Position</th>\n",
       "      <th>Team</th>\n",
       "      <th>Played</th>\n",
       "      <th>Won</th>\n",
       "      <th>Drawn</th>\n",
       "      <th>Lost</th>\n",
       "      <th>Goals for</th>\n",
       "      <th>Goals against</th>\n",
       "      <th>Goal difference</th>\n",
       "      <th>Points</th>\n",
       "      <th>Group</th>\n",
       "      <th>Confederation</th>\n",
       "      <th>Country</th>\n",
       "    </tr>\n",
       "  </thead>\n",
       "  <tbody>\n",
       "    <tr>\n",
       "      <th>0</th>\n",
       "      <td>1</td>\n",
       "      <td>Uruguay</td>\n",
       "      <td>3</td>\n",
       "      <td>3</td>\n",
       "      <td>0</td>\n",
       "      <td>0</td>\n",
       "      <td>5</td>\n",
       "      <td>0</td>\n",
       "      <td>5</td>\n",
       "      <td>9</td>\n",
       "      <td>A</td>\n",
       "      <td>CONMEBOL</td>\n",
       "      <td>Uruguay</td>\n",
       "    </tr>\n",
       "    <tr>\n",
       "      <th>1</th>\n",
       "      <td>2</td>\n",
       "      <td>Russia</td>\n",
       "      <td>3</td>\n",
       "      <td>2</td>\n",
       "      <td>0</td>\n",
       "      <td>1</td>\n",
       "      <td>8</td>\n",
       "      <td>4</td>\n",
       "      <td>4</td>\n",
       "      <td>6</td>\n",
       "      <td>A</td>\n",
       "      <td>UEFA</td>\n",
       "      <td>Russia</td>\n",
       "    </tr>\n",
       "    <tr>\n",
       "      <th>2</th>\n",
       "      <td>3</td>\n",
       "      <td>Saudi Arabia</td>\n",
       "      <td>3</td>\n",
       "      <td>1</td>\n",
       "      <td>0</td>\n",
       "      <td>2</td>\n",
       "      <td>2</td>\n",
       "      <td>7</td>\n",
       "      <td>-5</td>\n",
       "      <td>3</td>\n",
       "      <td>A</td>\n",
       "      <td>AFC</td>\n",
       "      <td>Saudi Arabia</td>\n",
       "    </tr>\n",
       "    <tr>\n",
       "      <th>3</th>\n",
       "      <td>4</td>\n",
       "      <td>Egypt</td>\n",
       "      <td>3</td>\n",
       "      <td>0</td>\n",
       "      <td>0</td>\n",
       "      <td>3</td>\n",
       "      <td>2</td>\n",
       "      <td>6</td>\n",
       "      <td>-4</td>\n",
       "      <td>0</td>\n",
       "      <td>A</td>\n",
       "      <td>CAF</td>\n",
       "      <td>Egypt</td>\n",
       "    </tr>\n",
       "    <tr>\n",
       "      <th>4</th>\n",
       "      <td>1</td>\n",
       "      <td>Spain</td>\n",
       "      <td>3</td>\n",
       "      <td>1</td>\n",
       "      <td>2</td>\n",
       "      <td>0</td>\n",
       "      <td>6</td>\n",
       "      <td>5</td>\n",
       "      <td>1</td>\n",
       "      <td>5</td>\n",
       "      <td>B</td>\n",
       "      <td>UEFA</td>\n",
       "      <td>Spain</td>\n",
       "    </tr>\n",
       "  </tbody>\n",
       "</table>\n",
       "</div>"
      ],
      "text/plain": [
       "   Position          Team  Played  Won  Drawn  Lost  Goals for  Goals against  \\\n",
       "0         1       Uruguay       3    3      0     0          5              0   \n",
       "1         2        Russia       3    2      0     1          8              4   \n",
       "2         3  Saudi Arabia       3    1      0     2          2              7   \n",
       "3         4         Egypt       3    0      0     3          2              6   \n",
       "4         1         Spain       3    1      2     0          6              5   \n",
       "\n",
       "   Goal difference  Points Group Confederation       Country  \n",
       "0                5       9     A      CONMEBOL       Uruguay  \n",
       "1                4       6     A          UEFA        Russia  \n",
       "2               -5       3     A           AFC  Saudi Arabia  \n",
       "3               -4       0     A           CAF         Egypt  \n",
       "4                1       5     B          UEFA         Spain  "
      ]
     },
     "execution_count": 205,
     "metadata": {},
     "output_type": "execute_result"
    }
   ],
   "source": [
    "df_fifa18.head()"
   ]
  },
  {
   "cell_type": "code",
   "execution_count": 215,
   "metadata": {},
   "outputs": [
    {
     "data": {
      "text/html": [
       "<div>\n",
       "<style scoped>\n",
       "    .dataframe tbody tr th:only-of-type {\n",
       "        vertical-align: middle;\n",
       "    }\n",
       "\n",
       "    .dataframe tbody tr th {\n",
       "        vertical-align: top;\n",
       "    }\n",
       "\n",
       "    .dataframe thead th {\n",
       "        text-align: right;\n",
       "    }\n",
       "</style>\n",
       "<table border=\"1\" class=\"dataframe\">\n",
       "  <thead>\n",
       "    <tr style=\"text-align: right;\">\n",
       "      <th></th>\n",
       "      <th>Position</th>\n",
       "      <th>Team</th>\n",
       "      <th>Played</th>\n",
       "      <th>Won</th>\n",
       "      <th>Drawn</th>\n",
       "      <th>Lost</th>\n",
       "      <th>Goals for</th>\n",
       "      <th>Goals against</th>\n",
       "      <th>Goal difference</th>\n",
       "      <th>Points</th>\n",
       "      <th>Group</th>\n",
       "      <th>Confederation</th>\n",
       "      <th>Country</th>\n",
       "    </tr>\n",
       "  </thead>\n",
       "  <tbody>\n",
       "    <tr>\n",
       "      <th>0</th>\n",
       "      <td>1</td>\n",
       "      <td>Uruguay</td>\n",
       "      <td>3</td>\n",
       "      <td>3</td>\n",
       "      <td>0</td>\n",
       "      <td>0</td>\n",
       "      <td>5</td>\n",
       "      <td>0</td>\n",
       "      <td>5</td>\n",
       "      <td>9</td>\n",
       "      <td>A</td>\n",
       "      <td>CONMEBOL</td>\n",
       "      <td>Uruguay</td>\n",
       "    </tr>\n",
       "    <tr>\n",
       "      <th>1</th>\n",
       "      <td>2</td>\n",
       "      <td>Russia</td>\n",
       "      <td>3</td>\n",
       "      <td>2</td>\n",
       "      <td>0</td>\n",
       "      <td>1</td>\n",
       "      <td>8</td>\n",
       "      <td>4</td>\n",
       "      <td>4</td>\n",
       "      <td>6</td>\n",
       "      <td>A</td>\n",
       "      <td>UEFA</td>\n",
       "      <td>Russia</td>\n",
       "    </tr>\n",
       "    <tr>\n",
       "      <th>4</th>\n",
       "      <td>1</td>\n",
       "      <td>Spain</td>\n",
       "      <td>3</td>\n",
       "      <td>1</td>\n",
       "      <td>2</td>\n",
       "      <td>0</td>\n",
       "      <td>6</td>\n",
       "      <td>5</td>\n",
       "      <td>1</td>\n",
       "      <td>5</td>\n",
       "      <td>B</td>\n",
       "      <td>UEFA</td>\n",
       "      <td>Spain</td>\n",
       "    </tr>\n",
       "    <tr>\n",
       "      <th>5</th>\n",
       "      <td>2</td>\n",
       "      <td>Portugal</td>\n",
       "      <td>3</td>\n",
       "      <td>1</td>\n",
       "      <td>2</td>\n",
       "      <td>0</td>\n",
       "      <td>5</td>\n",
       "      <td>4</td>\n",
       "      <td>1</td>\n",
       "      <td>5</td>\n",
       "      <td>B</td>\n",
       "      <td>UEFA</td>\n",
       "      <td>Portugal</td>\n",
       "    </tr>\n",
       "    <tr>\n",
       "      <th>8</th>\n",
       "      <td>1</td>\n",
       "      <td>France</td>\n",
       "      <td>3</td>\n",
       "      <td>2</td>\n",
       "      <td>1</td>\n",
       "      <td>0</td>\n",
       "      <td>3</td>\n",
       "      <td>1</td>\n",
       "      <td>2</td>\n",
       "      <td>7</td>\n",
       "      <td>C</td>\n",
       "      <td>UEFA</td>\n",
       "      <td>France</td>\n",
       "    </tr>\n",
       "    <tr>\n",
       "      <th>9</th>\n",
       "      <td>2</td>\n",
       "      <td>Denmark</td>\n",
       "      <td>3</td>\n",
       "      <td>1</td>\n",
       "      <td>2</td>\n",
       "      <td>0</td>\n",
       "      <td>2</td>\n",
       "      <td>1</td>\n",
       "      <td>1</td>\n",
       "      <td>5</td>\n",
       "      <td>C</td>\n",
       "      <td>UEFA</td>\n",
       "      <td>Denmark</td>\n",
       "    </tr>\n",
       "    <tr>\n",
       "      <th>12</th>\n",
       "      <td>1</td>\n",
       "      <td>Croatia</td>\n",
       "      <td>3</td>\n",
       "      <td>3</td>\n",
       "      <td>0</td>\n",
       "      <td>0</td>\n",
       "      <td>7</td>\n",
       "      <td>1</td>\n",
       "      <td>6</td>\n",
       "      <td>9</td>\n",
       "      <td>D</td>\n",
       "      <td>UEFA</td>\n",
       "      <td>Croatia</td>\n",
       "    </tr>\n",
       "    <tr>\n",
       "      <th>13</th>\n",
       "      <td>2</td>\n",
       "      <td>Argentina</td>\n",
       "      <td>3</td>\n",
       "      <td>1</td>\n",
       "      <td>1</td>\n",
       "      <td>1</td>\n",
       "      <td>3</td>\n",
       "      <td>5</td>\n",
       "      <td>-2</td>\n",
       "      <td>4</td>\n",
       "      <td>D</td>\n",
       "      <td>CONMEBOL</td>\n",
       "      <td>Argentina</td>\n",
       "    </tr>\n",
       "    <tr>\n",
       "      <th>16</th>\n",
       "      <td>1</td>\n",
       "      <td>Brazil</td>\n",
       "      <td>3</td>\n",
       "      <td>2</td>\n",
       "      <td>1</td>\n",
       "      <td>0</td>\n",
       "      <td>5</td>\n",
       "      <td>1</td>\n",
       "      <td>4</td>\n",
       "      <td>7</td>\n",
       "      <td>E</td>\n",
       "      <td>CONMEBOL</td>\n",
       "      <td>Brazil</td>\n",
       "    </tr>\n",
       "    <tr>\n",
       "      <th>17</th>\n",
       "      <td>2</td>\n",
       "      <td>Switzerland</td>\n",
       "      <td>3</td>\n",
       "      <td>1</td>\n",
       "      <td>2</td>\n",
       "      <td>0</td>\n",
       "      <td>5</td>\n",
       "      <td>4</td>\n",
       "      <td>1</td>\n",
       "      <td>5</td>\n",
       "      <td>E</td>\n",
       "      <td>UEFA</td>\n",
       "      <td>Switzerland</td>\n",
       "    </tr>\n",
       "    <tr>\n",
       "      <th>20</th>\n",
       "      <td>1</td>\n",
       "      <td>Sweden</td>\n",
       "      <td>3</td>\n",
       "      <td>2</td>\n",
       "      <td>0</td>\n",
       "      <td>1</td>\n",
       "      <td>5</td>\n",
       "      <td>2</td>\n",
       "      <td>3</td>\n",
       "      <td>6</td>\n",
       "      <td>F</td>\n",
       "      <td>UEFA</td>\n",
       "      <td>Sweden</td>\n",
       "    </tr>\n",
       "    <tr>\n",
       "      <th>21</th>\n",
       "      <td>2</td>\n",
       "      <td>Mexico</td>\n",
       "      <td>3</td>\n",
       "      <td>2</td>\n",
       "      <td>0</td>\n",
       "      <td>1</td>\n",
       "      <td>3</td>\n",
       "      <td>4</td>\n",
       "      <td>-1</td>\n",
       "      <td>6</td>\n",
       "      <td>F</td>\n",
       "      <td>CONCACAF</td>\n",
       "      <td>Mexico</td>\n",
       "    </tr>\n",
       "    <tr>\n",
       "      <th>24</th>\n",
       "      <td>1</td>\n",
       "      <td>Belgium</td>\n",
       "      <td>3</td>\n",
       "      <td>3</td>\n",
       "      <td>0</td>\n",
       "      <td>0</td>\n",
       "      <td>9</td>\n",
       "      <td>2</td>\n",
       "      <td>7</td>\n",
       "      <td>9</td>\n",
       "      <td>G</td>\n",
       "      <td>UEFA</td>\n",
       "      <td>Belgium</td>\n",
       "    </tr>\n",
       "    <tr>\n",
       "      <th>25</th>\n",
       "      <td>2</td>\n",
       "      <td>England</td>\n",
       "      <td>3</td>\n",
       "      <td>2</td>\n",
       "      <td>0</td>\n",
       "      <td>1</td>\n",
       "      <td>8</td>\n",
       "      <td>3</td>\n",
       "      <td>5</td>\n",
       "      <td>6</td>\n",
       "      <td>G</td>\n",
       "      <td>UEFA</td>\n",
       "      <td>England</td>\n",
       "    </tr>\n",
       "    <tr>\n",
       "      <th>28</th>\n",
       "      <td>1</td>\n",
       "      <td>Colombia</td>\n",
       "      <td>3</td>\n",
       "      <td>2</td>\n",
       "      <td>0</td>\n",
       "      <td>1</td>\n",
       "      <td>5</td>\n",
       "      <td>2</td>\n",
       "      <td>3</td>\n",
       "      <td>6</td>\n",
       "      <td>H</td>\n",
       "      <td>CONMEBOL</td>\n",
       "      <td>Colombia</td>\n",
       "    </tr>\n",
       "    <tr>\n",
       "      <th>29</th>\n",
       "      <td>2</td>\n",
       "      <td>Japan</td>\n",
       "      <td>3</td>\n",
       "      <td>1</td>\n",
       "      <td>1</td>\n",
       "      <td>1</td>\n",
       "      <td>4</td>\n",
       "      <td>4</td>\n",
       "      <td>0</td>\n",
       "      <td>4</td>\n",
       "      <td>H</td>\n",
       "      <td>AFC</td>\n",
       "      <td>Japan</td>\n",
       "    </tr>\n",
       "  </tbody>\n",
       "</table>\n",
       "</div>"
      ],
      "text/plain": [
       "    Position         Team  Played  Won  Drawn  Lost  Goals for  Goals against  \\\n",
       "0          1      Uruguay       3    3      0     0          5              0   \n",
       "1          2       Russia       3    2      0     1          8              4   \n",
       "4          1        Spain       3    1      2     0          6              5   \n",
       "5          2     Portugal       3    1      2     0          5              4   \n",
       "8          1       France       3    2      1     0          3              1   \n",
       "9          2      Denmark       3    1      2     0          2              1   \n",
       "12         1      Croatia       3    3      0     0          7              1   \n",
       "13         2    Argentina       3    1      1     1          3              5   \n",
       "16         1       Brazil       3    2      1     0          5              1   \n",
       "17         2  Switzerland       3    1      2     0          5              4   \n",
       "20         1       Sweden       3    2      0     1          5              2   \n",
       "21         2       Mexico       3    2      0     1          3              4   \n",
       "24         1      Belgium       3    3      0     0          9              2   \n",
       "25         2      England       3    2      0     1          8              3   \n",
       "28         1     Colombia       3    2      0     1          5              2   \n",
       "29         2        Japan       3    1      1     1          4              4   \n",
       "\n",
       "    Goal difference  Points Group Confederation      Country  \n",
       "0                 5       9     A      CONMEBOL      Uruguay  \n",
       "1                 4       6     A          UEFA       Russia  \n",
       "4                 1       5     B          UEFA        Spain  \n",
       "5                 1       5     B          UEFA     Portugal  \n",
       "8                 2       7     C          UEFA       France  \n",
       "9                 1       5     C          UEFA      Denmark  \n",
       "12                6       9     D          UEFA      Croatia  \n",
       "13               -2       4     D      CONMEBOL    Argentina  \n",
       "16                4       7     E      CONMEBOL       Brazil  \n",
       "17                1       5     E          UEFA  Switzerland  \n",
       "20                3       6     F          UEFA       Sweden  \n",
       "21               -1       6     F      CONCACAF       Mexico  \n",
       "24                7       9     G          UEFA      Belgium  \n",
       "25                5       6     G          UEFA      England  \n",
       "28                3       6     H      CONMEBOL     Colombia  \n",
       "29                0       4     H           AFC        Japan  "
      ]
     },
     "execution_count": 215,
     "metadata": {},
     "output_type": "execute_result"
    }
   ],
   "source": [
    "#TODO: Create a df with data of teams that qualified from each group to the Round of 16\n",
    "#Hint: Select teams with appropriate 'Position' value\n",
    "\n",
    "df_teams_round_16 = df_fifa18[df_fifa18['Position'].isin([1, 2])]\n",
    "df_teams_round_16"
   ]
  },
  {
   "cell_type": "code",
   "execution_count": null,
   "metadata": {},
   "outputs": [],
   "source": []
  },
  {
   "cell_type": "code",
   "execution_count": 217,
   "metadata": {},
   "outputs": [
    {
     "data": {
      "text/html": [
       "<div>\n",
       "<style scoped>\n",
       "    .dataframe tbody tr th:only-of-type {\n",
       "        vertical-align: middle;\n",
       "    }\n",
       "\n",
       "    .dataframe tbody tr th {\n",
       "        vertical-align: top;\n",
       "    }\n",
       "\n",
       "    .dataframe thead th {\n",
       "        text-align: right;\n",
       "    }\n",
       "</style>\n",
       "<table border=\"1\" class=\"dataframe\">\n",
       "  <thead>\n",
       "    <tr style=\"text-align: right;\">\n",
       "      <th></th>\n",
       "      <th>index</th>\n",
       "      <th>Position</th>\n",
       "      <th>Team</th>\n",
       "      <th>Played</th>\n",
       "      <th>Won</th>\n",
       "      <th>Drawn</th>\n",
       "      <th>Lost</th>\n",
       "      <th>Goals for</th>\n",
       "      <th>Goals against</th>\n",
       "      <th>Goal difference</th>\n",
       "      <th>Points</th>\n",
       "      <th>Group</th>\n",
       "      <th>Confederation</th>\n",
       "      <th>Country</th>\n",
       "    </tr>\n",
       "  </thead>\n",
       "  <tbody>\n",
       "    <tr>\n",
       "      <th>0</th>\n",
       "      <td>0</td>\n",
       "      <td>1</td>\n",
       "      <td>Uruguay</td>\n",
       "      <td>3</td>\n",
       "      <td>3</td>\n",
       "      <td>0</td>\n",
       "      <td>0</td>\n",
       "      <td>5</td>\n",
       "      <td>0</td>\n",
       "      <td>5</td>\n",
       "      <td>9</td>\n",
       "      <td>A</td>\n",
       "      <td>CONMEBOL</td>\n",
       "      <td>Uruguay</td>\n",
       "    </tr>\n",
       "    <tr>\n",
       "      <th>1</th>\n",
       "      <td>1</td>\n",
       "      <td>2</td>\n",
       "      <td>Russia</td>\n",
       "      <td>3</td>\n",
       "      <td>2</td>\n",
       "      <td>0</td>\n",
       "      <td>1</td>\n",
       "      <td>8</td>\n",
       "      <td>4</td>\n",
       "      <td>4</td>\n",
       "      <td>6</td>\n",
       "      <td>A</td>\n",
       "      <td>UEFA</td>\n",
       "      <td>Russia</td>\n",
       "    </tr>\n",
       "    <tr>\n",
       "      <th>2</th>\n",
       "      <td>4</td>\n",
       "      <td>1</td>\n",
       "      <td>Spain</td>\n",
       "      <td>3</td>\n",
       "      <td>1</td>\n",
       "      <td>2</td>\n",
       "      <td>0</td>\n",
       "      <td>6</td>\n",
       "      <td>5</td>\n",
       "      <td>1</td>\n",
       "      <td>5</td>\n",
       "      <td>B</td>\n",
       "      <td>UEFA</td>\n",
       "      <td>Spain</td>\n",
       "    </tr>\n",
       "    <tr>\n",
       "      <th>3</th>\n",
       "      <td>5</td>\n",
       "      <td>2</td>\n",
       "      <td>Portugal</td>\n",
       "      <td>3</td>\n",
       "      <td>1</td>\n",
       "      <td>2</td>\n",
       "      <td>0</td>\n",
       "      <td>5</td>\n",
       "      <td>4</td>\n",
       "      <td>1</td>\n",
       "      <td>5</td>\n",
       "      <td>B</td>\n",
       "      <td>UEFA</td>\n",
       "      <td>Portugal</td>\n",
       "    </tr>\n",
       "    <tr>\n",
       "      <th>4</th>\n",
       "      <td>8</td>\n",
       "      <td>1</td>\n",
       "      <td>France</td>\n",
       "      <td>3</td>\n",
       "      <td>2</td>\n",
       "      <td>1</td>\n",
       "      <td>0</td>\n",
       "      <td>3</td>\n",
       "      <td>1</td>\n",
       "      <td>2</td>\n",
       "      <td>7</td>\n",
       "      <td>C</td>\n",
       "      <td>UEFA</td>\n",
       "      <td>France</td>\n",
       "    </tr>\n",
       "  </tbody>\n",
       "</table>\n",
       "</div>"
      ],
      "text/plain": [
       "   index  Position      Team  Played  Won  Drawn  Lost  Goals for  \\\n",
       "0      0         1   Uruguay       3    3      0     0          5   \n",
       "1      1         2    Russia       3    2      0     1          8   \n",
       "2      4         1     Spain       3    1      2     0          6   \n",
       "3      5         2  Portugal       3    1      2     0          5   \n",
       "4      8         1    France       3    2      1     0          3   \n",
       "\n",
       "   Goals against  Goal difference  Points Group Confederation   Country  \n",
       "0              0                5       9     A      CONMEBOL   Uruguay  \n",
       "1              4                4       6     A          UEFA    Russia  \n",
       "2              5                1       5     B          UEFA     Spain  \n",
       "3              4                1       5     B          UEFA  Portugal  \n",
       "4              1                2       7     C          UEFA    France  "
      ]
     },
     "execution_count": 217,
     "metadata": {},
     "output_type": "execute_result"
    }
   ],
   "source": [
    "#TODO: Reset the index of df_teams_round_16\n",
    "df_teams_round_16_new_index = df_teams_round_16.reset_index()\n",
    "df_teams_round_16_new_index.head()\n",
    "#TODO(Optional): Find out how to reset the index w/o assigning to a variable\n",
    "# df_teams_round_16.reset_index(inplace=True)"
   ]
  },
  {
   "cell_type": "markdown",
   "metadata": {},
   "source": [
    "> Oh, Shoot! Seems like 'index' doesn't want to leave"
   ]
  },
  {
   "cell_type": "code",
   "execution_count": 220,
   "metadata": {},
   "outputs": [
    {
     "data": {
      "text/html": [
       "<div>\n",
       "<style scoped>\n",
       "    .dataframe tbody tr th:only-of-type {\n",
       "        vertical-align: middle;\n",
       "    }\n",
       "\n",
       "    .dataframe tbody tr th {\n",
       "        vertical-align: top;\n",
       "    }\n",
       "\n",
       "    .dataframe thead th {\n",
       "        text-align: right;\n",
       "    }\n",
       "</style>\n",
       "<table border=\"1\" class=\"dataframe\">\n",
       "  <thead>\n",
       "    <tr style=\"text-align: right;\">\n",
       "      <th></th>\n",
       "      <th>Position</th>\n",
       "      <th>Team</th>\n",
       "      <th>Played</th>\n",
       "      <th>Won</th>\n",
       "      <th>Drawn</th>\n",
       "      <th>Lost</th>\n",
       "      <th>Goals for</th>\n",
       "      <th>Goals against</th>\n",
       "      <th>Goal difference</th>\n",
       "      <th>Points</th>\n",
       "      <th>Group</th>\n",
       "      <th>Confederation</th>\n",
       "      <th>Country</th>\n",
       "    </tr>\n",
       "  </thead>\n",
       "  <tbody>\n",
       "    <tr>\n",
       "      <th>0</th>\n",
       "      <td>1</td>\n",
       "      <td>Uruguay</td>\n",
       "      <td>3</td>\n",
       "      <td>3</td>\n",
       "      <td>0</td>\n",
       "      <td>0</td>\n",
       "      <td>5</td>\n",
       "      <td>0</td>\n",
       "      <td>5</td>\n",
       "      <td>9</td>\n",
       "      <td>A</td>\n",
       "      <td>CONMEBOL</td>\n",
       "      <td>Uruguay</td>\n",
       "    </tr>\n",
       "    <tr>\n",
       "      <th>1</th>\n",
       "      <td>2</td>\n",
       "      <td>Russia</td>\n",
       "      <td>3</td>\n",
       "      <td>2</td>\n",
       "      <td>0</td>\n",
       "      <td>1</td>\n",
       "      <td>8</td>\n",
       "      <td>4</td>\n",
       "      <td>4</td>\n",
       "      <td>6</td>\n",
       "      <td>A</td>\n",
       "      <td>UEFA</td>\n",
       "      <td>Russia</td>\n",
       "    </tr>\n",
       "    <tr>\n",
       "      <th>2</th>\n",
       "      <td>1</td>\n",
       "      <td>Spain</td>\n",
       "      <td>3</td>\n",
       "      <td>1</td>\n",
       "      <td>2</td>\n",
       "      <td>0</td>\n",
       "      <td>6</td>\n",
       "      <td>5</td>\n",
       "      <td>1</td>\n",
       "      <td>5</td>\n",
       "      <td>B</td>\n",
       "      <td>UEFA</td>\n",
       "      <td>Spain</td>\n",
       "    </tr>\n",
       "    <tr>\n",
       "      <th>3</th>\n",
       "      <td>2</td>\n",
       "      <td>Portugal</td>\n",
       "      <td>3</td>\n",
       "      <td>1</td>\n",
       "      <td>2</td>\n",
       "      <td>0</td>\n",
       "      <td>5</td>\n",
       "      <td>4</td>\n",
       "      <td>1</td>\n",
       "      <td>5</td>\n",
       "      <td>B</td>\n",
       "      <td>UEFA</td>\n",
       "      <td>Portugal</td>\n",
       "    </tr>\n",
       "    <tr>\n",
       "      <th>4</th>\n",
       "      <td>1</td>\n",
       "      <td>France</td>\n",
       "      <td>3</td>\n",
       "      <td>2</td>\n",
       "      <td>1</td>\n",
       "      <td>0</td>\n",
       "      <td>3</td>\n",
       "      <td>1</td>\n",
       "      <td>2</td>\n",
       "      <td>7</td>\n",
       "      <td>C</td>\n",
       "      <td>UEFA</td>\n",
       "      <td>France</td>\n",
       "    </tr>\n",
       "    <tr>\n",
       "      <th>5</th>\n",
       "      <td>2</td>\n",
       "      <td>Denmark</td>\n",
       "      <td>3</td>\n",
       "      <td>1</td>\n",
       "      <td>2</td>\n",
       "      <td>0</td>\n",
       "      <td>2</td>\n",
       "      <td>1</td>\n",
       "      <td>1</td>\n",
       "      <td>5</td>\n",
       "      <td>C</td>\n",
       "      <td>UEFA</td>\n",
       "      <td>Denmark</td>\n",
       "    </tr>\n",
       "    <tr>\n",
       "      <th>6</th>\n",
       "      <td>1</td>\n",
       "      <td>Croatia</td>\n",
       "      <td>3</td>\n",
       "      <td>3</td>\n",
       "      <td>0</td>\n",
       "      <td>0</td>\n",
       "      <td>7</td>\n",
       "      <td>1</td>\n",
       "      <td>6</td>\n",
       "      <td>9</td>\n",
       "      <td>D</td>\n",
       "      <td>UEFA</td>\n",
       "      <td>Croatia</td>\n",
       "    </tr>\n",
       "    <tr>\n",
       "      <th>7</th>\n",
       "      <td>2</td>\n",
       "      <td>Argentina</td>\n",
       "      <td>3</td>\n",
       "      <td>1</td>\n",
       "      <td>1</td>\n",
       "      <td>1</td>\n",
       "      <td>3</td>\n",
       "      <td>5</td>\n",
       "      <td>-2</td>\n",
       "      <td>4</td>\n",
       "      <td>D</td>\n",
       "      <td>CONMEBOL</td>\n",
       "      <td>Argentina</td>\n",
       "    </tr>\n",
       "    <tr>\n",
       "      <th>8</th>\n",
       "      <td>1</td>\n",
       "      <td>Brazil</td>\n",
       "      <td>3</td>\n",
       "      <td>2</td>\n",
       "      <td>1</td>\n",
       "      <td>0</td>\n",
       "      <td>5</td>\n",
       "      <td>1</td>\n",
       "      <td>4</td>\n",
       "      <td>7</td>\n",
       "      <td>E</td>\n",
       "      <td>CONMEBOL</td>\n",
       "      <td>Brazil</td>\n",
       "    </tr>\n",
       "    <tr>\n",
       "      <th>9</th>\n",
       "      <td>2</td>\n",
       "      <td>Switzerland</td>\n",
       "      <td>3</td>\n",
       "      <td>1</td>\n",
       "      <td>2</td>\n",
       "      <td>0</td>\n",
       "      <td>5</td>\n",
       "      <td>4</td>\n",
       "      <td>1</td>\n",
       "      <td>5</td>\n",
       "      <td>E</td>\n",
       "      <td>UEFA</td>\n",
       "      <td>Switzerland</td>\n",
       "    </tr>\n",
       "    <tr>\n",
       "      <th>10</th>\n",
       "      <td>1</td>\n",
       "      <td>Sweden</td>\n",
       "      <td>3</td>\n",
       "      <td>2</td>\n",
       "      <td>0</td>\n",
       "      <td>1</td>\n",
       "      <td>5</td>\n",
       "      <td>2</td>\n",
       "      <td>3</td>\n",
       "      <td>6</td>\n",
       "      <td>F</td>\n",
       "      <td>UEFA</td>\n",
       "      <td>Sweden</td>\n",
       "    </tr>\n",
       "    <tr>\n",
       "      <th>11</th>\n",
       "      <td>2</td>\n",
       "      <td>Mexico</td>\n",
       "      <td>3</td>\n",
       "      <td>2</td>\n",
       "      <td>0</td>\n",
       "      <td>1</td>\n",
       "      <td>3</td>\n",
       "      <td>4</td>\n",
       "      <td>-1</td>\n",
       "      <td>6</td>\n",
       "      <td>F</td>\n",
       "      <td>CONCACAF</td>\n",
       "      <td>Mexico</td>\n",
       "    </tr>\n",
       "    <tr>\n",
       "      <th>12</th>\n",
       "      <td>1</td>\n",
       "      <td>Belgium</td>\n",
       "      <td>3</td>\n",
       "      <td>3</td>\n",
       "      <td>0</td>\n",
       "      <td>0</td>\n",
       "      <td>9</td>\n",
       "      <td>2</td>\n",
       "      <td>7</td>\n",
       "      <td>9</td>\n",
       "      <td>G</td>\n",
       "      <td>UEFA</td>\n",
       "      <td>Belgium</td>\n",
       "    </tr>\n",
       "    <tr>\n",
       "      <th>13</th>\n",
       "      <td>2</td>\n",
       "      <td>England</td>\n",
       "      <td>3</td>\n",
       "      <td>2</td>\n",
       "      <td>0</td>\n",
       "      <td>1</td>\n",
       "      <td>8</td>\n",
       "      <td>3</td>\n",
       "      <td>5</td>\n",
       "      <td>6</td>\n",
       "      <td>G</td>\n",
       "      <td>UEFA</td>\n",
       "      <td>England</td>\n",
       "    </tr>\n",
       "    <tr>\n",
       "      <th>14</th>\n",
       "      <td>1</td>\n",
       "      <td>Colombia</td>\n",
       "      <td>3</td>\n",
       "      <td>2</td>\n",
       "      <td>0</td>\n",
       "      <td>1</td>\n",
       "      <td>5</td>\n",
       "      <td>2</td>\n",
       "      <td>3</td>\n",
       "      <td>6</td>\n",
       "      <td>H</td>\n",
       "      <td>CONMEBOL</td>\n",
       "      <td>Colombia</td>\n",
       "    </tr>\n",
       "    <tr>\n",
       "      <th>15</th>\n",
       "      <td>2</td>\n",
       "      <td>Japan</td>\n",
       "      <td>3</td>\n",
       "      <td>1</td>\n",
       "      <td>1</td>\n",
       "      <td>1</td>\n",
       "      <td>4</td>\n",
       "      <td>4</td>\n",
       "      <td>0</td>\n",
       "      <td>4</td>\n",
       "      <td>H</td>\n",
       "      <td>AFC</td>\n",
       "      <td>Japan</td>\n",
       "    </tr>\n",
       "  </tbody>\n",
       "</table>\n",
       "</div>"
      ],
      "text/plain": [
       "    Position         Team  Played  Won  Drawn  Lost  Goals for  Goals against  \\\n",
       "0          1      Uruguay       3    3      0     0          5              0   \n",
       "1          2       Russia       3    2      0     1          8              4   \n",
       "2          1        Spain       3    1      2     0          6              5   \n",
       "3          2     Portugal       3    1      2     0          5              4   \n",
       "4          1       France       3    2      1     0          3              1   \n",
       "5          2      Denmark       3    1      2     0          2              1   \n",
       "6          1      Croatia       3    3      0     0          7              1   \n",
       "7          2    Argentina       3    1      1     1          3              5   \n",
       "8          1       Brazil       3    2      1     0          5              1   \n",
       "9          2  Switzerland       3    1      2     0          5              4   \n",
       "10         1       Sweden       3    2      0     1          5              2   \n",
       "11         2       Mexico       3    2      0     1          3              4   \n",
       "12         1      Belgium       3    3      0     0          9              2   \n",
       "13         2      England       3    2      0     1          8              3   \n",
       "14         1     Colombia       3    2      0     1          5              2   \n",
       "15         2        Japan       3    1      1     1          4              4   \n",
       "\n",
       "    Goal difference  Points Group Confederation      Country  \n",
       "0                 5       9     A      CONMEBOL      Uruguay  \n",
       "1                 4       6     A          UEFA       Russia  \n",
       "2                 1       5     B          UEFA        Spain  \n",
       "3                 1       5     B          UEFA     Portugal  \n",
       "4                 2       7     C          UEFA       France  \n",
       "5                 1       5     C          UEFA      Denmark  \n",
       "6                 6       9     D          UEFA      Croatia  \n",
       "7                -2       4     D      CONMEBOL    Argentina  \n",
       "8                 4       7     E      CONMEBOL       Brazil  \n",
       "9                 1       5     E          UEFA  Switzerland  \n",
       "10                3       6     F          UEFA       Sweden  \n",
       "11               -1       6     F      CONCACAF       Mexico  \n",
       "12                7       9     G          UEFA      Belgium  \n",
       "13                5       6     G          UEFA      England  \n",
       "14                3       6     H      CONMEBOL     Colombia  \n",
       "15                0       4     H           AFC        Japan  "
      ]
     },
     "execution_count": 220,
     "metadata": {},
     "output_type": "execute_result"
    }
   ],
   "source": [
    "# TODO: Remove the index column\n",
    "df_teams_round_16_go_back_index = df_teams_round_16_new_index.drop(columns='index')\n",
    "df_teams_round_16_go_back_index"
   ]
  },
  {
   "cell_type": "code",
   "execution_count": 222,
   "metadata": {},
   "outputs": [
    {
     "data": {
      "text/plain": [
       "Team      England\n",
       "Points          6\n",
       "Name: 25, dtype: object"
      ]
     },
     "execution_count": 222,
     "metadata": {},
     "output_type": "execute_result"
    }
   ],
   "source": [
    "# TODO: Find the name and points of the team that qualified with the least 'Points'\n",
    "lucky_team_round_16_index = df_teams_round_16['Points'].idxmin()\n",
    "lucky_team_round_16_name = df_teams_round_16.iloc[lucky_team_round_16_index][['Team', 'Points']]\n",
    "lucky_team_round_16_name\n",
    "\n",
    "#TODO(Optional): You might have found out there is more than one team with the lowest\n",
    "# qualification points. Write a function to select all those teams rather than only the first one"
   ]
  },
  {
   "cell_type": "code",
   "execution_count": 223,
   "metadata": {},
   "outputs": [
    {
     "data": {
      "text/plain": [
       "UEFA        10\n",
       "CONMEBOL     4\n",
       "CONCACAF     1\n",
       "AFC          1\n",
       "Name: Confederation, dtype: int64"
      ]
     },
     "execution_count": 223,
     "metadata": {},
     "output_type": "execute_result"
    }
   ],
   "source": [
    "# TODO: Find which confederation had the most qualifying teams\n",
    "df_teams_round_16['Confederation'].value_counts()"
   ]
  },
  {
   "cell_type": "code",
   "execution_count": null,
   "metadata": {},
   "outputs": [],
   "source": [
    "# TODO: Display a bar plot with showing the no.of teams in each confederation\n"
   ]
  },
  {
   "cell_type": "code",
   "execution_count": 226,
   "metadata": {},
   "outputs": [
    {
     "data": {
      "text/html": [
       "<div>\n",
       "<style scoped>\n",
       "    .dataframe tbody tr th:only-of-type {\n",
       "        vertical-align: middle;\n",
       "    }\n",
       "\n",
       "    .dataframe tbody tr th {\n",
       "        vertical-align: top;\n",
       "    }\n",
       "\n",
       "    .dataframe thead th {\n",
       "        text-align: right;\n",
       "    }\n",
       "</style>\n",
       "<table border=\"1\" class=\"dataframe\">\n",
       "  <thead>\n",
       "    <tr style=\"text-align: right;\">\n",
       "      <th></th>\n",
       "      <th>Position</th>\n",
       "      <th>Team</th>\n",
       "      <th>Played</th>\n",
       "      <th>Won</th>\n",
       "      <th>Drawn</th>\n",
       "      <th>Lost</th>\n",
       "      <th>Goals for</th>\n",
       "      <th>Goals against</th>\n",
       "      <th>Goal difference</th>\n",
       "      <th>Points</th>\n",
       "      <th>Group</th>\n",
       "      <th>Confederation</th>\n",
       "      <th>Country</th>\n",
       "    </tr>\n",
       "  </thead>\n",
       "  <tbody>\n",
       "    <tr>\n",
       "      <th>0</th>\n",
       "      <td>1</td>\n",
       "      <td>Uruguay</td>\n",
       "      <td>3</td>\n",
       "      <td>3</td>\n",
       "      <td>0</td>\n",
       "      <td>0</td>\n",
       "      <td>5</td>\n",
       "      <td>0</td>\n",
       "      <td>5</td>\n",
       "      <td>9</td>\n",
       "      <td>A</td>\n",
       "      <td>CONMEBOL</td>\n",
       "      <td>Uruguay</td>\n",
       "    </tr>\n",
       "    <tr>\n",
       "      <th>6</th>\n",
       "      <td>1</td>\n",
       "      <td>Croatia</td>\n",
       "      <td>3</td>\n",
       "      <td>3</td>\n",
       "      <td>0</td>\n",
       "      <td>0</td>\n",
       "      <td>7</td>\n",
       "      <td>1</td>\n",
       "      <td>6</td>\n",
       "      <td>9</td>\n",
       "      <td>D</td>\n",
       "      <td>UEFA</td>\n",
       "      <td>Croatia</td>\n",
       "    </tr>\n",
       "    <tr>\n",
       "      <th>12</th>\n",
       "      <td>1</td>\n",
       "      <td>Belgium</td>\n",
       "      <td>3</td>\n",
       "      <td>3</td>\n",
       "      <td>0</td>\n",
       "      <td>0</td>\n",
       "      <td>9</td>\n",
       "      <td>2</td>\n",
       "      <td>7</td>\n",
       "      <td>9</td>\n",
       "      <td>G</td>\n",
       "      <td>UEFA</td>\n",
       "      <td>Belgium</td>\n",
       "    </tr>\n",
       "  </tbody>\n",
       "</table>\n",
       "</div>"
      ],
      "text/plain": [
       "    Position     Team  Played  Won  Drawn  Lost  Goals for  Goals against  \\\n",
       "0          1  Uruguay       3    3      0     0          5              0   \n",
       "6          1  Croatia       3    3      0     0          7              1   \n",
       "12         1  Belgium       3    3      0     0          9              2   \n",
       "\n",
       "    Goal difference  Points Group Confederation  Country  \n",
       "0                 5       9     A      CONMEBOL  Uruguay  \n",
       "6                 6       9     D          UEFA  Croatia  \n",
       "12                7       9     G          UEFA  Belgium  "
      ]
     },
     "execution_count": 226,
     "metadata": {},
     "output_type": "execute_result"
    }
   ],
   "source": [
    "# TODO: Find teams that won all the 3 games they played\n",
    "df_teams_on_a_roll = df_teams_round_16_go_back_index[df_teams_round_16_go_back_index['Won'] == 3]\n",
    "df_teams_on_a_roll"
   ]
  },
  {
   "cell_type": "code",
   "execution_count": 204,
   "metadata": {},
   "outputs": [
    {
     "data": {
      "text/html": [
       "<div>\n",
       "<style scoped>\n",
       "    .dataframe tbody tr th:only-of-type {\n",
       "        vertical-align: middle;\n",
       "    }\n",
       "\n",
       "    .dataframe tbody tr th {\n",
       "        vertical-align: top;\n",
       "    }\n",
       "\n",
       "    .dataframe thead th {\n",
       "        text-align: right;\n",
       "    }\n",
       "</style>\n",
       "<table border=\"1\" class=\"dataframe\">\n",
       "  <thead>\n",
       "    <tr style=\"text-align: right;\">\n",
       "      <th></th>\n",
       "      <th>index</th>\n",
       "      <th>Position</th>\n",
       "      <th>Team</th>\n",
       "      <th>Played</th>\n",
       "      <th>Won</th>\n",
       "      <th>Drawn</th>\n",
       "      <th>Lost</th>\n",
       "      <th>Goals for</th>\n",
       "      <th>Goals against</th>\n",
       "      <th>Goal difference</th>\n",
       "      <th>Points</th>\n",
       "      <th>Group</th>\n",
       "      <th>Confederation</th>\n",
       "      <th>Country</th>\n",
       "    </tr>\n",
       "  </thead>\n",
       "  <tbody>\n",
       "    <tr>\n",
       "      <th>0</th>\n",
       "      <td>0</td>\n",
       "      <td>1</td>\n",
       "      <td>Uruguay</td>\n",
       "      <td>3</td>\n",
       "      <td>3</td>\n",
       "      <td>0</td>\n",
       "      <td>0</td>\n",
       "      <td>5</td>\n",
       "      <td>0</td>\n",
       "      <td>5</td>\n",
       "      <td>9</td>\n",
       "      <td>A</td>\n",
       "      <td>CONMEBOL</td>\n",
       "      <td>Uruguay</td>\n",
       "    </tr>\n",
       "    <tr>\n",
       "      <th>1</th>\n",
       "      <td>1</td>\n",
       "      <td>2</td>\n",
       "      <td>Russia</td>\n",
       "      <td>3</td>\n",
       "      <td>2</td>\n",
       "      <td>0</td>\n",
       "      <td>1</td>\n",
       "      <td>8</td>\n",
       "      <td>4</td>\n",
       "      <td>4</td>\n",
       "      <td>6</td>\n",
       "      <td>A</td>\n",
       "      <td>UEFA</td>\n",
       "      <td>Russia</td>\n",
       "    </tr>\n",
       "    <tr>\n",
       "      <th>2</th>\n",
       "      <td>4</td>\n",
       "      <td>1</td>\n",
       "      <td>Spain</td>\n",
       "      <td>3</td>\n",
       "      <td>1</td>\n",
       "      <td>2</td>\n",
       "      <td>0</td>\n",
       "      <td>6</td>\n",
       "      <td>5</td>\n",
       "      <td>1</td>\n",
       "      <td>5</td>\n",
       "      <td>B</td>\n",
       "      <td>UEFA</td>\n",
       "      <td>Spain</td>\n",
       "    </tr>\n",
       "    <tr>\n",
       "      <th>3</th>\n",
       "      <td>5</td>\n",
       "      <td>2</td>\n",
       "      <td>Portugal</td>\n",
       "      <td>3</td>\n",
       "      <td>1</td>\n",
       "      <td>2</td>\n",
       "      <td>0</td>\n",
       "      <td>5</td>\n",
       "      <td>4</td>\n",
       "      <td>1</td>\n",
       "      <td>5</td>\n",
       "      <td>B</td>\n",
       "      <td>UEFA</td>\n",
       "      <td>Portugal</td>\n",
       "    </tr>\n",
       "    <tr>\n",
       "      <th>4</th>\n",
       "      <td>8</td>\n",
       "      <td>1</td>\n",
       "      <td>France</td>\n",
       "      <td>3</td>\n",
       "      <td>2</td>\n",
       "      <td>1</td>\n",
       "      <td>0</td>\n",
       "      <td>3</td>\n",
       "      <td>1</td>\n",
       "      <td>2</td>\n",
       "      <td>7</td>\n",
       "      <td>C</td>\n",
       "      <td>UEFA</td>\n",
       "      <td>France</td>\n",
       "    </tr>\n",
       "  </tbody>\n",
       "</table>\n",
       "</div>"
      ],
      "text/plain": [
       "   index  Position      Team  Played  Won  Drawn  Lost  Goals for  \\\n",
       "0      0         1   Uruguay       3    3      0     0          5   \n",
       "1      1         2    Russia       3    2      0     1          8   \n",
       "2      4         1     Spain       3    1      2     0          6   \n",
       "3      5         2  Portugal       3    1      2     0          5   \n",
       "4      8         1    France       3    2      1     0          3   \n",
       "\n",
       "   Goals against  Goal difference  Points Group Confederation   Country  \n",
       "0              0                5       9     A      CONMEBOL   Uruguay  \n",
       "1              4                4       6     A          UEFA    Russia  \n",
       "2              5                1       5     B          UEFA     Spain  \n",
       "3              4                1       5     B          UEFA  Portugal  \n",
       "4              1                2       7     C          UEFA    France  "
      ]
     },
     "execution_count": 204,
     "metadata": {},
     "output_type": "execute_result"
    }
   ],
   "source": [
    "df_teams_round_16.head()"
   ]
  },
  {
   "cell_type": "code",
   "execution_count": 245,
   "metadata": {},
   "outputs": [
    {
     "data": {
      "text/plain": [
       "Position\n",
       "1    45\n",
       "2    38\n",
       "Name: Goals for, dtype: int64"
      ]
     },
     "execution_count": 245,
     "metadata": {},
     "output_type": "execute_result"
    }
   ],
   "source": [
    "# TODO: Find the total goals scored grouped by the team 'Position'\n",
    "# 1. Group the data rows by appropriate column - \n",
    "# https://pandas.pydata.org/pandas-docs/stable/reference/api/pandas.DataFrame.groupby.html\n",
    "# 2. Use a 'sum' aggregation to get the count of goals scored in each group\n",
    "# https://pandas.pydata.org/pandas-docs/stable/reference/api/pandas.DataFrame.aggregate.html\n",
    "\n",
    "df_teams_round_16.groupby('Position')['Goals for'].agg('sum')\n",
    "\n",
    "# TODO(optional): Find out how to do this w/o using df.agg() function"
   ]
  },
  {
   "cell_type": "code",
   "execution_count": 241,
   "metadata": {},
   "outputs": [
    {
     "data": {
      "text/html": [
       "<div>\n",
       "<style scoped>\n",
       "    .dataframe tbody tr th:only-of-type {\n",
       "        vertical-align: middle;\n",
       "    }\n",
       "\n",
       "    .dataframe tbody tr th {\n",
       "        vertical-align: top;\n",
       "    }\n",
       "\n",
       "    .dataframe thead tr th {\n",
       "        text-align: left;\n",
       "    }\n",
       "\n",
       "    .dataframe thead tr:last-of-type th {\n",
       "        text-align: right;\n",
       "    }\n",
       "</style>\n",
       "<table border=\"1\" class=\"dataframe\">\n",
       "  <thead>\n",
       "    <tr>\n",
       "      <th></th>\n",
       "      <th colspan=\"2\" halign=\"left\">Goals for</th>\n",
       "      <th colspan=\"2\" halign=\"left\">Points</th>\n",
       "    </tr>\n",
       "    <tr>\n",
       "      <th></th>\n",
       "      <th>count</th>\n",
       "      <th>max</th>\n",
       "      <th>count</th>\n",
       "      <th>max</th>\n",
       "    </tr>\n",
       "    <tr>\n",
       "      <th>Group</th>\n",
       "      <th></th>\n",
       "      <th></th>\n",
       "      <th></th>\n",
       "      <th></th>\n",
       "    </tr>\n",
       "  </thead>\n",
       "  <tbody>\n",
       "    <tr>\n",
       "      <th>A</th>\n",
       "      <td>2</td>\n",
       "      <td>8</td>\n",
       "      <td>2</td>\n",
       "      <td>9</td>\n",
       "    </tr>\n",
       "    <tr>\n",
       "      <th>B</th>\n",
       "      <td>2</td>\n",
       "      <td>6</td>\n",
       "      <td>2</td>\n",
       "      <td>5</td>\n",
       "    </tr>\n",
       "    <tr>\n",
       "      <th>C</th>\n",
       "      <td>2</td>\n",
       "      <td>3</td>\n",
       "      <td>2</td>\n",
       "      <td>7</td>\n",
       "    </tr>\n",
       "    <tr>\n",
       "      <th>D</th>\n",
       "      <td>2</td>\n",
       "      <td>7</td>\n",
       "      <td>2</td>\n",
       "      <td>9</td>\n",
       "    </tr>\n",
       "    <tr>\n",
       "      <th>E</th>\n",
       "      <td>2</td>\n",
       "      <td>5</td>\n",
       "      <td>2</td>\n",
       "      <td>7</td>\n",
       "    </tr>\n",
       "    <tr>\n",
       "      <th>F</th>\n",
       "      <td>2</td>\n",
       "      <td>5</td>\n",
       "      <td>2</td>\n",
       "      <td>6</td>\n",
       "    </tr>\n",
       "    <tr>\n",
       "      <th>G</th>\n",
       "      <td>2</td>\n",
       "      <td>9</td>\n",
       "      <td>2</td>\n",
       "      <td>9</td>\n",
       "    </tr>\n",
       "    <tr>\n",
       "      <th>H</th>\n",
       "      <td>2</td>\n",
       "      <td>5</td>\n",
       "      <td>2</td>\n",
       "      <td>6</td>\n",
       "    </tr>\n",
       "  </tbody>\n",
       "</table>\n",
       "</div>"
      ],
      "text/plain": [
       "      Goals for     Points    \n",
       "          count max  count max\n",
       "Group                         \n",
       "A             2   8      2   9\n",
       "B             2   6      2   5\n",
       "C             2   3      2   7\n",
       "D             2   7      2   9\n",
       "E             2   5      2   7\n",
       "F             2   5      2   6\n",
       "G             2   9      2   9\n",
       "H             2   5      2   6"
      ]
     },
     "execution_count": 241,
     "metadata": {},
     "output_type": "execute_result"
    }
   ],
   "source": [
    "# TODO: Create a table with the average and max values of 'Goals for' and 'Points' in each group\n",
    "df_teams_round_16_go_back_index.groupby('Group')[['Goals for', 'Points']].agg(['mean', 'max'])\n",
    "\n",
    "# TODO(Optional): Find out how to do this using a Pivot table\n",
    "# df_teams_round_16_go_back_index.pivot_table(['Goals for', 'Points'], 'Group', aggfunc=['mean', 'max'])"
   ]
  },
  {
   "cell_type": "markdown",
   "metadata": {},
   "source": [
    "<hr>"
   ]
  },
  {
   "cell_type": "code",
   "execution_count": null,
   "metadata": {},
   "outputs": [],
   "source": []
  },
  {
   "cell_type": "code",
   "execution_count": null,
   "metadata": {},
   "outputs": [],
   "source": []
  },
  {
   "cell_type": "code",
   "execution_count": null,
   "metadata": {},
   "outputs": [],
   "source": []
  },
  {
   "cell_type": "code",
   "execution_count": null,
   "metadata": {},
   "outputs": [],
   "source": []
  },
  {
   "cell_type": "code",
   "execution_count": null,
   "metadata": {},
   "outputs": [],
   "source": [
    "Solarized dark             |  Solarized Ocean\n",
    ":-------------------------:|:-------------------------:\n",
    "![](https://drive.google.com/uc?export=view&id=105CHEVsaUtU2iRPYSXCcb8rCQuGrTNaV)  |  ![](https://drive.google.com/uc?export=view&id=1Iak8Bf5yB1Ni6KKZAqcZ-z90A60FBpDB)\n",
    "\n",
    "<p align=\"center\" style=\"text-align:center\">\n",
    "  <img src=\"https://drive.google.com/uc?export=view&id=15oyqKXDZn8IJRY1pokvmbhx3A6R-qU4g\" alt=\"CNN\" width=\"720p\">\n",
    "</p>\n",
    "<p align=\"center\" style=\"text-align:center\"> Source: Wikipedia </p>\n",
    "\n",
    "\n",
    "<!-- <p float=\"left\" align=\"center\">\n",
    "  <img src=\"https://drive.google.com/uc?export=view&id=1GojYKDvZCAZQ2m8gvttxEXusdjaupJ70\" alt=\"CNN\" width=\"49%\">\n",
    "  \n",
    "  <img src=\"https://drive.google.com/uc?export=view&id=1EW-r7ACnanbM97fcyOOthrma2zzxRsv_\" alt=\"CNN\" width=\"49%\">\n",
    "</p>\n",
    "<p align=\"center\" style=\"text-align:center\"> Source: Wikipedia </p> -->\n",
    "\n",
    "''' Video https://gist.github.com/christopherlovell/e3e70880c0b0ad666e7b5fe311320a62\n",
    "\n",
    "from IPython.display import HTML\n",
    "\n",
    "# Youtube\n",
    "HTML('<iframe width=\"560\" height=\"315\" src=\"https://www.youtube.com/embed/lMA48vIxajE?rel=0&amp;controls=0&amp;showinfo=0\" frameborder=\"0\" allowfullscreen></iframe>')\n",
    "\n",
    "# Vimeo\n",
    "HTML('<iframe src=\"https://player.vimeo.com/video/26763844?title=0&byline=0&portrait=0\" width=\"700\" height=\"394\" frameborder=\"0\" webkitallowfullscreen mozallowfullscreen allowfullscreen></iframe><p><a href=\"https://vimeo.com/26763844\">BAXTER DURY - CLAIRE (Dir Cut)</a> from <a href=\"https://vimeo.com/dannysangra\">Danny Sangra</a> on <a href=\"https://vimeo.com\">Vimeo</a>.</p>')\n",
    "'''\n",
    "\n",
    "<!-- Opening console            |  Console Window\n",
    ":-------------------------:|:-------------------------:\n",
    "![](https://drive.google.com/uc?export=view&id=105CHEVsaUtU2iRPYSXCcb8rCQuGrTNaV)  |  ![](https://drive.google.com/uc?export=view&id=1Iak8Bf5yB1Ni6KKZAqcZ-z90A60FBpDB) -->\n",
    "\n",
    "\n",
    "<p style=\"font-size:16px;font-family:helvetica\">\n",
    "So, we have a total of 9 tables and tables 4-11 are 8 consecutive one. It's most likely those are what we need. \n",
    "\n",
    "Nb: \n",
    "<b> Skeptics are welcome to print the contents of Table 17 to ascertain above hypothesis</b>\n",
    "</p>"
   ]
  }
 ],
 "metadata": {
  "kernelspec": {
   "display_name": "Python 3",
   "language": "python",
   "name": "python3"
  },
  "language_info": {
   "codemirror_mode": {
    "name": "ipython",
    "version": 3
   },
   "file_extension": ".py",
   "mimetype": "text/x-python",
   "name": "python",
   "nbconvert_exporter": "python",
   "pygments_lexer": "ipython3",
   "version": "3.6.9"
  }
 },
 "nbformat": 4,
 "nbformat_minor": 2
}
